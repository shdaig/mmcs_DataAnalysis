{
  "nbformat": 4,
  "nbformat_minor": 0,
  "metadata": {
    "colab": {
      "provenance": []
    },
    "kernelspec": {
      "name": "python3",
      "display_name": "Python 3"
    },
    "language_info": {
      "name": "python"
    }
  },
  "cells": [
    {
      "cell_type": "markdown",
      "source": [
        "# Задания"
      ],
      "metadata": {
        "id": "LLJBKkk2Umqi"
      }
    },
    {
      "cell_type": "markdown",
      "source": [
        "### I. Прочитайте пункт “Линейные методы регрессии и классификации” и рекомендованную литературу к нему и ответьте на вопросы:\n",
        "\n",
        "- 1) В каком виде ищется решение в задаче восстановления регрессии? На что\n",
        "влияет коэффициент w0?\n",
        "\n",
        "- 2) Какой вид имеет функция потерь в методе наименьших квадратов?\n",
        "\n",
        "- 3) Как в методе наименьших квадратов находится минимум?\n",
        "\n",
        "- 4) В каком виде ищется решение в задаче классификации? Какой геометрический смысл вектора коэффициентов?\n",
        "\n",
        "- 5) В чем недостаток использования пороговой функции потерь?\n",
        "\n",
        "- 6) Что такое отступ? Когда он бывает положительным и отрицательным? Какую еще информацию можно узнать с помощью него?\n",
        "\n",
        "- 7) Какие бывают функции потерь?"
      ],
      "metadata": {
        "id": "ZBiuEM66UsAP"
      }
    },
    {
      "cell_type": "markdown",
      "source": [
        "### 1) В каком виде ищется решение в задаче восстановления регрессии? На что влияет коэффициент w0?\n",
        "\n",
        "- Решение задачи восстановления регрессии имеет вид линейной функции, являющейся *взвешенной суммой всех признаков* (сумма всех признаков с коэффициентами wi).\n",
        "\n",
        "- Коэффициент w0 отвечает за смещение по оси ординат. (*bias?*)"
      ],
      "metadata": {
        "id": "qAhvRmSxVQDu"
      }
    },
    {
      "cell_type": "markdown",
      "source": [
        "### 2) Какой вид имеет функция потерь в методе наименьших квадратов?\n",
        "\n",
        "- Функцией потерь является сумма квадратов невязок (ошибок) - разностей предсказанного значения ai и таргета yi. (*Squared error*)"
      ],
      "metadata": {
        "id": "zrIy-lsUVTfG"
      }
    },
    {
      "cell_type": "markdown",
      "source": [
        "### 3) Как в методе наименьших квадратов находится минимум?\n",
        "\n",
        "-  Минимум находится посредством дифференцирования функции потерь по вектору параметров w. Производная функции приравнивается к 0 - это точка минимума."
      ],
      "metadata": {
        "id": "CNRy76ZrVTyY"
      }
    },
    {
      "cell_type": "markdown",
      "source": [
        "### 4) В каком виде ищется решение в задаче классификации? Какой геометрический смысл вектора коэффициентов?\n",
        "\n",
        "-  Решение ищется в виде специальной функции sign, которая возрвращает для объекта 1 или -1 в зависимости от того, выше или ниже разделяющей гиперплоскости он находится.\n",
        "\n",
        "- Геометрический смысл состоит в том, что если направляющий вектор *х*\n",
        "к разделяющей два класса гиперплоскости, то если лежит по одну сторону с вектором от гиперплоскости, то скалярное произведение будет больше нуля и точка попадает в класс +1."
      ],
      "metadata": {
        "id": "VVRoz2n6VUHO"
      }
    },
    {
      "cell_type": "markdown",
      "source": [
        "### 5) В чем недостаток использования пороговой функции потерь?\n",
        "\n",
        "- Пороговая функция потерь не даёт информации о величине полученной ошибки.\n",
        "- Её нельзя продифференцировать и приравнять к нулю производные для нахождения параметров w, при которых она минимальна. "
      ],
      "metadata": {
        "id": "5S3GJR0LVUW1"
      }
    },
    {
      "cell_type": "markdown",
      "source": [
        "### 6) Что такое отступ? Когда он бывает положительным и отрицательным? Какую еще информацию можно узнать с помощью него?\n",
        "\n",
        "- Отступ - величина, предоставляющая информацию о (1) наличии ошибки (положителен при отсутствии ошибки, отрицателен при наличии) и (2) величине ошибки - чем больше отступ по модулю, тем дальше объект от гиперплоскости. "
      ],
      "metadata": {
        "id": "7_c8tXB0VUx4"
      }
    },
    {
      "cell_type": "markdown",
      "source": [
        "### 7) Какие бывают функции потерь?\n",
        "\n",
        "- Zero-one loss - 0, 1 - есть ошибка или нет \n",
        "- Hinge loss - L(x) = max(0, 1-y*a)\n",
        "- Perceptron loss\n",
        "- Log loss\n",
        "- Squared hinge loss\n",
        "- Modified Huber loss"
      ],
      "metadata": {
        "id": "AKaXS1McVVBW"
      }
    },
    {
      "cell_type": "markdown",
      "source": [
        "### II. Прочитайте пункт “Метод стохастического градиента” и рекомендованную литературу к нему и ответьте на вопросы:\n",
        "\n",
        "- 1) В чем отличия метода стохастического градиента от метода градиентного\n",
        "спуска?\n",
        "\n",
        "- 2) Зачем делается регуляризация?\n",
        "\n",
        "- 3) Какие параметры можно задавать в методе?\n",
        "\n",
        "- 4) Какие преимущества и недостатки метода стохастического градиента? "
      ],
      "metadata": {
        "id": "MRVatALnWEQM"
      }
    },
    {
      "cell_type": "markdown",
      "source": [
        "### 1) В чем отличия метода стохастического градиента от метода градиентного спуска?\n",
        "\n",
        "- Вектор весов обновляется по одной случайно взятой точке xi, в то время как в градиентном спуске градиент пересчитывается на каждой итерации."
      ],
      "metadata": {
        "id": "pK2oAqEUWyB8"
      }
    },
    {
      "cell_type": "markdown",
      "source": [
        "### 2) Зачем делается регуляризация?\n",
        "\n",
        "- Большие значения весов wi приводит к переобучению модели. Регуляризация делается для сдерживания роста значений wi, что уменьшает риск переобучения модели."
      ],
      "metadata": {
        "id": "BnxGhbbOWz_r"
      }
    },
    {
      "cell_type": "markdown",
      "source": [
        "### 3) Какие параметры можно задавать в методе?\n",
        "\n",
        "- loss - функция потерь. По умолчанию 'hinge'.\n",
        "- penalty - метод регуляризации. По умолчанию 'l2' - сумма квадратов wi.\n",
        "- alpha - коэффициент регуляризации. По умолчанию = 0.0001.\n",
        "- l1_ratio - коэффициент регуляризации при выборе penalty=‘elasticnet’.\n",
        "- learning_rate - темп обучения. По умолчанию 'optimal'.\n",
        "- eta0 - начальный темп обучения для learning_rate='constant', ‘invscaling’ или ‘adaptive’. \n",
        "- *и др.*\n"
      ],
      "metadata": {
        "id": "yjkyecn7W0Sc"
      }
    },
    {
      "cell_type": "markdown",
      "source": [
        "### 4) Какие преимущества и недостатки метода стохастического градиента? \n",
        "\n",
        "*Достоинства:*\n",
        "- Легко реализуется;\n",
        "\n",
        "- Легко обобщается на нелинейные модели g(w,x) и любые функции потерь L(w);\n",
        "\n",
        "- Допускает потоковое обучение, когда не все данные загружаются;\n",
        "\n",
        "- Подходит для больших данных, дает неплохое решение, даже не обработав всю выборку.\n",
        "\n",
        "*Недостатки:*\n",
        "- Возможна расходимость или медленная сходимость;\n",
        "\n",
        "- Застревание в локальных минимумах;\n",
        "\n",
        "- Много параметров, которые нужно настраивать;\n",
        "\n",
        "- Возможно переобучение из-за линейной зависимости признаков."
      ],
      "metadata": {
        "id": "-UDzNO2VW0mM"
      }
    },
    {
      "cell_type": "markdown",
      "source": [
        "### III. Выполните задание из в файла \"statement-linear.pdf \"."
      ],
      "metadata": {
        "id": "5zkqdU10Womv"
      }
    },
    {
      "cell_type": "code",
      "source": [
        "import pandas as pd"
      ],
      "metadata": {
        "id": "oFsYpNf1yA3F"
      },
      "execution_count": null,
      "outputs": []
    },
    {
      "cell_type": "code",
      "source": [
        "#1. Загрузите обучающую и тестовую выборки из файлов perceptron-train.csv и perceptron-test.csv. \n",
        "#   Целевая переменная записана в первом столбце, признаки \u0016 во втором и третьем.\n",
        "\n",
        "train = pd.read_csv('perceptron-train.csv', header=None)\n",
        "test = pd.read_csv('perceptron-test.csv', header=None)"
      ],
      "metadata": {
        "id": "nCV70zDoWr3E"
      },
      "execution_count": null,
      "outputs": []
    },
    {
      "cell_type": "code",
      "source": [
        "Y_train = train.iloc[:,0]\n",
        "X_train = train.iloc[:,1:]"
      ],
      "metadata": {
        "id": "ry8_YWItzGeI"
      },
      "execution_count": null,
      "outputs": []
    },
    {
      "cell_type": "code",
      "source": [
        "train.head(5)"
      ],
      "metadata": {
        "colab": {
          "base_uri": "https://localhost:8080/",
          "height": 206
        },
        "id": "wz1dBgwE2Bcr",
        "outputId": "1c4af497-4580-45c1-a4b6-ad809c2e16a8"
      },
      "execution_count": null,
      "outputs": [
        {
          "output_type": "execute_result",
          "data": {
            "text/plain": [
              "     0         1            2\n",
              "0 -1.0 -0.024626  1174.600238\n",
              "1  1.0 -0.978058  1083.198803\n",
              "2 -1.0  0.314272 -1472.977609\n",
              "3 -1.0  0.179752   231.017267\n",
              "4  1.0 -1.262544  -778.271726"
            ],
            "text/html": [
              "\n",
              "  <div id=\"df-733da524-1c52-4957-9ad3-4e131ef8be01\">\n",
              "    <div class=\"colab-df-container\">\n",
              "      <div>\n",
              "<style scoped>\n",
              "    .dataframe tbody tr th:only-of-type {\n",
              "        vertical-align: middle;\n",
              "    }\n",
              "\n",
              "    .dataframe tbody tr th {\n",
              "        vertical-align: top;\n",
              "    }\n",
              "\n",
              "    .dataframe thead th {\n",
              "        text-align: right;\n",
              "    }\n",
              "</style>\n",
              "<table border=\"1\" class=\"dataframe\">\n",
              "  <thead>\n",
              "    <tr style=\"text-align: right;\">\n",
              "      <th></th>\n",
              "      <th>0</th>\n",
              "      <th>1</th>\n",
              "      <th>2</th>\n",
              "    </tr>\n",
              "  </thead>\n",
              "  <tbody>\n",
              "    <tr>\n",
              "      <th>0</th>\n",
              "      <td>-1.0</td>\n",
              "      <td>-0.024626</td>\n",
              "      <td>1174.600238</td>\n",
              "    </tr>\n",
              "    <tr>\n",
              "      <th>1</th>\n",
              "      <td>1.0</td>\n",
              "      <td>-0.978058</td>\n",
              "      <td>1083.198803</td>\n",
              "    </tr>\n",
              "    <tr>\n",
              "      <th>2</th>\n",
              "      <td>-1.0</td>\n",
              "      <td>0.314272</td>\n",
              "      <td>-1472.977609</td>\n",
              "    </tr>\n",
              "    <tr>\n",
              "      <th>3</th>\n",
              "      <td>-1.0</td>\n",
              "      <td>0.179752</td>\n",
              "      <td>231.017267</td>\n",
              "    </tr>\n",
              "    <tr>\n",
              "      <th>4</th>\n",
              "      <td>1.0</td>\n",
              "      <td>-1.262544</td>\n",
              "      <td>-778.271726</td>\n",
              "    </tr>\n",
              "  </tbody>\n",
              "</table>\n",
              "</div>\n",
              "      <button class=\"colab-df-convert\" onclick=\"convertToInteractive('df-733da524-1c52-4957-9ad3-4e131ef8be01')\"\n",
              "              title=\"Convert this dataframe to an interactive table.\"\n",
              "              style=\"display:none;\">\n",
              "        \n",
              "  <svg xmlns=\"http://www.w3.org/2000/svg\" height=\"24px\"viewBox=\"0 0 24 24\"\n",
              "       width=\"24px\">\n",
              "    <path d=\"M0 0h24v24H0V0z\" fill=\"none\"/>\n",
              "    <path d=\"M18.56 5.44l.94 2.06.94-2.06 2.06-.94-2.06-.94-.94-2.06-.94 2.06-2.06.94zm-11 1L8.5 8.5l.94-2.06 2.06-.94-2.06-.94L8.5 2.5l-.94 2.06-2.06.94zm10 10l.94 2.06.94-2.06 2.06-.94-2.06-.94-.94-2.06-.94 2.06-2.06.94z\"/><path d=\"M17.41 7.96l-1.37-1.37c-.4-.4-.92-.59-1.43-.59-.52 0-1.04.2-1.43.59L10.3 9.45l-7.72 7.72c-.78.78-.78 2.05 0 2.83L4 21.41c.39.39.9.59 1.41.59.51 0 1.02-.2 1.41-.59l7.78-7.78 2.81-2.81c.8-.78.8-2.07 0-2.86zM5.41 20L4 18.59l7.72-7.72 1.47 1.35L5.41 20z\"/>\n",
              "  </svg>\n",
              "      </button>\n",
              "      \n",
              "  <style>\n",
              "    .colab-df-container {\n",
              "      display:flex;\n",
              "      flex-wrap:wrap;\n",
              "      gap: 12px;\n",
              "    }\n",
              "\n",
              "    .colab-df-convert {\n",
              "      background-color: #E8F0FE;\n",
              "      border: none;\n",
              "      border-radius: 50%;\n",
              "      cursor: pointer;\n",
              "      display: none;\n",
              "      fill: #1967D2;\n",
              "      height: 32px;\n",
              "      padding: 0 0 0 0;\n",
              "      width: 32px;\n",
              "    }\n",
              "\n",
              "    .colab-df-convert:hover {\n",
              "      background-color: #E2EBFA;\n",
              "      box-shadow: 0px 1px 2px rgba(60, 64, 67, 0.3), 0px 1px 3px 1px rgba(60, 64, 67, 0.15);\n",
              "      fill: #174EA6;\n",
              "    }\n",
              "\n",
              "    [theme=dark] .colab-df-convert {\n",
              "      background-color: #3B4455;\n",
              "      fill: #D2E3FC;\n",
              "    }\n",
              "\n",
              "    [theme=dark] .colab-df-convert:hover {\n",
              "      background-color: #434B5C;\n",
              "      box-shadow: 0px 1px 3px 1px rgba(0, 0, 0, 0.15);\n",
              "      filter: drop-shadow(0px 1px 2px rgba(0, 0, 0, 0.3));\n",
              "      fill: #FFFFFF;\n",
              "    }\n",
              "  </style>\n",
              "\n",
              "      <script>\n",
              "        const buttonEl =\n",
              "          document.querySelector('#df-733da524-1c52-4957-9ad3-4e131ef8be01 button.colab-df-convert');\n",
              "        buttonEl.style.display =\n",
              "          google.colab.kernel.accessAllowed ? 'block' : 'none';\n",
              "\n",
              "        async function convertToInteractive(key) {\n",
              "          const element = document.querySelector('#df-733da524-1c52-4957-9ad3-4e131ef8be01');\n",
              "          const dataTable =\n",
              "            await google.colab.kernel.invokeFunction('convertToInteractive',\n",
              "                                                     [key], {});\n",
              "          if (!dataTable) return;\n",
              "\n",
              "          const docLinkHtml = 'Like what you see? Visit the ' +\n",
              "            '<a target=\"_blank\" href=https://colab.research.google.com/notebooks/data_table.ipynb>data table notebook</a>'\n",
              "            + ' to learn more about interactive tables.';\n",
              "          element.innerHTML = '';\n",
              "          dataTable['output_type'] = 'display_data';\n",
              "          await google.colab.output.renderOutput(dataTable, element);\n",
              "          const docLink = document.createElement('div');\n",
              "          docLink.innerHTML = docLinkHtml;\n",
              "          element.appendChild(docLink);\n",
              "        }\n",
              "      </script>\n",
              "    </div>\n",
              "  </div>\n",
              "  "
            ]
          },
          "metadata": {},
          "execution_count": 108
        }
      ]
    },
    {
      "cell_type": "code",
      "source": [
        "Y_train.head(5)"
      ],
      "metadata": {
        "colab": {
          "base_uri": "https://localhost:8080/"
        },
        "id": "Q2qXjMBizQjg",
        "outputId": "05d4c056-873f-4f0c-f252-d84b22aa78c1"
      },
      "execution_count": null,
      "outputs": [
        {
          "output_type": "execute_result",
          "data": {
            "text/plain": [
              "0   -1.0\n",
              "1    1.0\n",
              "2   -1.0\n",
              "3   -1.0\n",
              "4    1.0\n",
              "Name: 0, dtype: float64"
            ]
          },
          "metadata": {},
          "execution_count": 109
        }
      ]
    },
    {
      "cell_type": "code",
      "source": [
        "X_train.head(5)"
      ],
      "metadata": {
        "colab": {
          "base_uri": "https://localhost:8080/",
          "height": 206
        },
        "id": "b58Ewd4bzhYf",
        "outputId": "c7f4ae09-977f-4779-9177-f922b4c0a54c"
      },
      "execution_count": null,
      "outputs": [
        {
          "output_type": "execute_result",
          "data": {
            "text/plain": [
              "          1            2\n",
              "0 -0.024626  1174.600238\n",
              "1 -0.978058  1083.198803\n",
              "2  0.314272 -1472.977609\n",
              "3  0.179752   231.017267\n",
              "4 -1.262544  -778.271726"
            ],
            "text/html": [
              "\n",
              "  <div id=\"df-d1fd4be1-26f9-4763-8283-9043eaabd20a\">\n",
              "    <div class=\"colab-df-container\">\n",
              "      <div>\n",
              "<style scoped>\n",
              "    .dataframe tbody tr th:only-of-type {\n",
              "        vertical-align: middle;\n",
              "    }\n",
              "\n",
              "    .dataframe tbody tr th {\n",
              "        vertical-align: top;\n",
              "    }\n",
              "\n",
              "    .dataframe thead th {\n",
              "        text-align: right;\n",
              "    }\n",
              "</style>\n",
              "<table border=\"1\" class=\"dataframe\">\n",
              "  <thead>\n",
              "    <tr style=\"text-align: right;\">\n",
              "      <th></th>\n",
              "      <th>1</th>\n",
              "      <th>2</th>\n",
              "    </tr>\n",
              "  </thead>\n",
              "  <tbody>\n",
              "    <tr>\n",
              "      <th>0</th>\n",
              "      <td>-0.024626</td>\n",
              "      <td>1174.600238</td>\n",
              "    </tr>\n",
              "    <tr>\n",
              "      <th>1</th>\n",
              "      <td>-0.978058</td>\n",
              "      <td>1083.198803</td>\n",
              "    </tr>\n",
              "    <tr>\n",
              "      <th>2</th>\n",
              "      <td>0.314272</td>\n",
              "      <td>-1472.977609</td>\n",
              "    </tr>\n",
              "    <tr>\n",
              "      <th>3</th>\n",
              "      <td>0.179752</td>\n",
              "      <td>231.017267</td>\n",
              "    </tr>\n",
              "    <tr>\n",
              "      <th>4</th>\n",
              "      <td>-1.262544</td>\n",
              "      <td>-778.271726</td>\n",
              "    </tr>\n",
              "  </tbody>\n",
              "</table>\n",
              "</div>\n",
              "      <button class=\"colab-df-convert\" onclick=\"convertToInteractive('df-d1fd4be1-26f9-4763-8283-9043eaabd20a')\"\n",
              "              title=\"Convert this dataframe to an interactive table.\"\n",
              "              style=\"display:none;\">\n",
              "        \n",
              "  <svg xmlns=\"http://www.w3.org/2000/svg\" height=\"24px\"viewBox=\"0 0 24 24\"\n",
              "       width=\"24px\">\n",
              "    <path d=\"M0 0h24v24H0V0z\" fill=\"none\"/>\n",
              "    <path d=\"M18.56 5.44l.94 2.06.94-2.06 2.06-.94-2.06-.94-.94-2.06-.94 2.06-2.06.94zm-11 1L8.5 8.5l.94-2.06 2.06-.94-2.06-.94L8.5 2.5l-.94 2.06-2.06.94zm10 10l.94 2.06.94-2.06 2.06-.94-2.06-.94-.94-2.06-.94 2.06-2.06.94z\"/><path d=\"M17.41 7.96l-1.37-1.37c-.4-.4-.92-.59-1.43-.59-.52 0-1.04.2-1.43.59L10.3 9.45l-7.72 7.72c-.78.78-.78 2.05 0 2.83L4 21.41c.39.39.9.59 1.41.59.51 0 1.02-.2 1.41-.59l7.78-7.78 2.81-2.81c.8-.78.8-2.07 0-2.86zM5.41 20L4 18.59l7.72-7.72 1.47 1.35L5.41 20z\"/>\n",
              "  </svg>\n",
              "      </button>\n",
              "      \n",
              "  <style>\n",
              "    .colab-df-container {\n",
              "      display:flex;\n",
              "      flex-wrap:wrap;\n",
              "      gap: 12px;\n",
              "    }\n",
              "\n",
              "    .colab-df-convert {\n",
              "      background-color: #E8F0FE;\n",
              "      border: none;\n",
              "      border-radius: 50%;\n",
              "      cursor: pointer;\n",
              "      display: none;\n",
              "      fill: #1967D2;\n",
              "      height: 32px;\n",
              "      padding: 0 0 0 0;\n",
              "      width: 32px;\n",
              "    }\n",
              "\n",
              "    .colab-df-convert:hover {\n",
              "      background-color: #E2EBFA;\n",
              "      box-shadow: 0px 1px 2px rgba(60, 64, 67, 0.3), 0px 1px 3px 1px rgba(60, 64, 67, 0.15);\n",
              "      fill: #174EA6;\n",
              "    }\n",
              "\n",
              "    [theme=dark] .colab-df-convert {\n",
              "      background-color: #3B4455;\n",
              "      fill: #D2E3FC;\n",
              "    }\n",
              "\n",
              "    [theme=dark] .colab-df-convert:hover {\n",
              "      background-color: #434B5C;\n",
              "      box-shadow: 0px 1px 3px 1px rgba(0, 0, 0, 0.15);\n",
              "      filter: drop-shadow(0px 1px 2px rgba(0, 0, 0, 0.3));\n",
              "      fill: #FFFFFF;\n",
              "    }\n",
              "  </style>\n",
              "\n",
              "      <script>\n",
              "        const buttonEl =\n",
              "          document.querySelector('#df-d1fd4be1-26f9-4763-8283-9043eaabd20a button.colab-df-convert');\n",
              "        buttonEl.style.display =\n",
              "          google.colab.kernel.accessAllowed ? 'block' : 'none';\n",
              "\n",
              "        async function convertToInteractive(key) {\n",
              "          const element = document.querySelector('#df-d1fd4be1-26f9-4763-8283-9043eaabd20a');\n",
              "          const dataTable =\n",
              "            await google.colab.kernel.invokeFunction('convertToInteractive',\n",
              "                                                     [key], {});\n",
              "          if (!dataTable) return;\n",
              "\n",
              "          const docLinkHtml = 'Like what you see? Visit the ' +\n",
              "            '<a target=\"_blank\" href=https://colab.research.google.com/notebooks/data_table.ipynb>data table notebook</a>'\n",
              "            + ' to learn more about interactive tables.';\n",
              "          element.innerHTML = '';\n",
              "          dataTable['output_type'] = 'display_data';\n",
              "          await google.colab.output.renderOutput(dataTable, element);\n",
              "          const docLink = document.createElement('div');\n",
              "          docLink.innerHTML = docLinkHtml;\n",
              "          element.appendChild(docLink);\n",
              "        }\n",
              "      </script>\n",
              "    </div>\n",
              "  </div>\n",
              "  "
            ]
          },
          "metadata": {},
          "execution_count": 110
        }
      ]
    },
    {
      "cell_type": "code",
      "source": [
        "Y_test = test.iloc[:,0]\n",
        "X_test = test.iloc[:,1:]"
      ],
      "metadata": {
        "id": "VWu7onFI1Ko0"
      },
      "execution_count": null,
      "outputs": []
    },
    {
      "cell_type": "code",
      "source": [
        "test.head(5)"
      ],
      "metadata": {
        "colab": {
          "base_uri": "https://localhost:8080/",
          "height": 206
        },
        "id": "tjWP-kFL2G7B",
        "outputId": "7b99a2e3-f5dd-4a25-bd0b-fe87912f5021"
      },
      "execution_count": null,
      "outputs": [
        {
          "output_type": "execute_result",
          "data": {
            "text/plain": [
              "     0         1            2\n",
              "0 -1.0  1.651437  1337.453826\n",
              "1  1.0 -0.866495  1191.232457\n",
              "2 -1.0  0.789828  -475.647768\n",
              "3 -1.0  0.179549  1959.095353\n",
              "4  1.0 -0.434351   568.504207"
            ],
            "text/html": [
              "\n",
              "  <div id=\"df-66494b6a-0015-4345-8707-faa5c3ead010\">\n",
              "    <div class=\"colab-df-container\">\n",
              "      <div>\n",
              "<style scoped>\n",
              "    .dataframe tbody tr th:only-of-type {\n",
              "        vertical-align: middle;\n",
              "    }\n",
              "\n",
              "    .dataframe tbody tr th {\n",
              "        vertical-align: top;\n",
              "    }\n",
              "\n",
              "    .dataframe thead th {\n",
              "        text-align: right;\n",
              "    }\n",
              "</style>\n",
              "<table border=\"1\" class=\"dataframe\">\n",
              "  <thead>\n",
              "    <tr style=\"text-align: right;\">\n",
              "      <th></th>\n",
              "      <th>0</th>\n",
              "      <th>1</th>\n",
              "      <th>2</th>\n",
              "    </tr>\n",
              "  </thead>\n",
              "  <tbody>\n",
              "    <tr>\n",
              "      <th>0</th>\n",
              "      <td>-1.0</td>\n",
              "      <td>1.651437</td>\n",
              "      <td>1337.453826</td>\n",
              "    </tr>\n",
              "    <tr>\n",
              "      <th>1</th>\n",
              "      <td>1.0</td>\n",
              "      <td>-0.866495</td>\n",
              "      <td>1191.232457</td>\n",
              "    </tr>\n",
              "    <tr>\n",
              "      <th>2</th>\n",
              "      <td>-1.0</td>\n",
              "      <td>0.789828</td>\n",
              "      <td>-475.647768</td>\n",
              "    </tr>\n",
              "    <tr>\n",
              "      <th>3</th>\n",
              "      <td>-1.0</td>\n",
              "      <td>0.179549</td>\n",
              "      <td>1959.095353</td>\n",
              "    </tr>\n",
              "    <tr>\n",
              "      <th>4</th>\n",
              "      <td>1.0</td>\n",
              "      <td>-0.434351</td>\n",
              "      <td>568.504207</td>\n",
              "    </tr>\n",
              "  </tbody>\n",
              "</table>\n",
              "</div>\n",
              "      <button class=\"colab-df-convert\" onclick=\"convertToInteractive('df-66494b6a-0015-4345-8707-faa5c3ead010')\"\n",
              "              title=\"Convert this dataframe to an interactive table.\"\n",
              "              style=\"display:none;\">\n",
              "        \n",
              "  <svg xmlns=\"http://www.w3.org/2000/svg\" height=\"24px\"viewBox=\"0 0 24 24\"\n",
              "       width=\"24px\">\n",
              "    <path d=\"M0 0h24v24H0V0z\" fill=\"none\"/>\n",
              "    <path d=\"M18.56 5.44l.94 2.06.94-2.06 2.06-.94-2.06-.94-.94-2.06-.94 2.06-2.06.94zm-11 1L8.5 8.5l.94-2.06 2.06-.94-2.06-.94L8.5 2.5l-.94 2.06-2.06.94zm10 10l.94 2.06.94-2.06 2.06-.94-2.06-.94-.94-2.06-.94 2.06-2.06.94z\"/><path d=\"M17.41 7.96l-1.37-1.37c-.4-.4-.92-.59-1.43-.59-.52 0-1.04.2-1.43.59L10.3 9.45l-7.72 7.72c-.78.78-.78 2.05 0 2.83L4 21.41c.39.39.9.59 1.41.59.51 0 1.02-.2 1.41-.59l7.78-7.78 2.81-2.81c.8-.78.8-2.07 0-2.86zM5.41 20L4 18.59l7.72-7.72 1.47 1.35L5.41 20z\"/>\n",
              "  </svg>\n",
              "      </button>\n",
              "      \n",
              "  <style>\n",
              "    .colab-df-container {\n",
              "      display:flex;\n",
              "      flex-wrap:wrap;\n",
              "      gap: 12px;\n",
              "    }\n",
              "\n",
              "    .colab-df-convert {\n",
              "      background-color: #E8F0FE;\n",
              "      border: none;\n",
              "      border-radius: 50%;\n",
              "      cursor: pointer;\n",
              "      display: none;\n",
              "      fill: #1967D2;\n",
              "      height: 32px;\n",
              "      padding: 0 0 0 0;\n",
              "      width: 32px;\n",
              "    }\n",
              "\n",
              "    .colab-df-convert:hover {\n",
              "      background-color: #E2EBFA;\n",
              "      box-shadow: 0px 1px 2px rgba(60, 64, 67, 0.3), 0px 1px 3px 1px rgba(60, 64, 67, 0.15);\n",
              "      fill: #174EA6;\n",
              "    }\n",
              "\n",
              "    [theme=dark] .colab-df-convert {\n",
              "      background-color: #3B4455;\n",
              "      fill: #D2E3FC;\n",
              "    }\n",
              "\n",
              "    [theme=dark] .colab-df-convert:hover {\n",
              "      background-color: #434B5C;\n",
              "      box-shadow: 0px 1px 3px 1px rgba(0, 0, 0, 0.15);\n",
              "      filter: drop-shadow(0px 1px 2px rgba(0, 0, 0, 0.3));\n",
              "      fill: #FFFFFF;\n",
              "    }\n",
              "  </style>\n",
              "\n",
              "      <script>\n",
              "        const buttonEl =\n",
              "          document.querySelector('#df-66494b6a-0015-4345-8707-faa5c3ead010 button.colab-df-convert');\n",
              "        buttonEl.style.display =\n",
              "          google.colab.kernel.accessAllowed ? 'block' : 'none';\n",
              "\n",
              "        async function convertToInteractive(key) {\n",
              "          const element = document.querySelector('#df-66494b6a-0015-4345-8707-faa5c3ead010');\n",
              "          const dataTable =\n",
              "            await google.colab.kernel.invokeFunction('convertToInteractive',\n",
              "                                                     [key], {});\n",
              "          if (!dataTable) return;\n",
              "\n",
              "          const docLinkHtml = 'Like what you see? Visit the ' +\n",
              "            '<a target=\"_blank\" href=https://colab.research.google.com/notebooks/data_table.ipynb>data table notebook</a>'\n",
              "            + ' to learn more about interactive tables.';\n",
              "          element.innerHTML = '';\n",
              "          dataTable['output_type'] = 'display_data';\n",
              "          await google.colab.output.renderOutput(dataTable, element);\n",
              "          const docLink = document.createElement('div');\n",
              "          docLink.innerHTML = docLinkHtml;\n",
              "          element.appendChild(docLink);\n",
              "        }\n",
              "      </script>\n",
              "    </div>\n",
              "  </div>\n",
              "  "
            ]
          },
          "metadata": {},
          "execution_count": 112
        }
      ]
    },
    {
      "cell_type": "code",
      "source": [
        "Y_test.head(5)"
      ],
      "metadata": {
        "colab": {
          "base_uri": "https://localhost:8080/"
        },
        "id": "Fcr1a67z1PTR",
        "outputId": "0487d7c6-5738-4b6a-a81d-8a1dbe45c201"
      },
      "execution_count": null,
      "outputs": [
        {
          "output_type": "execute_result",
          "data": {
            "text/plain": [
              "0   -1.0\n",
              "1    1.0\n",
              "2   -1.0\n",
              "3   -1.0\n",
              "4    1.0\n",
              "Name: 0, dtype: float64"
            ]
          },
          "metadata": {},
          "execution_count": 113
        }
      ]
    },
    {
      "cell_type": "code",
      "source": [
        "X_test.head(5)"
      ],
      "metadata": {
        "colab": {
          "base_uri": "https://localhost:8080/",
          "height": 206
        },
        "id": "ih_OWGVs1RIA",
        "outputId": "b852e5c7-55b7-4098-8507-bc89686a111a"
      },
      "execution_count": null,
      "outputs": [
        {
          "output_type": "execute_result",
          "data": {
            "text/plain": [
              "          1            2\n",
              "0  1.651437  1337.453826\n",
              "1 -0.866495  1191.232457\n",
              "2  0.789828  -475.647768\n",
              "3  0.179549  1959.095353\n",
              "4 -0.434351   568.504207"
            ],
            "text/html": [
              "\n",
              "  <div id=\"df-82975201-e7e7-4aa1-98d0-e4ae4e92153b\">\n",
              "    <div class=\"colab-df-container\">\n",
              "      <div>\n",
              "<style scoped>\n",
              "    .dataframe tbody tr th:only-of-type {\n",
              "        vertical-align: middle;\n",
              "    }\n",
              "\n",
              "    .dataframe tbody tr th {\n",
              "        vertical-align: top;\n",
              "    }\n",
              "\n",
              "    .dataframe thead th {\n",
              "        text-align: right;\n",
              "    }\n",
              "</style>\n",
              "<table border=\"1\" class=\"dataframe\">\n",
              "  <thead>\n",
              "    <tr style=\"text-align: right;\">\n",
              "      <th></th>\n",
              "      <th>1</th>\n",
              "      <th>2</th>\n",
              "    </tr>\n",
              "  </thead>\n",
              "  <tbody>\n",
              "    <tr>\n",
              "      <th>0</th>\n",
              "      <td>1.651437</td>\n",
              "      <td>1337.453826</td>\n",
              "    </tr>\n",
              "    <tr>\n",
              "      <th>1</th>\n",
              "      <td>-0.866495</td>\n",
              "      <td>1191.232457</td>\n",
              "    </tr>\n",
              "    <tr>\n",
              "      <th>2</th>\n",
              "      <td>0.789828</td>\n",
              "      <td>-475.647768</td>\n",
              "    </tr>\n",
              "    <tr>\n",
              "      <th>3</th>\n",
              "      <td>0.179549</td>\n",
              "      <td>1959.095353</td>\n",
              "    </tr>\n",
              "    <tr>\n",
              "      <th>4</th>\n",
              "      <td>-0.434351</td>\n",
              "      <td>568.504207</td>\n",
              "    </tr>\n",
              "  </tbody>\n",
              "</table>\n",
              "</div>\n",
              "      <button class=\"colab-df-convert\" onclick=\"convertToInteractive('df-82975201-e7e7-4aa1-98d0-e4ae4e92153b')\"\n",
              "              title=\"Convert this dataframe to an interactive table.\"\n",
              "              style=\"display:none;\">\n",
              "        \n",
              "  <svg xmlns=\"http://www.w3.org/2000/svg\" height=\"24px\"viewBox=\"0 0 24 24\"\n",
              "       width=\"24px\">\n",
              "    <path d=\"M0 0h24v24H0V0z\" fill=\"none\"/>\n",
              "    <path d=\"M18.56 5.44l.94 2.06.94-2.06 2.06-.94-2.06-.94-.94-2.06-.94 2.06-2.06.94zm-11 1L8.5 8.5l.94-2.06 2.06-.94-2.06-.94L8.5 2.5l-.94 2.06-2.06.94zm10 10l.94 2.06.94-2.06 2.06-.94-2.06-.94-.94-2.06-.94 2.06-2.06.94z\"/><path d=\"M17.41 7.96l-1.37-1.37c-.4-.4-.92-.59-1.43-.59-.52 0-1.04.2-1.43.59L10.3 9.45l-7.72 7.72c-.78.78-.78 2.05 0 2.83L4 21.41c.39.39.9.59 1.41.59.51 0 1.02-.2 1.41-.59l7.78-7.78 2.81-2.81c.8-.78.8-2.07 0-2.86zM5.41 20L4 18.59l7.72-7.72 1.47 1.35L5.41 20z\"/>\n",
              "  </svg>\n",
              "      </button>\n",
              "      \n",
              "  <style>\n",
              "    .colab-df-container {\n",
              "      display:flex;\n",
              "      flex-wrap:wrap;\n",
              "      gap: 12px;\n",
              "    }\n",
              "\n",
              "    .colab-df-convert {\n",
              "      background-color: #E8F0FE;\n",
              "      border: none;\n",
              "      border-radius: 50%;\n",
              "      cursor: pointer;\n",
              "      display: none;\n",
              "      fill: #1967D2;\n",
              "      height: 32px;\n",
              "      padding: 0 0 0 0;\n",
              "      width: 32px;\n",
              "    }\n",
              "\n",
              "    .colab-df-convert:hover {\n",
              "      background-color: #E2EBFA;\n",
              "      box-shadow: 0px 1px 2px rgba(60, 64, 67, 0.3), 0px 1px 3px 1px rgba(60, 64, 67, 0.15);\n",
              "      fill: #174EA6;\n",
              "    }\n",
              "\n",
              "    [theme=dark] .colab-df-convert {\n",
              "      background-color: #3B4455;\n",
              "      fill: #D2E3FC;\n",
              "    }\n",
              "\n",
              "    [theme=dark] .colab-df-convert:hover {\n",
              "      background-color: #434B5C;\n",
              "      box-shadow: 0px 1px 3px 1px rgba(0, 0, 0, 0.15);\n",
              "      filter: drop-shadow(0px 1px 2px rgba(0, 0, 0, 0.3));\n",
              "      fill: #FFFFFF;\n",
              "    }\n",
              "  </style>\n",
              "\n",
              "      <script>\n",
              "        const buttonEl =\n",
              "          document.querySelector('#df-82975201-e7e7-4aa1-98d0-e4ae4e92153b button.colab-df-convert');\n",
              "        buttonEl.style.display =\n",
              "          google.colab.kernel.accessAllowed ? 'block' : 'none';\n",
              "\n",
              "        async function convertToInteractive(key) {\n",
              "          const element = document.querySelector('#df-82975201-e7e7-4aa1-98d0-e4ae4e92153b');\n",
              "          const dataTable =\n",
              "            await google.colab.kernel.invokeFunction('convertToInteractive',\n",
              "                                                     [key], {});\n",
              "          if (!dataTable) return;\n",
              "\n",
              "          const docLinkHtml = 'Like what you see? Visit the ' +\n",
              "            '<a target=\"_blank\" href=https://colab.research.google.com/notebooks/data_table.ipynb>data table notebook</a>'\n",
              "            + ' to learn more about interactive tables.';\n",
              "          element.innerHTML = '';\n",
              "          dataTable['output_type'] = 'display_data';\n",
              "          await google.colab.output.renderOutput(dataTable, element);\n",
              "          const docLink = document.createElement('div');\n",
              "          docLink.innerHTML = docLinkHtml;\n",
              "          element.appendChild(docLink);\n",
              "        }\n",
              "      </script>\n",
              "    </div>\n",
              "  </div>\n",
              "  "
            ]
          },
          "metadata": {},
          "execution_count": 114
        }
      ]
    },
    {
      "cell_type": "code",
      "source": [
        "#2. Обучите персептрон со стандартными параметрами и random_state=241.\n",
        "\n",
        "import numpy as np\n",
        "from sklearn.linear_model import Perceptron\n",
        "from sklearn.linear_model import SGDClassifier\n",
        "\n",
        "#clf = Perceptron(random_state=100)\n",
        "clf = SGDClassifier(random_state=241)\n",
        "clf.fit(X_train, Y_train)\n",
        "Y_pred = clf.predict(X_test)"
      ],
      "metadata": {
        "id": "kKYYbX3P1U6L"
      },
      "execution_count": null,
      "outputs": []
    },
    {
      "cell_type": "code",
      "source": [
        "#3. Подсчитайте качество (долю правильно классифицированных объектов, accuracy) \n",
        "#   полученного классификатора на тестовой выборке.\n",
        "\n",
        "from sklearn.metrics import accuracy_score\n",
        "\n",
        "unscaledScore = accuracy_score(Y_test, Y_pred)\n",
        "\n",
        "print(f'Качество классификатора: {unscaledScore}')"
      ],
      "metadata": {
        "colab": {
          "base_uri": "https://localhost:8080/"
        },
        "id": "doTa7XPF2Uih",
        "outputId": "6263d7a6-da73-41c8-eb0d-e056bdc28c18"
      },
      "execution_count": null,
      "outputs": [
        {
          "output_type": "stream",
          "name": "stdout",
          "text": [
            "Качество классификатора: 0.655\n"
          ]
        }
      ]
    },
    {
      "cell_type": "code",
      "source": [
        "#4. Нормализуйте обучающую и тестовую выборку с помощью класса StandardScaler.\n",
        "\n",
        "from sklearn.preprocessing import StandardScaler\n",
        "\n",
        "scaler = StandardScaler()\n",
        "scaler.fit(X_train)\n",
        "\n",
        "X_train_sc = scaler.transform(X_train)\n",
        "X_test_sc = scaler.transform(X_test) "
      ],
      "metadata": {
        "id": "soorQHIN3LlI"
      },
      "execution_count": null,
      "outputs": []
    },
    {
      "cell_type": "code",
      "source": [
        "#5. Обучите персептрон на новых выборках. Найдите долю правильных ответов на тестовой выборке.\n",
        "\n",
        "clf.fit(X_train_sc, Y_train)\n",
        "print(clf.coef_)\n",
        "\n",
        "Y_pred_sc = clf.predict(X_test_sc)\n",
        "\n",
        "scaledScore = accuracy_score(Y_test, Y_pred_sc)\n",
        "\n",
        "print(f'Качество классификатора: {scaledScore}')"
      ],
      "metadata": {
        "colab": {
          "base_uri": "https://localhost:8080/"
        },
        "id": "YKEZUxx03xKg",
        "outputId": "feb0b310-6ee8-4a42-bda2-a3d172b289e5"
      },
      "execution_count": null,
      "outputs": [
        {
          "output_type": "stream",
          "name": "stdout",
          "text": [
            "[[-3.62984983 -2.24339958]]\n",
            "Качество классификатора: 0.845\n"
          ]
        }
      ]
    },
    {
      "cell_type": "code",
      "source": [
        "#6. Найдите разность между качеством на тестовой выборке после нормализации и \n",
        "#   качеством до нее. Это число и будет ответом на задание.\n",
        "\n",
        "print(f'Разница в точности до нормализации и после: {round(scaledScore-unscaledScore,4)}')"
      ],
      "metadata": {
        "colab": {
          "base_uri": "https://localhost:8080/"
        },
        "id": "3olFJKJ-43Qo",
        "outputId": "14c85015-91b4-4ba1-c8d2-0aad2bcacd26"
      },
      "execution_count": null,
      "outputs": [
        {
          "output_type": "stream",
          "name": "stdout",
          "text": [
            "Разница в точности до нормализации и после: 0.19\n"
          ]
        }
      ]
    }
  ]
}
{
 "cells": [
  {
   "cell_type": "markdown",
   "metadata": {
    "id": "KhOARaQ8Wc0w"
   },
   "source": [
    "# Задание 5. Метод опорных векторов\n",
    "\n",
    "Задания\n",
    "\n",
    "I. Прочитайте пункт “Метод опорных векторов” и более подробно о методе опорных векторов в книгах [1, стр. 113–123] или [2, стр. 459–474] и ответьте на вопросы:\n",
    "\n",
    "1. Чем метод отличается от других линейных методов? Какое оптимальное\n",
    "решение он ищет?\n",
    "2. Какие вектора называются опорными?\n",
    "3. На что влияет параметр C? Что происходит при его увеличении и уменьшении?\n",
    "4. Для чего используются ядра? Какие ядра есть в библиотеке Scikit-Learn?\n",
    "5. Для каких наборов данных лучше использовать метод?\n",
    "6. Какие преимущества и недостатки метода?\n",
    "\n",
    "II. Выполните задания из в файлов \"6_1_statement-svm.pdf\" и \"6_2_statement-svm-\n",
    "texts.pdf\"."
   ]
  },
  {
   "cell_type": "markdown",
   "metadata": {
    "id": "0UFTlrt8eXsS"
   },
   "source": [
    "### 1. Чем метод отличается от других линейных методов? Какое оптимальное решение он ищет?\n",
    "\n",
    "- Используется функция потерь hinge loss; в классификации линейной регрессией - zero-one loss.\n",
    "\n",
    "- Оптимальное решение - гиперплоскость, расстояние до которой от ближайших представителей каждого из классов будет максимальным (наибольший зазор между классами)."
   ]
  },
  {
   "cell_type": "markdown",
   "metadata": {
    "id": "d29pcoM6eb6a"
   },
   "source": [
    "### 2. Какие вектора называются опорными?\n",
    "\n",
    "- Опорные вектора - ближайшие к разделяющей гиперплоскости образцы обучающей выборки."
   ]
  },
  {
   "cell_type": "markdown",
   "metadata": {
    "id": "WSZ8XxlkecYu"
   },
   "source": [
    "### 3. На что влияет параметр C? Что происходит при его увеличении и уменьшении?\n",
    "\n",
    "- *С - параметр регуляризации.*\n",
    "- При большом значении параметра С регуляризация модели считается слабой. В таком случае ошибки штрафуются сильнее и зазор между классами получается меньше.\n",
    "- При маленьком значении параметра С регуляризация считается сильной. Тогда модель более лояльно относится к попаданию в зазор между классами некоторых объектов."
   ]
  },
  {
   "cell_type": "markdown",
   "metadata": {
    "id": "C7mVVC0yecnm"
   },
   "source": [
    "### 4. Для чего используются ядра? Какие ядра есть в библиотеке Scikit-Learn?\n",
    "\n",
    "- Ядра используются для построения нелинейных гиперплоскостей.\n",
    "- В библиотеке sklearn представлены: *‘linear’ - линейное, ‘poly’ - полиномиальное, ‘rbf’ - гауссовское, ‘sigmoid’ - сигмоидальное, ‘precomputed’*. Также можно использовать любой callable."
   ]
  },
  {
   "cell_type": "markdown",
   "metadata": {
    "id": "SaN7OBmSec4n"
   },
   "source": [
    "### 5. Для каких наборов данных лучше использовать метод?\n",
    "- Имеет смысл использовать метод на разреженных наборах данных, где имеется большое количество признаков, и большинство признаков каждого объекта имеют нулевое значение."
   ]
  },
  {
   "cell_type": "markdown",
   "metadata": {
    "id": "N05zLiDpedMJ"
   },
   "source": [
    "### 6. Какие преимущества и недостатки метода?\n",
    "- Преимущества:\n",
    "  - **Компактность модели и небольшое количество используемой оперативной памяти;**\n",
    "  - **Предсказание не требует много времени;**\n",
    "  - Интеграция с ядерными методами делает их универсальными, обеспечивает приспособляемость к множеству типов данных;\n",
    "  - Метод сводится к решению задачи выпуклого квадратичного программирования, которая имеет единственное решение.\n",
    "  - Имеются эффективные численные методы для SVM.\n",
    "  - Выделяется множество опорных объектов (объектов лежащих вблизи\n",
    "границ классов).\n",
    "  - Находит оптимальную разделяющую поверхность с максимальным\n",
    "отступом.\n",
    "  - Обобщается на нелинейные классификаторы.\n",
    "- Недостатки:\n",
    "  - Опорными объектами могут стать выбросы.\n",
    "  - **Результаты зависят от удачности выбора параметра размытия C.**"
   ]
  },
  {
   "cell_type": "markdown",
   "metadata": {
    "id": "loVzH3E_aGpr"
   },
   "source": [
    "# Опорные объекты"
   ]
  },
  {
   "cell_type": "code",
   "execution_count": null,
   "metadata": {
    "id": "5e93_1jTaZKW"
   },
   "outputs": [],
   "source": [
    "import numpy as np\n",
    "import pandas as pd"
   ]
  },
  {
   "cell_type": "markdown",
   "metadata": {
    "id": "-KeBMeSuaObb"
   },
   "source": [
    "1. Загрузите выборку из файла svm-data.csv. В нем записана двумерная выборка (целевая переменная указана в первом столбце, признаки - во втором и третьем)."
   ]
  },
  {
   "cell_type": "code",
   "execution_count": null,
   "metadata": {
    "colab": {
     "base_uri": "https://localhost:8080/",
     "height": 363
    },
    "id": "mA_QJQ8NaTiM",
    "outputId": "b52331da-9c77-4b3d-be1f-25c56ab31800"
   },
   "outputs": [
    {
     "data": {
      "text/html": [
       "\n",
       "  <div id=\"df-06da086a-df52-4faf-9a37-08ea2ccd7ad9\">\n",
       "    <div class=\"colab-df-container\">\n",
       "      <div>\n",
       "<style scoped>\n",
       "    .dataframe tbody tr th:only-of-type {\n",
       "        vertical-align: middle;\n",
       "    }\n",
       "\n",
       "    .dataframe tbody tr th {\n",
       "        vertical-align: top;\n",
       "    }\n",
       "\n",
       "    .dataframe thead th {\n",
       "        text-align: right;\n",
       "    }\n",
       "</style>\n",
       "<table border=\"1\" class=\"dataframe\">\n",
       "  <thead>\n",
       "    <tr style=\"text-align: right;\">\n",
       "      <th></th>\n",
       "      <th>0</th>\n",
       "      <th>1</th>\n",
       "      <th>2</th>\n",
       "    </tr>\n",
       "  </thead>\n",
       "  <tbody>\n",
       "    <tr>\n",
       "      <th>0</th>\n",
       "      <td>0.0</td>\n",
       "      <td>0.70</td>\n",
       "      <td>0.29</td>\n",
       "    </tr>\n",
       "    <tr>\n",
       "      <th>1</th>\n",
       "      <td>1.0</td>\n",
       "      <td>0.23</td>\n",
       "      <td>0.55</td>\n",
       "    </tr>\n",
       "    <tr>\n",
       "      <th>2</th>\n",
       "      <td>0.0</td>\n",
       "      <td>0.72</td>\n",
       "      <td>0.42</td>\n",
       "    </tr>\n",
       "    <tr>\n",
       "      <th>3</th>\n",
       "      <td>0.0</td>\n",
       "      <td>0.98</td>\n",
       "      <td>0.68</td>\n",
       "    </tr>\n",
       "    <tr>\n",
       "      <th>4</th>\n",
       "      <td>0.0</td>\n",
       "      <td>0.48</td>\n",
       "      <td>0.39</td>\n",
       "    </tr>\n",
       "    <tr>\n",
       "      <th>5</th>\n",
       "      <td>1.0</td>\n",
       "      <td>0.34</td>\n",
       "      <td>0.73</td>\n",
       "    </tr>\n",
       "    <tr>\n",
       "      <th>6</th>\n",
       "      <td>0.0</td>\n",
       "      <td>0.44</td>\n",
       "      <td>0.06</td>\n",
       "    </tr>\n",
       "    <tr>\n",
       "      <th>7</th>\n",
       "      <td>1.0</td>\n",
       "      <td>0.40</td>\n",
       "      <td>0.74</td>\n",
       "    </tr>\n",
       "    <tr>\n",
       "      <th>8</th>\n",
       "      <td>0.0</td>\n",
       "      <td>0.18</td>\n",
       "      <td>0.18</td>\n",
       "    </tr>\n",
       "    <tr>\n",
       "      <th>9</th>\n",
       "      <td>1.0</td>\n",
       "      <td>0.53</td>\n",
       "      <td>0.53</td>\n",
       "    </tr>\n",
       "  </tbody>\n",
       "</table>\n",
       "</div>\n",
       "      <button class=\"colab-df-convert\" onclick=\"convertToInteractive('df-06da086a-df52-4faf-9a37-08ea2ccd7ad9')\"\n",
       "              title=\"Convert this dataframe to an interactive table.\"\n",
       "              style=\"display:none;\">\n",
       "        \n",
       "  <svg xmlns=\"http://www.w3.org/2000/svg\" height=\"24px\"viewBox=\"0 0 24 24\"\n",
       "       width=\"24px\">\n",
       "    <path d=\"M0 0h24v24H0V0z\" fill=\"none\"/>\n",
       "    <path d=\"M18.56 5.44l.94 2.06.94-2.06 2.06-.94-2.06-.94-.94-2.06-.94 2.06-2.06.94zm-11 1L8.5 8.5l.94-2.06 2.06-.94-2.06-.94L8.5 2.5l-.94 2.06-2.06.94zm10 10l.94 2.06.94-2.06 2.06-.94-2.06-.94-.94-2.06-.94 2.06-2.06.94z\"/><path d=\"M17.41 7.96l-1.37-1.37c-.4-.4-.92-.59-1.43-.59-.52 0-1.04.2-1.43.59L10.3 9.45l-7.72 7.72c-.78.78-.78 2.05 0 2.83L4 21.41c.39.39.9.59 1.41.59.51 0 1.02-.2 1.41-.59l7.78-7.78 2.81-2.81c.8-.78.8-2.07 0-2.86zM5.41 20L4 18.59l7.72-7.72 1.47 1.35L5.41 20z\"/>\n",
       "  </svg>\n",
       "      </button>\n",
       "      \n",
       "  <style>\n",
       "    .colab-df-container {\n",
       "      display:flex;\n",
       "      flex-wrap:wrap;\n",
       "      gap: 12px;\n",
       "    }\n",
       "\n",
       "    .colab-df-convert {\n",
       "      background-color: #E8F0FE;\n",
       "      border: none;\n",
       "      border-radius: 50%;\n",
       "      cursor: pointer;\n",
       "      display: none;\n",
       "      fill: #1967D2;\n",
       "      height: 32px;\n",
       "      padding: 0 0 0 0;\n",
       "      width: 32px;\n",
       "    }\n",
       "\n",
       "    .colab-df-convert:hover {\n",
       "      background-color: #E2EBFA;\n",
       "      box-shadow: 0px 1px 2px rgba(60, 64, 67, 0.3), 0px 1px 3px 1px rgba(60, 64, 67, 0.15);\n",
       "      fill: #174EA6;\n",
       "    }\n",
       "\n",
       "    [theme=dark] .colab-df-convert {\n",
       "      background-color: #3B4455;\n",
       "      fill: #D2E3FC;\n",
       "    }\n",
       "\n",
       "    [theme=dark] .colab-df-convert:hover {\n",
       "      background-color: #434B5C;\n",
       "      box-shadow: 0px 1px 3px 1px rgba(0, 0, 0, 0.15);\n",
       "      filter: drop-shadow(0px 1px 2px rgba(0, 0, 0, 0.3));\n",
       "      fill: #FFFFFF;\n",
       "    }\n",
       "  </style>\n",
       "\n",
       "      <script>\n",
       "        const buttonEl =\n",
       "          document.querySelector('#df-06da086a-df52-4faf-9a37-08ea2ccd7ad9 button.colab-df-convert');\n",
       "        buttonEl.style.display =\n",
       "          google.colab.kernel.accessAllowed ? 'block' : 'none';\n",
       "\n",
       "        async function convertToInteractive(key) {\n",
       "          const element = document.querySelector('#df-06da086a-df52-4faf-9a37-08ea2ccd7ad9');\n",
       "          const dataTable =\n",
       "            await google.colab.kernel.invokeFunction('convertToInteractive',\n",
       "                                                     [key], {});\n",
       "          if (!dataTable) return;\n",
       "\n",
       "          const docLinkHtml = 'Like what you see? Visit the ' +\n",
       "            '<a target=\"_blank\" href=https://colab.research.google.com/notebooks/data_table.ipynb>data table notebook</a>'\n",
       "            + ' to learn more about interactive tables.';\n",
       "          element.innerHTML = '';\n",
       "          dataTable['output_type'] = 'display_data';\n",
       "          await google.colab.output.renderOutput(dataTable, element);\n",
       "          const docLink = document.createElement('div');\n",
       "          docLink.innerHTML = docLinkHtml;\n",
       "          element.appendChild(docLink);\n",
       "        }\n",
       "      </script>\n",
       "    </div>\n",
       "  </div>\n",
       "  "
      ],
      "text/plain": [
       "     0     1     2\n",
       "0  0.0  0.70  0.29\n",
       "1  1.0  0.23  0.55\n",
       "2  0.0  0.72  0.42\n",
       "3  0.0  0.98  0.68\n",
       "4  0.0  0.48  0.39\n",
       "5  1.0  0.34  0.73\n",
       "6  0.0  0.44  0.06\n",
       "7  1.0  0.40  0.74\n",
       "8  0.0  0.18  0.18\n",
       "9  1.0  0.53  0.53"
      ]
     },
     "execution_count": 103,
     "metadata": {},
     "output_type": "execute_result"
    }
   ],
   "source": [
    "df = pd.read_csv('svm-data.csv', header=None)\n",
    "\n",
    "df.head(10)"
   ]
  },
  {
   "cell_type": "code",
   "execution_count": null,
   "metadata": {
    "colab": {
     "base_uri": "https://localhost:8080/"
    },
    "id": "0UWc8NIEa3P5",
    "outputId": "dea7f410-2c3a-40e9-e3ad-1995f75c8586"
   },
   "outputs": [
    {
     "data": {
      "text/plain": [
       "0    0.0\n",
       "1    1.0\n",
       "2    0.0\n",
       "3    0.0\n",
       "4    0.0\n",
       "5    1.0\n",
       "6    0.0\n",
       "7    1.0\n",
       "8    0.0\n",
       "9    1.0\n",
       "Name: 0, dtype: float64"
      ]
     },
     "execution_count": 104,
     "metadata": {},
     "output_type": "execute_result"
    }
   ],
   "source": [
    "target = df.iloc[:,0];\n",
    "target.head(10)"
   ]
  },
  {
   "cell_type": "code",
   "execution_count": null,
   "metadata": {
    "colab": {
     "base_uri": "https://localhost:8080/",
     "height": 363
    },
    "id": "WeRcdPMbbPLp",
    "outputId": "a52c8abe-14cc-4bbd-e08a-75f2f7b6036b"
   },
   "outputs": [
    {
     "data": {
      "text/html": [
       "\n",
       "  <div id=\"df-a9d43526-3f2e-4169-ac91-aa6c61e27a36\">\n",
       "    <div class=\"colab-df-container\">\n",
       "      <div>\n",
       "<style scoped>\n",
       "    .dataframe tbody tr th:only-of-type {\n",
       "        vertical-align: middle;\n",
       "    }\n",
       "\n",
       "    .dataframe tbody tr th {\n",
       "        vertical-align: top;\n",
       "    }\n",
       "\n",
       "    .dataframe thead th {\n",
       "        text-align: right;\n",
       "    }\n",
       "</style>\n",
       "<table border=\"1\" class=\"dataframe\">\n",
       "  <thead>\n",
       "    <tr style=\"text-align: right;\">\n",
       "      <th></th>\n",
       "      <th>1</th>\n",
       "      <th>2</th>\n",
       "    </tr>\n",
       "  </thead>\n",
       "  <tbody>\n",
       "    <tr>\n",
       "      <th>0</th>\n",
       "      <td>0.70</td>\n",
       "      <td>0.29</td>\n",
       "    </tr>\n",
       "    <tr>\n",
       "      <th>1</th>\n",
       "      <td>0.23</td>\n",
       "      <td>0.55</td>\n",
       "    </tr>\n",
       "    <tr>\n",
       "      <th>2</th>\n",
       "      <td>0.72</td>\n",
       "      <td>0.42</td>\n",
       "    </tr>\n",
       "    <tr>\n",
       "      <th>3</th>\n",
       "      <td>0.98</td>\n",
       "      <td>0.68</td>\n",
       "    </tr>\n",
       "    <tr>\n",
       "      <th>4</th>\n",
       "      <td>0.48</td>\n",
       "      <td>0.39</td>\n",
       "    </tr>\n",
       "    <tr>\n",
       "      <th>5</th>\n",
       "      <td>0.34</td>\n",
       "      <td>0.73</td>\n",
       "    </tr>\n",
       "    <tr>\n",
       "      <th>6</th>\n",
       "      <td>0.44</td>\n",
       "      <td>0.06</td>\n",
       "    </tr>\n",
       "    <tr>\n",
       "      <th>7</th>\n",
       "      <td>0.40</td>\n",
       "      <td>0.74</td>\n",
       "    </tr>\n",
       "    <tr>\n",
       "      <th>8</th>\n",
       "      <td>0.18</td>\n",
       "      <td>0.18</td>\n",
       "    </tr>\n",
       "    <tr>\n",
       "      <th>9</th>\n",
       "      <td>0.53</td>\n",
       "      <td>0.53</td>\n",
       "    </tr>\n",
       "  </tbody>\n",
       "</table>\n",
       "</div>\n",
       "      <button class=\"colab-df-convert\" onclick=\"convertToInteractive('df-a9d43526-3f2e-4169-ac91-aa6c61e27a36')\"\n",
       "              title=\"Convert this dataframe to an interactive table.\"\n",
       "              style=\"display:none;\">\n",
       "        \n",
       "  <svg xmlns=\"http://www.w3.org/2000/svg\" height=\"24px\"viewBox=\"0 0 24 24\"\n",
       "       width=\"24px\">\n",
       "    <path d=\"M0 0h24v24H0V0z\" fill=\"none\"/>\n",
       "    <path d=\"M18.56 5.44l.94 2.06.94-2.06 2.06-.94-2.06-.94-.94-2.06-.94 2.06-2.06.94zm-11 1L8.5 8.5l.94-2.06 2.06-.94-2.06-.94L8.5 2.5l-.94 2.06-2.06.94zm10 10l.94 2.06.94-2.06 2.06-.94-2.06-.94-.94-2.06-.94 2.06-2.06.94z\"/><path d=\"M17.41 7.96l-1.37-1.37c-.4-.4-.92-.59-1.43-.59-.52 0-1.04.2-1.43.59L10.3 9.45l-7.72 7.72c-.78.78-.78 2.05 0 2.83L4 21.41c.39.39.9.59 1.41.59.51 0 1.02-.2 1.41-.59l7.78-7.78 2.81-2.81c.8-.78.8-2.07 0-2.86zM5.41 20L4 18.59l7.72-7.72 1.47 1.35L5.41 20z\"/>\n",
       "  </svg>\n",
       "      </button>\n",
       "      \n",
       "  <style>\n",
       "    .colab-df-container {\n",
       "      display:flex;\n",
       "      flex-wrap:wrap;\n",
       "      gap: 12px;\n",
       "    }\n",
       "\n",
       "    .colab-df-convert {\n",
       "      background-color: #E8F0FE;\n",
       "      border: none;\n",
       "      border-radius: 50%;\n",
       "      cursor: pointer;\n",
       "      display: none;\n",
       "      fill: #1967D2;\n",
       "      height: 32px;\n",
       "      padding: 0 0 0 0;\n",
       "      width: 32px;\n",
       "    }\n",
       "\n",
       "    .colab-df-convert:hover {\n",
       "      background-color: #E2EBFA;\n",
       "      box-shadow: 0px 1px 2px rgba(60, 64, 67, 0.3), 0px 1px 3px 1px rgba(60, 64, 67, 0.15);\n",
       "      fill: #174EA6;\n",
       "    }\n",
       "\n",
       "    [theme=dark] .colab-df-convert {\n",
       "      background-color: #3B4455;\n",
       "      fill: #D2E3FC;\n",
       "    }\n",
       "\n",
       "    [theme=dark] .colab-df-convert:hover {\n",
       "      background-color: #434B5C;\n",
       "      box-shadow: 0px 1px 3px 1px rgba(0, 0, 0, 0.15);\n",
       "      filter: drop-shadow(0px 1px 2px rgba(0, 0, 0, 0.3));\n",
       "      fill: #FFFFFF;\n",
       "    }\n",
       "  </style>\n",
       "\n",
       "      <script>\n",
       "        const buttonEl =\n",
       "          document.querySelector('#df-a9d43526-3f2e-4169-ac91-aa6c61e27a36 button.colab-df-convert');\n",
       "        buttonEl.style.display =\n",
       "          google.colab.kernel.accessAllowed ? 'block' : 'none';\n",
       "\n",
       "        async function convertToInteractive(key) {\n",
       "          const element = document.querySelector('#df-a9d43526-3f2e-4169-ac91-aa6c61e27a36');\n",
       "          const dataTable =\n",
       "            await google.colab.kernel.invokeFunction('convertToInteractive',\n",
       "                                                     [key], {});\n",
       "          if (!dataTable) return;\n",
       "\n",
       "          const docLinkHtml = 'Like what you see? Visit the ' +\n",
       "            '<a target=\"_blank\" href=https://colab.research.google.com/notebooks/data_table.ipynb>data table notebook</a>'\n",
       "            + ' to learn more about interactive tables.';\n",
       "          element.innerHTML = '';\n",
       "          dataTable['output_type'] = 'display_data';\n",
       "          await google.colab.output.renderOutput(dataTable, element);\n",
       "          const docLink = document.createElement('div');\n",
       "          docLink.innerHTML = docLinkHtml;\n",
       "          element.appendChild(docLink);\n",
       "        }\n",
       "      </script>\n",
       "    </div>\n",
       "  </div>\n",
       "  "
      ],
      "text/plain": [
       "      1     2\n",
       "0  0.70  0.29\n",
       "1  0.23  0.55\n",
       "2  0.72  0.42\n",
       "3  0.98  0.68\n",
       "4  0.48  0.39\n",
       "5  0.34  0.73\n",
       "6  0.44  0.06\n",
       "7  0.40  0.74\n",
       "8  0.18  0.18\n",
       "9  0.53  0.53"
      ]
     },
     "execution_count": 105,
     "metadata": {},
     "output_type": "execute_result"
    }
   ],
   "source": [
    "data = df.iloc[:,1:]\n",
    "data.head(10)"
   ]
  },
  {
   "cell_type": "markdown",
   "metadata": {
    "id": "vuGfrJdXb0NX"
   },
   "source": [
    "2. Обучите классификатор с линейным ядром, параметром C = 100000 и random_state=241. Такое значение параметра нужно использовать, чтобы убедиться, что SVM работает с выборкой как с линейно разделимой. При более низких значениях параметра алгоритм будет настраиваться с учетом слагаемого в функционале, штрафующего за маленькие отступы, из-за чего результат может не совпасть с решением классической задачи SVM для линейно разделимой выборки."
   ]
  },
  {
   "cell_type": "code",
   "execution_count": null,
   "metadata": {
    "id": "Nd0w-67tc1ER"
   },
   "outputs": [],
   "source": [
    "from sklearn.model_selection import train_test_split\n",
    "\n",
    "x_train, x_test, y_train, y_test = train_test_split(data, target)"
   ]
  },
  {
   "cell_type": "code",
   "execution_count": null,
   "metadata": {
    "id": "JNGMwnjUb3F5"
   },
   "outputs": [],
   "source": [
    "from sklearn import svm\n",
    "\n",
    "clf = svm.SVC(kernel='linear',C=100_000, random_state=241)\n",
    "clf.fit(x_train, y_train);"
   ]
  },
  {
   "cell_type": "markdown",
   "metadata": {
    "id": "TP7VkioTM1xG"
   },
   "source": [
    "3. Найдите номера объектов, которые являются опорными (нумерация с единицы). Они будут являться ответом на задание. Обратите внимание, что в качестве ответа нужно привести номера объектов в возрастающем порядке через запятую. Нумерация начинается с 1."
   ]
  },
  {
   "cell_type": "code",
   "execution_count": null,
   "metadata": {
    "colab": {
     "base_uri": "https://localhost:8080/"
    },
    "id": "3BKT_PxzMyiz",
    "outputId": "77b1057d-9948-4975-c504-0d9d2368bb9b"
   },
   "outputs": [
    {
     "name": "stdout",
     "output_type": "stream",
     "text": [
      "Опорные объекты:\n",
      "[[0.98 0.68]\n",
      " [0.18 0.18]\n",
      " [0.53 0.53]]\n",
      "\n",
      "Номера опорных объектов:\n",
      "[1 5 6]\n"
     ]
    }
   ],
   "source": [
    "print(f'Опорные объекты:\\n{clf.support_vectors_}\\n')\n",
    "print(f'Номера опорных объектов:\\n{clf.support_}')"
   ]
  },
  {
   "cell_type": "markdown",
   "metadata": {
    "id": "1QMs7SjJNQL7"
   },
   "source": [
    "# Анализ текстов"
   ]
  },
  {
   "cell_type": "markdown",
   "metadata": {
    "id": "7xE4JHnPRkTj"
   },
   "source": [
    "1. Загрузите объекты из новостного датасета 20 newsgroups, относящиеся к категориям \"космос\" и \"атеизм\" (инструкция приведена выше)."
   ]
  },
  {
   "cell_type": "code",
   "execution_count": null,
   "metadata": {
    "colab": {
     "base_uri": "https://localhost:8080/"
    },
    "id": "mcGz0pS-Nkjd",
    "outputId": "ee19d996-99fa-4260-f956-9e196a313f4c"
   },
   "outputs": [
    {
     "name": "stdout",
     "output_type": "stream",
     "text": [
      "['From: 9051467f@levels.unisa.edu.au (The Desert Brat)\\nSubject: Re: Keith Schneider - Stealth Poster?\\nOrganization: Cured, discharged\\nLines: 24\\n\\nIn article <1pa0f4INNpit@gap.caltech.edu>, keith@cco.caltech.edu (Keith Allan Schneider) writes:\\n\\n> But really, are you threatened by the motto, or by the people that use it?\\n\\nEvery time somone writes something and says it is merely describing the norm,\\nit is infact re-inforcing that norm upon those programmed not to think for\\nthemselves. The motto is dangerous in itself, it tells the world that every\\n*true* American is god-fearing, and puts down those who do not fear gods. It\\ndoesn\\'t need anyone to make it dangerous, it does a good job itself by just\\nexisting on your currency.\\n\\n> keith\\n\\nThe Desert Brat\\n-- \\nJohn J McVey, Elc&Eltnc Eng, Whyalla, Uni S Australia,    ________\\n9051467f@levels.unisa.edu.au      T.S.A.K.C.            \\\\/Darwin o\\\\\\nFor replies, mail to whjjm@wh.whyalla.unisa.edu.au      /\\\\________/\\nDisclaimer: Unisa hates my opinions.                       bb  bb\\n+------------------------------------------------------+-----------------------+\\n|\"It doesn\\'t make a rainbow any less beautiful that we | \"God\\'s name is smack  |\\n|understand the refractive mechanisms that chance to   | for some.\"            |\\n|produce it.\" - Jim Perry, perry@dsinc.com             |    - Alice In Chains  |\\n+------------------------------------------------------+-----------------------+\\n', \"From: kempmp@phoenix.oulu.fi (Petri Pihko)\\nSubject: Re: Christian Morality is\\nOrganization: University of Oulu, Finland\\nX-Newsreader: TIN [version 1.1 PL9]\\nLines: 107\\n\\nDan Schaertel,,, (dps@nasa.kodak.com) wrote:\\n> In article 21627@ousrvr.oulu.fi, kempmp@phoenix.oulu.fi (Petri Pihko) writes:\\n\\n> |>I love god just as much as she loves me. If she wants to seduce me,\\n> |>she'll know what to do. \\n\\n> But if He/She did you would probably consider it rape.  \\n\\nOf course not. I would think that would be great _fun_, not having ever\\nfelt the joy and peace the Christians speak of with a longing gaze.\\nThis is not what I got when I believed - I just tried to hide my fear\\nof getting punished for something I never was sure of. The Bible is\\nhopelessly confusing for someone who wants to know for sure. God did\\nnot answer. In the end, I found I had been following a mass delusion,\\na lie. I can't believe in a being who refuses to give a slightest hint\\nof her existence.\\n\\n> Obviously there are many Christians who have tried and do believe. So .. ?\\n\\nI suggest they should honestly reconsider the reasons why they believe\\nand analyse their position. In fact, it is amusing to note in this\\ncontext that many fundamentalist publications tell us exactly the\\nopposite - one should not examine one's belief critically.\\n\\nI'll tell you something I left out of my 'testimony' I posted to this\\ngroup two months ago. A day after I finally found out my faith is over,\\nI decided to try just one more time. The same cycle of emotional\\nresponses fired once again, but this time the delusion lasted only\\na couple of hours. I told my friend in a phone that it really works,\\nthank god, just to think about it again when I hung up. I had to admit\\nthat I had lied, and fallen prey to the same illusion.\\n\\n> No one asks you to swallow everything, in fact Jesus warns against it.   But let\\n> me ask you a question.  Do you beleive what you learn in history class, or for\\n> that matter anything in school.  I mean it's just what other people have told\\n> you and you don't want to swallow what others say. right ... ?\\n\\nI used to believe what I read in books when I was younger, or what\\nother people told me, but I grew more and more skeptical the more I\\nread. I learned what it means to use _reason_.\\n\\nAs a student of chemistry, I had to perform a qualitative analysis\\nof a mixture of two organic compounds in the lab. I _hated_ experiments\\nlike this - they are old-fashioned and increase the student's workload\\nconsiderably. Besides, I had to do it twice, since I failed in my first\\nattempt. However, I think I'll never forget the lesson: \\n\\nNo matter how strongly you believe the structure of the unknown is X,\\nit may still be Y. It is _very_ tempting to jump into conclusions, take\\na leap of faith, assure oneself, ignore the data which is inconsistent. \\nBut it can still be wrong. \\n\\nI found out that I was, after all, using exactly the same mechanism\\nto believe in god - mental self-assurance, suspension of fear, \\nfiltering of information. In other words, it was only me, no god\\nplaying any part. \\n\\n> The life , death, and resurection of Christ is documented historical fact.\\n\\nOh? And I had better believe this? Dan, many UFO stories are much better\\ndocumented than the resurrection of Jesus. The resurrection is documented\\nquite haphazardly in the Bible - it seems the authors did not pay too\\nmuch attention to which wild rumour to leave out. Besides, the ends of\\nthe gospels probably contain later additions and insertions; for instance,\\nthe end of Mark (16:9-20) is missing from many early texts, says my Bible.\\n\\nJesus may have lived and died, but he was probably misunderstood.\\n\\n> As much\\n> as anything else you learn.  How do you choose what to believe and \\n> what not to?\\n\\nThis is easy. I believe that the world exists independent of my mind,\\nand that logic and reason can be used to interpret and analyse what I\\nobserve. Nothing else need to be taken on faith, I will go by the\\nevidence. \\n\\nIt makes no difference whether I believe George Washington existed or not.\\nI assume that he did, considering the vast amount of evidence presented.\\n\\n> There is no way to get into a sceptical heart.  You can not say you have \\n> given a \\n> sincere effort with the attitude you seem to have.  You must TRUST, \\n> not just go \\n> to church and participate in it's activities.  Were you ever willing to\\n> die for what you believed?  \\n\\nA liar, how do you know what my attitude was? Try reading your Bible\\nagain. \\n\\nI was willing to die for my faith. Those who do are usually remembered\\nas heroes, at least among those who believe. Dan, do you think I'm\\nlying when I say I believed firmly for 15 years? It seems it is \\nvery difficult to admit that someone who has really believed does not\\ndo so anymore. But I can't go on lying to myself.\\n\\nBlind trust is dangerous, and I was just another blind led by the blind.\\nBut if god really wants me, she'll know what to do. I'm willing. I just\\ndon't know whether she exists - looking at the available evidence,\\nit looks like she doesn't. \\n\\nPetri\\n--\\n ___. .'*''.*        Petri Pihko    kem-pmp@          Mathematics is the Truth.\\n!___.'* '.'*' ' .    Pihatie 15 C    finou.oulu.fi    Physics is the Rule of\\n       ' *' .* '*    SF-90650 OULU  kempmp@           the Game.\\n          *'  *  .*  FINLAND         phoenix.oulu.fi  -> Chemistry is The Game.\\n\", \"From: fairfiel@helios.usq.EDU.AU (raymond fairfield)\\nSubject: Re: Surviving Large Accelerations?\\nOrganization: University of Southern Queensland\\nLines: 27\\n\\nlpham@eis.calstate.edu (Lan Pham) writes:\\n(in answer to Amruth Laxman\\n>are you sure 45g is the right number? as far as i know, pilots are\\n>blackout in dives that exceed 8g - 9g. 45g seems to be out of human\\n>tolerance. would anybody clarify this please.\\n\\n>lan\\n\\nApart from the fact that you get G in the pull-out, not the dive, that\\nfigure is about right for sustained G, no protection.\\nThe duration of G, it's rate of onset, body position and support aids are\\nall critical parts of the equation. I remember one note about instrumented\\ngridiron players recording peaks about 200G. Stapp, the aviation doctor,\\neither by accident or design, took a short-period 80G in a rocket-sled\\ndecelleration, eye-balls-out against a standard (1950's) harness. It had\\nto be short, calculate the stopping time, even from 500 - 600mph at that\\nG. A bang-seat can get up to about 60 G, and you'd better be sitting\\nstraight. Find the book by Martin-Bakers human guinea pig to hear how bad\\nit can get if the rate of onset is too high. A reclining position and a\\ngood G-suit can keep a pilot functioning at around 12G.\\n\\nA flotation tank should be a good bet, since you can treat the body as a\\nfluid, and high-pressure situations are not new. Anyone have any figures?\\n\\nRay Fairfield\\nfairfiel@zeus.usq.edu.au\\n\\n\", 'From: steinly@topaz.ucsc.edu (Steinn Sigurdsson)\\nSubject: Re: Vandalizing the sky\\nOrganization: Lick Observatory/UCO\\nLines: 23\\nNNTP-Posting-Host: topaz.ucsc.edu\\nIn-reply-to: flb@flb.optiplan.fi\\'s message of Fri, 23 Apr 1993 12:01:38 GMT\\n\\nIn article <C5xr2w.Dnw.1@cs.cmu.edu> flb@flb.optiplan.fi (\"F.Baube[tm]\") writes:\\n\\n   From: \"Phil G. Fraering\" <pgf@srl03.cacs.usl.edu>\\n\\n   > Finally: this isn\\'t the Bronze Age, [..]\\n   > please try to remember that there are more human activities than\\n   > those practiced by the Warrior Caste, the Farming Caste, and the\\n   > Priesthood.\\n\\n   Right, the Profiting Caste is blessed by God, and may \\n    freely blare its presence in the evening twilight ..\\n\\nThe Priesthood has never quite forgiven\\nthe merchants (aka Profiting Caste [sic])\\nfor their rise to power, has it?\\n\\n;-)\\n\\n*  Steinn Sigurdsson   \\t\\t\\tLick Observatory      \\t*\\n*  steinly@lick.ucsc.edu \\t\\t\"standard disclaimer\"  \\t*\\n*  Ya know... you penguin types offend me. ...\\t\\t\\t*\\n*  My Gosh... Life is offensive!!   \\t\\t\\t\\t*\\n*  Offensensitivity.\\t\\t- BB 1984\\t\\t\\t*\\n', 'From: jcobban@bnr.ca (Jim Cobban)\\nSubject: Re: Command Loss Timer (Re: Galileo Update - 04/22/93)\\nKeywords: Galileo, JPL\\nNntp-Posting-Host: bcars153\\nOrganization: Bell-Northern Research, Ottawa, Canada\\nLines: 13\\n\\nHaving read in the past about the fail-safe mechanisms on spacecraft, I had\\nassumed that the Command Loss Timer had that sort of function.  However I\\nalways find disturbing the oxymoron of a \"NO-OP\" command that does something.\\nIf the command changes the behavior or status of the spacecraft it is not\\na \"NO-OP\" command.\\n\\nOf course this terminology comes from a Jet Propulsion Laboratory which has\\nnothing to do with jet propulsion.\\n\\n-- \\n-------------------------------------------------------------------------------\\nJim Cobban   |  jcobban@bnr.ca                        |  Phone: (613) 763-8013\\nBNR Ltd.     |  bnrgate.bnr.ca!bcars5!jcobban         |  FAX:   (613) 763-2626\\n', 'From: wingo%cspara.decnet@Fedex.Msfc.Nasa.Gov\\nSubject: Re: NASA \"Wraps\"\\nOrganization: University of Houston\\nLines: 86\\nDistribution: world\\nNNTP-Posting-Host: judy.uh.edu\\nNews-Software: VAX/VMS VNEWS 1.41    \\n\\nIn article <1993Apr10.145502.28866@iti.org>, aws@iti.org (Allen W. Sherzer) writes...\\n>In article <9APR199318394890@judy.uh.edu> wingo%cspara.decnet@Fedex.Msfc.Nasa.Gov writes:\\n> \\n>>>BTW, universities do the same thing. They however, have a wrap of\\n>>>10% to 15% (again, this is over and above any overhead charge).\\n> \\n>>Wrong Allen. The max overhead charge is ALL of the charge. There is no\\n>>seperately budgeted overhead in any shape size form or fashion. \\n> \\n>A professor at the University of Virginia told me their wrap was about\\n>15%. The subcontracts I have let out and worked on for other universities\\n>are about the same. My employer (a non-profit research institute) does\\n>the same. This is generally reffered to as the fee.\\n> \\n\\nI don\\'t care who told you this it is not generally true. I see EVERY single\\nline item on a contract and I have to sign it. There is no such thing as\\nwrap at this university. I also asked around here. Ther is no wrap at \\nMarquette, University of Wisconsin Madison, Utah State, Weber State or\\nEmbry Riddle U. I am not saying that it doees not happen but in every instance\\nthat I have been able to track down it does not. Also the president of our\\nUniversity who was Provost at University of West Virgina said that it did\\nnot happen there either and that this figure must be included in the overhead\\nto be a legitimate charge.\\n\\n>>How do \\n>>I know? I write proposals and have won contracts and I know to the dime\\n>>what the charges are. At UAH for example the overhead is 36.6%.\\n> \\n>Sounds like they are adding it to their overhead rate. Go ask your\\n>costing people how much fee they add to a project.\\n>\\n\\nI did they never heard of it but suggest that, like our president did, that\\nany percentage number like this is included in the overhead.\\n\\n>>If you have some numbers Allen then show them else quit barking. \\n> \\n>I did Dennis; read the article. To repeat: an internal estimate done by\\n>the Reston costing department says Freedom can be built for about $1.8B\\n>a year and operated for $1B per year *IF* all the money where spent on\\n>Freedom. Since we spend about half a billion $$ more per year it looks\\n>like roughly 25% of the money is wasted. Now if you think I\\'m making\\n>this up, you can confirm it in the anonymous editorial published a few\\n>weeks ago in Space News.\\n>\\n\\nNo Allen you did not. You merely repeated allegations made by an Employee\\nof the Overhead capital of NASA. Nothing that Reston does could not be dont\\nbetter or cheaper at the Other NASA centers  where the work is going on.\\nKinda funny isn\\'t it that someone who talks about a problem like this is\\nat a place where everything is overhead.\\n\\n>This Dennis, is why NASA has so many problems: you can\\'t accept that\\n>anything is wrong unless you can blame it on Congress. Oh, sure, you\\'ll\\n>say NASA has problems but do you believe it? Remember the WP 02\\n>overrun? You insisted it was all congresses fault when NASA management\\n>knew about the overrun for almost a year yet refused to act. Do you\\n>still blame Congress for the overrun?\\n>\\n\\nWhy did the Space News artice point out that it was the congressionally\\ndemanded change that caused the problems? Methinks that you are being \\nselective with the facts again.\\n\\n>>By your own numbers Allen, at a cost of 500 million per flight the\\n>>service cost of flying shuttle to SSF is 2 billion for four flights, so how\\n>>did you get your one billion number?\\n> \\n>I have no idea what your trying to say here Dennis.\\n> \\n>  Allen\\n>-- \\n\\nIf it takes four flights a year to resupply the station and you have a cost\\nof 500 million a flight then you pay 2 billion a year. You stated that your\\n\"friend\" at Reston said that with the current station they could resupply it\\nfor a billion a year \"if the wrap were gone\". This merely points out a \\nblatent contridiction in your numbers that understandably you fail to see.\\n\\nDennis, University of Alabama in Huntsville.\\n\\nSorry gang but I have a deadline for a satellite so someone else is going\\nto have to do Allen\\'s math for him for a while. I will have little chance to\\ndo so.\\n\\n', \" wupost!uunet!olivea!sgigate!sgi!fido!solntze.wpd.sgi.com!livesey\\nSubject: Re: >>>>>>Pompous ass\\nFrom: livesey@solntze.wpd.sgi.com (Jon Livesey)\\n <93089.050046MVS104@psuvm.psu.edu> <1pa6ntINNs5d@gap.caltech.edu> \\n <1993Mar30.210423.1302@bmerh85.bnr.ca> <1pcnqjINNpon@gap.caltech.edu> <kmr4.1344.733611641@po.CWRU.edu> <1pi9btINNqa5@gap.calte\\nOrganization: sgi\\nNNTP-Posting-Host: solntze.wpd.sgi.com\\nLines: 20\\n\\nIn article <1pi9btINNqa5@gap.caltech.edu>, keith@cco.caltech.edu (Keith Allan Schneider) writes:\\n|> kmr4@po.CWRU.edu (Keith M. Ryan) writes:\\n|> \\n|> >>Then why do people keep asking the same questions over and over?\\n|> >Because you rarely ever answer them.\\n|> \\n|> Nope, I've answered each question posed, and most were answered multiple\\n|> times.\\n\\n\\tHe:   Fifty dollars if I can't answer your question.\\n\\n\\tShe:  What is the Big Bang theory.\\n\\n\\tHe:   The Big Bang theory is a recipe for cookies.\\n\\n\\tShe:  Fifty dollars, please.\\n\\n\\tHe:   Hey, I didn't say the answers would make sense.\\n\\njon.\\n\", 'From: djf@cck.coventry.ac.uk (Marvin Batty)\\nSubject: Re: What counntries do space surveillance?\\nNntp-Posting-Host: cc_sysk\\nOrganization: Starfleet, Coventry, UK\\nLines: 35\\n\\nThe European Space Agency has involvement with remote earth \\nobservation, and I presume this includes surveillance (optical etc.).\\nSo it\\'s not just the US/USSR(ex) who are in the game.\\n\\nBut what *is* the game? What can be done with space observation?\\nThe military functions of missile spotting, troop spotting etc. are well\\ndocumented, but what about anything else?\\n\\nThe biggest eg I can think of is to get a  metal sensing sat over a\\npaying country and scan their territory for  precious metals.\\n\\nMore importantly, if radar can spot water vapour (clouds), presumably\\na radar based sat will be capable of spotting rivers,open water and \\n*underground water* from space. This would be a positive life saver\\nfor African or other drought affected countries. Implementing a\\nclean water and irrigation program would be of imense benifit to such\\ncountries and should cut down mortalities considerably.\\n\\nSo how about it? Is there a charity or government agency that would\\npay for a third world country to have their minerals and water deposits\\nmapped?\\n\\nOr is this still sci-fi?\\n\\nMail replies would be great.\\n\\nThought for the day: Thermal energy needs water to make steam so sstick\\nit in the ocean!\\n\\n\\n-- \\n****************************************************************************  \\n                  Marvin Batty - djf@uk.ac.cov.cck\\n\"And they shall not find those things, with a sort of rafia like base,\\nthat their fathers put there just the night before. At about 8 O\\'clock!\"\\n', 'From: cobb@alexia.lis.uiuc.edu (Mike Cobb)\\nSubject: Re: Societally acceptable behavior\\nOrganization: University of Illinois at Urbana\\nLines: 59\\n\\nIn <1qvh8tINNsg6@citation.ksu.ksu.edu> yohan@citation.ksu.ksu.edu (Jonathan W \\nNewton) writes:\\n\\n\\n>In article <C5qGM3.DL8@news.cso.uiuc.edu>, cobb@alexia.lis.uiuc.edu (Mike \\nCobb) writes:\\n>>Merely a question for the basis of morality\\n>>\\n>>Moral/Ethical behavior = _Societally_ _acceptable_ _behavior_.\\n\\n>I disagree with these.  What society thinks should be irrelevant.  What the\\n>individual decides is all that is important.\\n\\nThis doesn\\'t seem right.  If I want to kill you, I can because that is what I\\ndecide?\\n>>\\n>>1)Who is society\\n\\n>I think this is fairly obvious\\n\\nNot really.  If whatever a particular society mandates as ok is ok, there are\\nalways some in the \"society\" who disagree with the mandates, so which \\nsocietal mandates make the standard for morality?\\n >>\\n>>2)How do \"they\" define what is acceptable?\\n\\n>Generally by what they \"feel\" is right, which is the most idiotic policy I can\\n>think of.\\n\\nSo what should be the basis? Unfortunately I have to admit to being tied at \\nleast loosely to the \"feeling\", in that I think we intuitively know some things\\nto be wrong.  Awfully hard to defend, though.\\n>>\\n>>3)How do we keep from a \"whatever is legal is what is \"moral\" \"position?\\n\\n>By thinking for ourselves.\\n\\nI might agree here.  Just because certain actions are legal does not make them\\n\"moral\".\\n>>\\n>>MAC\\n>>--\\n>>****************************************************************\\n>>                                                    Michael A. Cobb\\n>> \"...and I won\\'t raise taxes on the middle     University of Illinois\\n>>    class to pay for my programs.\"                 Champaign-Urbana\\n>>          -Bill Clinton 3rd Debate             cobb@alexia.lis.uiuc.edu\\n>>                                              \\n>>With new taxes and spending cuts we\\'ll still have 310 billion dollar \\ndeficits.\\n\\n--\\n****************************************************************\\n                                                    Michael A. Cobb\\n \"...and I won\\'t raise taxes on the middle     University of Illinois\\n    class to pay for my programs.\"                 Champaign-Urbana\\n          -Bill Clinton 3rd Debate             cobb@alexia.lis.uiuc.edu\\n                                              \\nNobody can explain everything to anybody.  G.K.Chesterton\\n', \"From: england@helix.nih.gov (Mad Vlad)\\nSubject: Satellite Capabilities-Patriot Games\\nOrganization: Nat'l Inst of Health\\nLines: 20\\n\\nHello netters,\\n\\n   I'm new to this board and I thought this might be the best place\\nfor my post.  I have a question regarding satellite technology seen\\nin the movie Patriot Games.  In the movies, the CIA utilizes its\\norbitting sats to pinpoint a specific terrorist camp in N Africa.\\nThe photos taken by the sats are stunning!  I know that sats are\\ncapable of photographing the license plates of vehicles.  My\\nquestion is this:  The camp in question was taken out by the\\nBritish SAS.  And while the SAS was in action, the CIA team was\\nwatching in the warroom back in Langley, VA.  The action of the SAS\\nwas clear and appeared to be relayed via a sat.  The action was at\\nnight and the photography appeared to be an x-ray type.  That is,\\none could see the action within the tents/structures of the camp.\\nDoes such techology exist and what is it's nature?  i.e., UV, IR,\\nx-ray, etc.\\n\\nPS  Who wrote the book Patriot Games?\\n\\nMad Vlad\\n\"],\n",
      "[0 0 1 1 1 1 0 1 0 1]\n"
     ]
    }
   ],
   "source": [
    "from sklearn import datasets\n",
    "\n",
    "newsgroups = datasets.fetch_20newsgroups(\n",
    "      subset='all',\n",
    "      categories=['alt.atheism', 'sci.space']\n",
    ")\n",
    "\n",
    "print(f'{newsgroups.data[:10]},\\n{newsgroups.target[:10]}')"
   ]
  },
  {
   "cell_type": "code",
   "execution_count": null,
   "metadata": {
    "id": "yQKF-ioZQcna"
   },
   "outputs": [],
   "source": [
    "from sklearn.model_selection import train_test_split\n",
    "\n",
    "x_train, x_test, y_train, y_test = train_test_split(newsgroups.data, newsgroups.target, shuffle=False)"
   ]
  },
  {
   "cell_type": "markdown",
   "metadata": {
    "id": "YZKT3GOERpls"
   },
   "source": [
    "2. Вычислите TF-IDF-признаки для всех текстов\n",
    "Обратите внимание, что в этом задании мы предлагаем вам вычислить TF-IDF по всем данным. При таком подходе получается, что признаки на обучающем множестве используют информацию из тестовой выборки - такая ситуация вполне законна, поскольку мы не используем значения целевой переменной из теста. На практике нередко\n",
    "встречаются ситуации, когда признаки объектов тестовой выборки\n",
    "известны на момент обучения, и поэтому можно ими пользоваться\n",
    "при обучении алгоритма."
   ]
  },
  {
   "cell_type": "code",
   "execution_count": null,
   "metadata": {
    "colab": {
     "base_uri": "https://localhost:8080/"
    },
    "id": "dFPbdsD3Peaz",
    "outputId": "d6201db5-fa2a-4d95-a6cb-e0fd2fb92436"
   },
   "outputs": [
    {
     "data": {
      "text/plain": [
       "array(['00', '000', '0000', ..., 'zwarte', 'zwork', 'zyklon'],\n",
       "      dtype=object)"
      ]
     },
     "execution_count": 111,
     "metadata": {},
     "output_type": "execute_result"
    }
   ],
   "source": [
    "from sklearn.feature_extraction.text import TfidfVectorizer\n",
    "\n",
    "vectorizer = TfidfVectorizer()\n",
    "\n",
    "x_train_t = vectorizer.fit_transform(x_train)\n",
    "x_test_t = vectorizer.transform(x_test)\n",
    "\n",
    "vectorizer.get_feature_names_out()"
   ]
  },
  {
   "cell_type": "markdown",
   "metadata": {
    "id": "5as63hlDSDwb"
   },
   "source": [
    "3. Подберите минимальный лучший параметр C из множества [10^−5, 10^−4, ...10^4, 10^5]\n",
    "для SVM с линейным ядром (kernel=’linear’) при помощи кросс-валидации по 5 блокам. Укажите параметр random_state=241 и\n",
    "для SVM, и для KFold. В качестве меры качества используйте долю верных ответов (accuracy)."
   ]
  },
  {
   "cell_type": "code",
   "execution_count": null,
   "metadata": {
    "colab": {
     "base_uri": "https://localhost:8080/"
    },
    "id": "MbBeJ00CSELh",
    "outputId": "39d8f557-7aa7-4774-8a1f-4115c0ce6a42"
   },
   "outputs": [
    {
     "data": {
      "text/plain": [
       "GridSearchCV(cv=KFold(n_splits=5, random_state=241, shuffle=True),\n",
       "             estimator=SVC(kernel='linear', random_state=241),\n",
       "             param_grid={'C': array([1.e-05, 1.e-04, 1.e-03, 1.e-02, 1.e-01, 1.e+00, 1.e+01, 1.e+02,\n",
       "       1.e+03, 1.e+04, 1.e+05])},\n",
       "             scoring='accuracy')"
      ]
     },
     "execution_count": 112,
     "metadata": {},
     "output_type": "execute_result"
    }
   ],
   "source": [
    "import numpy as np\n",
    "from sklearn.model_selection import KFold\n",
    "from sklearn.model_selection import GridSearchCV\n",
    "\n",
    "grid = {'C': np.power(10., np.arange(-5, 6))}\n",
    "cv = KFold(n_splits=5, shuffle=True, random_state = 241)\n",
    "clf = svm.SVC(kernel='linear', random_state = 241)\n",
    "\n",
    "gs = GridSearchCV(clf, grid, scoring = 'accuracy', cv=cv)\n",
    "gs.fit(x_train_t, y_train)"
   ]
  },
  {
   "cell_type": "code",
   "execution_count": null,
   "metadata": {
    "colab": {
     "base_uri": "https://localhost:8080/"
    },
    "id": "RoHY4gYlWUI1",
    "outputId": "89c8f843-54cc-412f-ded1-891619f6a55f"
   },
   "outputs": [
    {
     "data": {
      "text/plain": [
       "{'C': 10.0}"
      ]
     },
     "execution_count": 113,
     "metadata": {},
     "output_type": "execute_result"
    }
   ],
   "source": [
    "gs.cv_results_\n",
    "gs.best_params_"
   ]
  },
  {
   "cell_type": "markdown",
   "metadata": {
    "id": "efEktQNnWNTZ"
   },
   "source": [
    "4. Обучите SVM по всей выборке с лучшим параметром C, найденным на предыдущем шаге."
   ]
  },
  {
   "cell_type": "code",
   "execution_count": null,
   "metadata": {
    "colab": {
     "base_uri": "https://localhost:8080/"
    },
    "id": "Jh3viz-NZaZ5",
    "outputId": "03ca1aea-7400-4239-e04b-b58409ed863a"
   },
   "outputs": [
    {
     "data": {
      "text/plain": [
       "SVC(C=10.0, kernel='linear', random_state=241)"
      ]
     },
     "execution_count": 114,
     "metadata": {},
     "output_type": "execute_result"
    }
   ],
   "source": [
    "clf.C = 10.0\n",
    "clf.fit(x_train_t, y_train)"
   ]
  },
  {
   "cell_type": "markdown",
   "metadata": {
    "id": "y-RJQC_IWS8B"
   },
   "source": [
    "5. Найдите 10 слов с наибольшим по модулю весом. Они являются\n",
    "ответом на это задание. Укажите их через запятую, в нижнем регистре, в лексикографическом порядке."
   ]
  },
  {
   "cell_type": "code",
   "execution_count": null,
   "metadata": {
    "colab": {
     "base_uri": "https://localhost:8080/"
    },
    "id": "3ER-a4V2jF-8",
    "outputId": "624f7dfa-66af-4f2b-a44b-4a3fe4e37c52"
   },
   "outputs": [
    {
     "name": "stdout",
     "output_type": "stream",
     "text": [
      "word\n",
      "space           2.576704\n",
      "god             1.892954\n",
      "moon            1.319984\n",
      "atheism         1.265434\n",
      "atheists        1.191830\n",
      "keith           1.190869\n",
      "bible           1.145385\n",
      "religion        1.144021\n",
      "sky             1.068964\n",
      "enviroleague    1.012712\n",
      "Name: weight, dtype: float64\n"
     ]
    },
    {
     "name": "stderr",
     "output_type": "stream",
     "text": [
      "/usr/local/lib/python3.7/dist-packages/sklearn/utils/deprecation.py:87: FutureWarning: Function get_feature_names is deprecated; get_feature_names is deprecated in 1.0 and will be removed in 1.2. Please use get_feature_names_out instead.\n",
      "  warnings.warn(msg, category=FutureWarning)\n"
     ]
    }
   ],
   "source": [
    "import pandas as pd\n",
    "\n",
    "words = np.array(vectorizer.get_feature_names())\n",
    "word_weights = pd.Series(clf.coef_.data, index=words[clf.coef_.indices], name=\"weight\")\n",
    "word_weights.index.name = \"word\"\n",
    "\n",
    "top_words = word_weights.abs().sort_values(ascending=False).head(10)\n",
    "print(top_words);"
   ]
  }
 ],
 "metadata": {
  "colab": {
   "provenance": []
  },
  "kernelspec": {
   "display_name": "Python 3 (ipykernel)",
   "language": "python",
   "name": "python3"
  },
  "language_info": {
   "codemirror_mode": {
    "name": "ipython",
    "version": 3
   },
   "file_extension": ".py",
   "mimetype": "text/x-python",
   "name": "python",
   "nbconvert_exporter": "python",
   "pygments_lexer": "ipython3",
   "version": "3.10.6"
  }
 },
 "nbformat": 4,
 "nbformat_minor": 4
}

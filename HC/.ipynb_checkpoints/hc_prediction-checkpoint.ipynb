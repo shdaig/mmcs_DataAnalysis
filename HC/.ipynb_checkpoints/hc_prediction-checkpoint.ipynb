{
 "cells": [
  {
   "cell_type": "markdown",
   "id": "7bab51bd-271e-4f87-b3ae-7319c9b59bc8",
   "metadata": {},
   "source": [
    "# Импорты"
   ]
  },
  {
   "cell_type": "code",
   "execution_count": 276,
   "id": "c3121d8c-7caa-4398-b15c-72cabdf3a76f",
   "metadata": {},
   "outputs": [],
   "source": [
    "import numpy as np\n",
    "import pandas as pd\n",
    "from sklearn.model_selection import KFold, cross_val_score, train_test_split\n",
    "from sklearn.neighbors import KNeighborsClassifier\n",
    "from sklearn.tree import DecisionTreeClassifier\n",
    "from sklearn.linear_model import SGDClassifier\n",
    "from sklearn import svm\n",
    "from sklearn.preprocessing import scale"
   ]
  },
  {
   "cell_type": "markdown",
   "id": "459edb41-f88d-40cd-8945-bb75e1a89bfb",
   "metadata": {},
   "source": [
    "# Подготовка данных"
   ]
  },
  {
   "cell_type": "code",
   "execution_count": 207,
   "id": "b4422949-ccbe-4508-b5a0-3119459e4017",
   "metadata": {},
   "outputs": [
    {
     "data": {
      "text/html": [
       "<div>\n",
       "<style scoped>\n",
       "    .dataframe tbody tr th:only-of-type {\n",
       "        vertical-align: middle;\n",
       "    }\n",
       "\n",
       "    .dataframe tbody tr th {\n",
       "        vertical-align: top;\n",
       "    }\n",
       "\n",
       "    .dataframe thead th {\n",
       "        text-align: right;\n",
       "    }\n",
       "</style>\n",
       "<table border=\"1\" class=\"dataframe\">\n",
       "  <thead>\n",
       "    <tr style=\"text-align: right;\">\n",
       "      <th></th>\n",
       "      <th>Unnamed: 0</th>\n",
       "      <th>Category</th>\n",
       "      <th>Age</th>\n",
       "      <th>Sex</th>\n",
       "      <th>ALB</th>\n",
       "      <th>ALP</th>\n",
       "      <th>ALT</th>\n",
       "      <th>AST</th>\n",
       "      <th>BIL</th>\n",
       "      <th>CHE</th>\n",
       "      <th>CHOL</th>\n",
       "      <th>CREA</th>\n",
       "      <th>GGT</th>\n",
       "      <th>PROT</th>\n",
       "    </tr>\n",
       "  </thead>\n",
       "  <tbody>\n",
       "    <tr>\n",
       "      <th>0</th>\n",
       "      <td>1</td>\n",
       "      <td>0=Blood Donor</td>\n",
       "      <td>32</td>\n",
       "      <td>m</td>\n",
       "      <td>38.5</td>\n",
       "      <td>52.5</td>\n",
       "      <td>7.7</td>\n",
       "      <td>22.1</td>\n",
       "      <td>7.5</td>\n",
       "      <td>6.93</td>\n",
       "      <td>3.23</td>\n",
       "      <td>106.0</td>\n",
       "      <td>12.1</td>\n",
       "      <td>69.0</td>\n",
       "    </tr>\n",
       "    <tr>\n",
       "      <th>1</th>\n",
       "      <td>2</td>\n",
       "      <td>0=Blood Donor</td>\n",
       "      <td>32</td>\n",
       "      <td>m</td>\n",
       "      <td>38.5</td>\n",
       "      <td>70.3</td>\n",
       "      <td>18.0</td>\n",
       "      <td>24.7</td>\n",
       "      <td>3.9</td>\n",
       "      <td>11.17</td>\n",
       "      <td>4.80</td>\n",
       "      <td>74.0</td>\n",
       "      <td>15.6</td>\n",
       "      <td>76.5</td>\n",
       "    </tr>\n",
       "    <tr>\n",
       "      <th>2</th>\n",
       "      <td>3</td>\n",
       "      <td>0=Blood Donor</td>\n",
       "      <td>32</td>\n",
       "      <td>m</td>\n",
       "      <td>46.9</td>\n",
       "      <td>74.7</td>\n",
       "      <td>36.2</td>\n",
       "      <td>52.6</td>\n",
       "      <td>6.1</td>\n",
       "      <td>8.84</td>\n",
       "      <td>5.20</td>\n",
       "      <td>86.0</td>\n",
       "      <td>33.2</td>\n",
       "      <td>79.3</td>\n",
       "    </tr>\n",
       "  </tbody>\n",
       "</table>\n",
       "</div>"
      ],
      "text/plain": [
       "   Unnamed: 0       Category  Age Sex   ALB   ALP   ALT   AST  BIL    CHE  \\\n",
       "0           1  0=Blood Donor   32   m  38.5  52.5   7.7  22.1  7.5   6.93   \n",
       "1           2  0=Blood Donor   32   m  38.5  70.3  18.0  24.7  3.9  11.17   \n",
       "2           3  0=Blood Donor   32   m  46.9  74.7  36.2  52.6  6.1   8.84   \n",
       "\n",
       "   CHOL   CREA   GGT  PROT  \n",
       "0  3.23  106.0  12.1  69.0  \n",
       "1  4.80   74.0  15.6  76.5  \n",
       "2  5.20   86.0  33.2  79.3  "
      ]
     },
     "execution_count": 207,
     "metadata": {},
     "output_type": "execute_result"
    }
   ],
   "source": [
    "df = pd.read_csv('HepatitisCdata.csv')\n",
    "df.head(3)"
   ]
  },
  {
   "cell_type": "code",
   "execution_count": 208,
   "id": "f8fc47c7-2163-4b05-952c-559c399dc064",
   "metadata": {},
   "outputs": [],
   "source": [
    "df = df.drop(df.columns[[0, 1, 2]], axis=1)"
   ]
  },
  {
   "cell_type": "code",
   "execution_count": 209,
   "id": "17ab796e-ddac-4c0c-ac32-3047fd2606b8",
   "metadata": {},
   "outputs": [
    {
     "data": {
      "text/plain": [
       "Sex      0\n",
       "ALB      1\n",
       "ALP     18\n",
       "ALT      1\n",
       "AST      0\n",
       "BIL      0\n",
       "CHE      0\n",
       "CHOL    10\n",
       "CREA     0\n",
       "GGT      0\n",
       "PROT     1\n",
       "dtype: int64"
      ]
     },
     "execution_count": 209,
     "metadata": {},
     "output_type": "execute_result"
    }
   ],
   "source": [
    "df.isnull().sum() # в некоторых строках отсутсвуют значения"
   ]
  },
  {
   "cell_type": "code",
   "execution_count": 210,
   "id": "69696f46-ca2d-4ee8-9a09-12ea822f0385",
   "metadata": {},
   "outputs": [],
   "source": [
    "df = df.dropna() # выкидываем эти строки"
   ]
  },
  {
   "cell_type": "code",
   "execution_count": 211,
   "id": "43499469-d05c-4245-9ae1-4b79c7633fdd",
   "metadata": {},
   "outputs": [],
   "source": [
    "y = df.iloc[:,0]\n",
    "y = y.to_numpy()\n",
    "y[y == 'm'] = 1\n",
    "y[y == 'f'] = 0\n",
    "y = y.astype('int')"
   ]
  },
  {
   "cell_type": "code",
   "execution_count": 212,
   "id": "94e9a64e-6bef-4fc5-ba33-3559bd515363",
   "metadata": {},
   "outputs": [],
   "source": [
    "x = df.iloc[:,1:].to_numpy()"
   ]
  },
  {
   "cell_type": "code",
   "execution_count": 213,
   "id": "f145adf8-1697-4a81-857d-3f33b50d8444",
   "metadata": {},
   "outputs": [
    {
     "data": {
      "text/plain": [
       "array([[-0.54270146, -0.60323005, -0.90549379, -0.35545693, -0.20228893,\n",
       "        -0.58177708, -1.91609052,  0.48033581, -0.48102205, -0.54078756],\n",
       "       [-0.54270146,  0.08405364, -0.41138002, -0.27628268, -0.40928316,\n",
       "         1.35499299, -0.52424085, -0.15140186, -0.4165134 ,  0.86256616],\n",
       "       [ 0.91641697,  0.25394399,  0.46171419,  0.57331796, -0.28278669,\n",
       "         0.29068302, -0.16962947,  0.08549977, -0.09212705,  1.38648489]])"
      ]
     },
     "execution_count": 213,
     "metadata": {},
     "output_type": "execute_result"
    }
   ],
   "source": [
    "x = scale(x) # приводим признаки к одному масштабу для исключения доминирования признаков с большими значениями над другими. Для этого все признаки помещаются в одно метрическое пространство\n",
    "x[:3]"
   ]
  },
  {
   "cell_type": "code",
   "execution_count": 214,
   "id": "553e2eaf-5ebc-451f-bdf8-4f3a70a615d3",
   "metadata": {},
   "outputs": [],
   "source": [
    "# x_train, x_test, y_train, y_test = train_test_split(x, y, test_size=0.2, random_state=42) # делим и перемешиваем датасет на выорки"
   ]
  },
  {
   "cell_type": "code",
   "execution_count": 215,
   "id": "f434cc40-48a4-4e13-ac63-53a2bba568ad",
   "metadata": {},
   "outputs": [],
   "source": [
    "# y_train"
   ]
  },
  {
   "cell_type": "markdown",
   "id": "29409944-ebeb-472c-b794-0b6191670e50",
   "metadata": {},
   "source": [
    "# Обучение"
   ]
  },
  {
   "cell_type": "markdown",
   "id": "75c313d4-ce7d-4b93-afd5-1aa050c799cb",
   "metadata": {},
   "source": [
    "## Метод решающих деревьев"
   ]
  },
  {
   "cell_type": "code",
   "execution_count": 223,
   "id": "848b8c73-8038-41aa-b156-fd71658570af",
   "metadata": {},
   "outputs": [],
   "source": [
    "cv = KFold(n_splits=10, shuffle=True, random_state=0)"
   ]
  },
  {
   "cell_type": "code",
   "execution_count": 231,
   "id": "1d81477c-1bd7-4d14-bdbc-3e0f394670ef",
   "metadata": {},
   "outputs": [
    {
     "data": {
      "text/plain": [
       "0.6779215731421729"
      ]
     },
     "execution_count": 231,
     "metadata": {},
     "output_type": "execute_result"
    }
   ],
   "source": [
    "model = DecisionTreeClassifier(random_state=0)\n",
    "score = cross_val_score(model, x, y, cv = cv, scoring = 'roc_auc')\n",
    "acc = np.mean(score)\n",
    "acc"
   ]
  },
  {
   "cell_type": "markdown",
   "id": "4ae523d2-6331-42de-bb1f-996ede3a0859",
   "metadata": {},
   "source": [
    "## Метод \"k ближайших соседей\""
   ]
  },
  {
   "cell_type": "code",
   "execution_count": 218,
   "id": "e35e5444-1138-47d2-a1df-f4f6b25ba02b",
   "metadata": {},
   "outputs": [],
   "source": [
    "cv = KFold(n_splits=10, shuffle=True, random_state=0)"
   ]
  },
  {
   "cell_type": "code",
   "execution_count": 221,
   "id": "bb210576-ca0b-4021-8f43-b22c1a86d439",
   "metadata": {},
   "outputs": [
    {
     "data": {
      "text/plain": [
       "[array([0.67874693, 0.57776498, 0.69310345, 0.70289855, 0.62745098,\n",
       "        0.74417249, 0.64097744, 0.69055944, 0.8015873 , 0.60263158]),\n",
       " array([0.74815725, 0.61981567, 0.70804598, 0.73792271, 0.73389356,\n",
       "        0.72377622, 0.66917293, 0.68181818, 0.78174603, 0.66315789]),\n",
       " array([0.72911548, 0.60253456, 0.74252874, 0.79166667, 0.75770308,\n",
       "        0.747669  , 0.69047619, 0.73310023, 0.77936508, 0.65723684])]"
      ]
     },
     "execution_count": 221,
     "metadata": {},
     "output_type": "execute_result"
    }
   ],
   "source": [
    "scores = []\n",
    "for k in range(1,51):\n",
    "    model = KNeighborsClassifier(k)\n",
    "    scores.append(cross_val_score(model, x, y, cv = cv, scoring = 'roc_auc'))\n",
    "\n",
    "scores[:3]"
   ]
  },
  {
   "cell_type": "code",
   "execution_count": 222,
   "id": "d729fe98-e324-4d22-86c0-bc5a1a936af8",
   "metadata": {},
   "outputs": [
    {
     "name": "stdout",
     "output_type": "stream",
     "text": [
      "Оптимальное число соседей: 18\n",
      "Точность: 0.7981758134143394\n"
     ]
    }
   ],
   "source": [
    "acc = np.mean(scores, axis=1)\n",
    "print(f\"Оптимальное число соседей: {acc.argmax() + 1}\\nТочность: {acc.max()}\")"
   ]
  },
  {
   "cell_type": "markdown",
   "id": "bcbee025-d5ab-46c8-bd93-bd6dfdaab3d9",
   "metadata": {
    "tags": []
   },
   "source": [
    "## SGDClassifier"
   ]
  },
  {
   "cell_type": "code",
   "execution_count": 274,
   "id": "f49fa516-0f74-4fe9-9477-1a9543cfb552",
   "metadata": {},
   "outputs": [],
   "source": [
    "cv = KFold(n_splits=10, shuffle=True, random_state=0)"
   ]
  },
  {
   "cell_type": "code",
   "execution_count": 277,
   "id": "ed7c81c9-9edc-416c-a1bb-231e0fa04914",
   "metadata": {},
   "outputs": [
    {
     "data": {
      "text/plain": [
       "0.7336151105131318"
      ]
     },
     "execution_count": 277,
     "metadata": {},
     "output_type": "execute_result"
    }
   ],
   "source": [
    "model = SGDClassifier(random_state=0)\n",
    "score = cross_val_score(model, x, y, cv = cv, scoring = 'roc_auc')\n",
    "acc = np.mean(score)\n",
    "acc"
   ]
  },
  {
   "cell_type": "markdown",
   "id": "8bde2bf1-7761-49f4-ae61-caf79496741b",
   "metadata": {},
   "source": [
    "## SVM"
   ]
  },
  {
   "cell_type": "code",
   "execution_count": null,
   "id": "72a486fe-3794-4c8a-bf21-d8be848c64f8",
   "metadata": {},
   "outputs": [],
   "source": [
    "# -----------------Просто работа модели с параметрами, найденными методом тыка----------------------"
   ]
  },
  {
   "cell_type": "code",
   "execution_count": 268,
   "id": "4f4758b7-c93a-410c-981a-82fd70c7aabc",
   "metadata": {},
   "outputs": [],
   "source": [
    "cv = KFold(n_splits=10, shuffle=True, random_state=0)"
   ]
  },
  {
   "cell_type": "code",
   "execution_count": 295,
   "id": "e129be0e-fc45-44ed-906f-560e684f275f",
   "metadata": {},
   "outputs": [
    {
     "name": "stdout",
     "output_type": "stream",
     "text": [
      "Точность: 0.8542845114198385\n"
     ]
    }
   ],
   "source": [
    "model = svm.SVC(kernel='rbf', C=10., random_state=0)\n",
    "score = cross_val_score(model, x, y, cv = cv, scoring = 'roc_auc')\n",
    "acc = np.mean(score)\n",
    "print(f\"Точность: {acc}\")"
   ]
  },
  {
   "cell_type": "code",
   "execution_count": 287,
   "id": "1b835579-ce09-4a05-87d8-8a1622d743e1",
   "metadata": {},
   "outputs": [],
   "source": [
    "# -----------------Грид-сёрч(Авто-подбор наилучшего параметра для модели)----------------------"
   ]
  },
  {
   "cell_type": "code",
   "execution_count": 281,
   "id": "4a8fbdd1-f84b-4652-967b-63e21be9eb62",
   "metadata": {},
   "outputs": [],
   "source": [
    "from sklearn.model_selection import GridSearchCV"
   ]
  },
  {
   "cell_type": "code",
   "execution_count": 283,
   "id": "c7439950-f237-4b68-b912-e1ae07198fb0",
   "metadata": {},
   "outputs": [
    {
     "data": {
      "text/html": [
       "<style>#sk-container-id-8 {color: black;background-color: white;}#sk-container-id-8 pre{padding: 0;}#sk-container-id-8 div.sk-toggleable {background-color: white;}#sk-container-id-8 label.sk-toggleable__label {cursor: pointer;display: block;width: 100%;margin-bottom: 0;padding: 0.3em;box-sizing: border-box;text-align: center;}#sk-container-id-8 label.sk-toggleable__label-arrow:before {content: \"▸\";float: left;margin-right: 0.25em;color: #696969;}#sk-container-id-8 label.sk-toggleable__label-arrow:hover:before {color: black;}#sk-container-id-8 div.sk-estimator:hover label.sk-toggleable__label-arrow:before {color: black;}#sk-container-id-8 div.sk-toggleable__content {max-height: 0;max-width: 0;overflow: hidden;text-align: left;background-color: #f0f8ff;}#sk-container-id-8 div.sk-toggleable__content pre {margin: 0.2em;color: black;border-radius: 0.25em;background-color: #f0f8ff;}#sk-container-id-8 input.sk-toggleable__control:checked~div.sk-toggleable__content {max-height: 200px;max-width: 100%;overflow: auto;}#sk-container-id-8 input.sk-toggleable__control:checked~label.sk-toggleable__label-arrow:before {content: \"▾\";}#sk-container-id-8 div.sk-estimator input.sk-toggleable__control:checked~label.sk-toggleable__label {background-color: #d4ebff;}#sk-container-id-8 div.sk-label input.sk-toggleable__control:checked~label.sk-toggleable__label {background-color: #d4ebff;}#sk-container-id-8 input.sk-hidden--visually {border: 0;clip: rect(1px 1px 1px 1px);clip: rect(1px, 1px, 1px, 1px);height: 1px;margin: -1px;overflow: hidden;padding: 0;position: absolute;width: 1px;}#sk-container-id-8 div.sk-estimator {font-family: monospace;background-color: #f0f8ff;border: 1px dotted black;border-radius: 0.25em;box-sizing: border-box;margin-bottom: 0.5em;}#sk-container-id-8 div.sk-estimator:hover {background-color: #d4ebff;}#sk-container-id-8 div.sk-parallel-item::after {content: \"\";width: 100%;border-bottom: 1px solid gray;flex-grow: 1;}#sk-container-id-8 div.sk-label:hover label.sk-toggleable__label {background-color: #d4ebff;}#sk-container-id-8 div.sk-serial::before {content: \"\";position: absolute;border-left: 1px solid gray;box-sizing: border-box;top: 0;bottom: 0;left: 50%;z-index: 0;}#sk-container-id-8 div.sk-serial {display: flex;flex-direction: column;align-items: center;background-color: white;padding-right: 0.2em;padding-left: 0.2em;position: relative;}#sk-container-id-8 div.sk-item {position: relative;z-index: 1;}#sk-container-id-8 div.sk-parallel {display: flex;align-items: stretch;justify-content: center;background-color: white;position: relative;}#sk-container-id-8 div.sk-item::before, #sk-container-id-8 div.sk-parallel-item::before {content: \"\";position: absolute;border-left: 1px solid gray;box-sizing: border-box;top: 0;bottom: 0;left: 50%;z-index: -1;}#sk-container-id-8 div.sk-parallel-item {display: flex;flex-direction: column;z-index: 1;position: relative;background-color: white;}#sk-container-id-8 div.sk-parallel-item:first-child::after {align-self: flex-end;width: 50%;}#sk-container-id-8 div.sk-parallel-item:last-child::after {align-self: flex-start;width: 50%;}#sk-container-id-8 div.sk-parallel-item:only-child::after {width: 0;}#sk-container-id-8 div.sk-dashed-wrapped {border: 1px dashed gray;margin: 0 0.4em 0.5em 0.4em;box-sizing: border-box;padding-bottom: 0.4em;background-color: white;}#sk-container-id-8 div.sk-label label {font-family: monospace;font-weight: bold;display: inline-block;line-height: 1.2em;}#sk-container-id-8 div.sk-label-container {text-align: center;}#sk-container-id-8 div.sk-container {/* jupyter's `normalize.less` sets `[hidden] { display: none; }` but bootstrap.min.css set `[hidden] { display: none !important; }` so we also need the `!important` here to be able to override the default hidden behavior on the sphinx rendered scikit-learn.org. See: https://github.com/scikit-learn/scikit-learn/issues/21755 */display: inline-block !important;position: relative;}#sk-container-id-8 div.sk-text-repr-fallback {display: none;}</style><div id=\"sk-container-id-8\" class=\"sk-top-container\"><div class=\"sk-text-repr-fallback\"><pre>GridSearchCV(cv=KFold(n_splits=10, random_state=0, shuffle=True),\n",
       "             estimator=SVC(kernel=&#x27;linear&#x27;, random_state=0),\n",
       "             param_grid={&#x27;C&#x27;: array([1.e-02, 1.e-01, 1.e+00, 1.e+01, 1.e+02])},\n",
       "             scoring=&#x27;roc_auc&#x27;)</pre><b>In a Jupyter environment, please rerun this cell to show the HTML representation or trust the notebook. <br />On GitHub, the HTML representation is unable to render, please try loading this page with nbviewer.org.</b></div><div class=\"sk-container\" hidden><div class=\"sk-item sk-dashed-wrapped\"><div class=\"sk-label-container\"><div class=\"sk-label sk-toggleable\"><input class=\"sk-toggleable__control sk-hidden--visually\" id=\"sk-estimator-id-8\" type=\"checkbox\" ><label for=\"sk-estimator-id-8\" class=\"sk-toggleable__label sk-toggleable__label-arrow\">GridSearchCV</label><div class=\"sk-toggleable__content\"><pre>GridSearchCV(cv=KFold(n_splits=10, random_state=0, shuffle=True),\n",
       "             estimator=SVC(kernel=&#x27;linear&#x27;, random_state=0),\n",
       "             param_grid={&#x27;C&#x27;: array([1.e-02, 1.e-01, 1.e+00, 1.e+01, 1.e+02])},\n",
       "             scoring=&#x27;roc_auc&#x27;)</pre></div></div></div><div class=\"sk-parallel\"><div class=\"sk-parallel-item\"><div class=\"sk-item\"><div class=\"sk-label-container\"><div class=\"sk-label sk-toggleable\"><input class=\"sk-toggleable__control sk-hidden--visually\" id=\"sk-estimator-id-9\" type=\"checkbox\" ><label for=\"sk-estimator-id-9\" class=\"sk-toggleable__label sk-toggleable__label-arrow\">estimator: SVC</label><div class=\"sk-toggleable__content\"><pre>SVC(kernel=&#x27;linear&#x27;, random_state=0)</pre></div></div></div><div class=\"sk-serial\"><div class=\"sk-item\"><div class=\"sk-estimator sk-toggleable\"><input class=\"sk-toggleable__control sk-hidden--visually\" id=\"sk-estimator-id-10\" type=\"checkbox\" ><label for=\"sk-estimator-id-10\" class=\"sk-toggleable__label sk-toggleable__label-arrow\">SVC</label><div class=\"sk-toggleable__content\"><pre>SVC(kernel=&#x27;linear&#x27;, random_state=0)</pre></div></div></div></div></div></div></div></div></div></div>"
      ],
      "text/plain": [
       "GridSearchCV(cv=KFold(n_splits=10, random_state=0, shuffle=True),\n",
       "             estimator=SVC(kernel='linear', random_state=0),\n",
       "             param_grid={'C': array([1.e-02, 1.e-01, 1.e+00, 1.e+01, 1.e+02])},\n",
       "             scoring='roc_auc')"
      ]
     },
     "execution_count": 283,
     "metadata": {},
     "output_type": "execute_result"
    }
   ],
   "source": [
    "grid = {'C': np.power(10., np.arange(-2, 3))}\n",
    "cv = KFold(n_splits=10, shuffle=True, random_state = 0)\n",
    "\n",
    "model = svm.SVC(kernel='linear', random_state = 0)\n",
    "\n",
    "gs = GridSearchCV(model, grid, scoring = 'roc_auc', cv=cv)\n",
    "gs.fit(x, y)"
   ]
  },
  {
   "cell_type": "code",
   "execution_count": 285,
   "id": "edc36070-de54-4a2e-b91a-6c975bffb042",
   "metadata": {},
   "outputs": [
    {
     "data": {
      "text/plain": [
       "{'mean_fit_time': array([0.00606349, 0.00468621, 0.00698459, 0.02331932, 0.15616577]),\n",
       " 'std_fit_time': array([0.00269218, 0.00030653, 0.00042061, 0.00427207, 0.03298656]),\n",
       " 'mean_score_time': array([0.00146627, 0.00106313, 0.00104167, 0.00099344, 0.00109131]),\n",
       " 'std_score_time': array([4.99121036e-04, 1.51762235e-04, 1.27113037e-04, 4.63661065e-05,\n",
       "        6.46677203e-05]),\n",
       " 'param_C': masked_array(data=[0.01, 0.1, 1.0, 10.0, 100.0],\n",
       "              mask=[False, False, False, False, False],\n",
       "        fill_value='?',\n",
       "             dtype=object),\n",
       " 'params': [{'C': 0.01}, {'C': 0.1}, {'C': 1.0}, {'C': 10.0}, {'C': 100.0}],\n",
       " 'split0_test_score': array([0.81941032, 0.84889435, 0.85380835, 0.85503686, 0.85380835]),\n",
       " 'split1_test_score': array([0.58064516, 0.63479263, 0.65322581, 0.6624424 , 0.66359447]),\n",
       " 'split2_test_score': array([0.87701149, 0.87011494, 0.87011494, 0.86781609, 0.86781609]),\n",
       " 'split3_test_score': array([0.79227053, 0.82246377, 0.83333333, 0.8321256 , 0.83091787]),\n",
       " 'split4_test_score': array([0.66806723, 0.74509804, 0.78431373, 0.78991597, 0.78991597]),\n",
       " 'split5_test_score': array([0.7960373 , 0.83682984, 0.85897436, 0.86480186, 0.86596737]),\n",
       " 'split6_test_score': array([0.84085213, 0.87092732, 0.89097744, 0.89473684, 0.89473684]),\n",
       " 'split7_test_score': array([0.82517483, 0.85081585, 0.86363636, 0.85780886, 0.85780886]),\n",
       " 'split8_test_score': array([0.9015873 , 0.87301587, 0.84761905, 0.83968254, 0.83968254]),\n",
       " 'split9_test_score': array([0.78947368, 0.80789474, 0.81973684, 0.82105263, 0.82105263]),\n",
       " 'mean_test_score': array([0.789053  , 0.81608473, 0.82757402, 0.82854196, 0.8285301 ]),\n",
       " 'std_test_score': array([0.09134597, 0.07063633, 0.06447448, 0.0617022 , 0.06140465]),\n",
       " 'rank_test_score': array([5, 4, 3, 1, 2], dtype=int32)}"
      ]
     },
     "execution_count": 285,
     "metadata": {},
     "output_type": "execute_result"
    }
   ],
   "source": [
    "gs.cv_results_"
   ]
  },
  {
   "cell_type": "code",
   "execution_count": 292,
   "id": "18442cae-393a-4cb0-bf6f-b3fd2731db38",
   "metadata": {},
   "outputs": [
    {
     "data": {
      "text/plain": [
       "{'C': 10.0}"
      ]
     },
     "execution_count": 292,
     "metadata": {},
     "output_type": "execute_result"
    }
   ],
   "source": [
    "gs.best_params_"
   ]
  },
  {
   "cell_type": "code",
   "execution_count": 286,
   "id": "d777cd09-de73-474b-b9de-f97387f5d39e",
   "metadata": {},
   "outputs": [
    {
     "name": "stdout",
     "output_type": "stream",
     "text": [
      "Точность: 0.8285419649533005\n"
     ]
    }
   ],
   "source": [
    "model.C = 10.0\n",
    "score = cross_val_score(model, x, y, cv = cv, scoring = 'roc_auc')\n",
    "acc = np.mean(score)\n",
    "print(f\"Точность: {acc}\")"
   ]
  },
  {
   "cell_type": "code",
   "execution_count": 288,
   "id": "c1890b3c-cdc0-45f9-9303-8d546c6b9d00",
   "metadata": {},
   "outputs": [],
   "source": [
    "# -----------------Финалочка(Подбираем несколько параметров для модели SVM)----------------------"
   ]
  },
  {
   "cell_type": "code",
   "execution_count": 293,
   "id": "9448b6de-f560-4456-8410-0f7047d80aa7",
   "metadata": {},
   "outputs": [],
   "source": [
    "kernels = ['linear', 'poly', 'rbf', 'sigmoid']"
   ]
  },
  {
   "cell_type": "code",
   "execution_count": 294,
   "id": "c419f0dc-8978-4c66-b38e-bb0bb0ebd95a",
   "metadata": {},
   "outputs": [
    {
     "name": "stdout",
     "output_type": "stream",
     "text": [
      "Наилучшая точность для ядра linear, которая достигается при параметре С=10.0: 0.8285419649533005\n",
      "Наилучшая точность для ядра poly, которая достигается при параметре С=10.0: 0.7298634204766016\n",
      "Наилучшая точность для ядра rbf, которая достигается при параметре С=10.0: 0.8542845114198385\n",
      "Наилучшая точность для ядра sigmoid, которая достигается при параметре С=0.1: 0.7851502691990419\n"
     ]
    }
   ],
   "source": [
    "grid = {'C': np.power(10., np.arange(-2, 3))}\n",
    "cv = KFold(n_splits=10, shuffle=True, random_state = 0)\n",
    "\n",
    "for k in kernels:\n",
    "    model = svm.SVC(kernel=k, random_state = 0)\n",
    "\n",
    "    gs = GridSearchCV(model, grid, scoring = 'roc_auc', cv=cv)\n",
    "    gs.fit(x, y)\n",
    "    \n",
    "    model.C = gs.best_params_['C']\n",
    "    \n",
    "    score = cross_val_score(model, x, y, cv = cv, scoring = 'roc_auc')\n",
    "    acc = np.mean(score)\n",
    "    print(f\"Наилучшая точность для ядра {k}, которая достигается при параметре С={gs.best_params_['C']}: {acc}\")\n",
    "    "
   ]
  },
  {
   "cell_type": "code",
   "execution_count": null,
   "id": "45af33f6-71a1-40ae-a1dc-f2722ca30d60",
   "metadata": {},
   "outputs": [],
   "source": []
  }
 ],
 "metadata": {
  "kernelspec": {
   "display_name": "Python 3 (ipykernel)",
   "language": "python",
   "name": "python3"
  },
  "language_info": {
   "codemirror_mode": {
    "name": "ipython",
    "version": 3
   },
   "file_extension": ".py",
   "mimetype": "text/x-python",
   "name": "python",
   "nbconvert_exporter": "python",
   "pygments_lexer": "ipython3",
   "version": "3.10.6"
  }
 },
 "nbformat": 4,
 "nbformat_minor": 5
}

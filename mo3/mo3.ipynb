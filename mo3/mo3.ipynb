{
 "cells": [
  {
   "cell_type": "markdown",
   "metadata": {},
   "source": [
    "**Шепелев Д.**"
   ]
  },
  {
   "cell_type": "markdown",
   "metadata": {
    "id": "9C_KG1olN2lx"
   },
   "source": [
    "# **Метод \"k ближайших соседей\"**"
   ]
  },
  {
   "cell_type": "markdown",
   "metadata": {
    "id": "UhWHP3OZOEEZ"
   },
   "source": [
    " ## **I. Прочитайте пункт “Метод k ближайших соседей” и рекомендованную литературу к нему и ответьте на вопросы:**"
   ]
  },
  {
   "cell_type": "markdown",
   "metadata": {},
   "source": [
    "**1. Как определяется класс нового объекта точки в методе k ближайших соседей?**\n",
    "\n",
    "Для того чтобы сделать прогноз для новой точки данных, алгоритм находит ближайшие к ней точки обучающего набора, то есть находит «ближайших соседей». И выбирает для точки доминирующий среди ее соседей класс. "
   ]
  },
  {
   "cell_type": "markdown",
   "metadata": {},
   "source": [
    "**2. Какие параметры можно задавать в методе?** \n",
    " \n",
    "- *n_neighbors* - задает количество ближайших соседей, используемых для предсказания;\n",
    "- *weights* - вес отдельных точек:\n",
    "    - По умолчанию *weights* = *'uniform'*;\n",
    "    - *weights* = *'distance'* - для определения класса точки используется не только число соседей, но и их расстояние от нее.\n",
    "- *metric* - функция для оределения расстояния, *'minkowski'* - по умолчанию."
   ]
  },
  {
   "cell_type": "markdown",
   "metadata": {},
   "source": [
    "**3. Зачем делается приведение признаков к одному масштабу?** \n",
    "\n",
    "Приведение признаков к одному масштабу производится для исключения доминирования признаков с большими значениями над другими. Для этого все признаки помещаются в одно метрическое пространство.\n",
    "\n",
    "sklearn.preprocessing.scale "
   ]
  },
  {
   "cell_type": "markdown",
   "metadata": {},
   "source": [
    "**4. Какие преимущества и недостатки метода?**\n",
    "\n",
    "Преимущества:\n",
    "- Является одним из самых простыхалгоритмов машинного обучения;\n",
    "- Как правило, на небольших обучающих наборах построение модели ближайших соседей происходит очень быстро.\n",
    "\n",
    "Недостатки:\n",
    "- Данный метод не так хорошо работает, когда речь идет о наборах данных с большим количеством признаков (сотни и более)\n",
    "- Особенно плохо работает в ситуации, когда подавляющее число признаков в большей части наблюдений имеют нулевые значения (так называемые разреженные наборы данных или sparse datasets)."
   ]
  },
  {
   "cell_type": "markdown",
   "metadata": {
    "id": "z0UbiR9ROW6R"
   },
   "source": [
    "**5. Что такое кросс-валидация?**\n",
    "\n",
    "Кросс-валидация (или перекрестная проверка) - подход к формированию обучающих и тестовых выборок. Дает более точную оценку качества метода, чем простое разбиение на обучающий и тестовый наборы.\n",
    "\n",
    "Данные разбиваются на несколько частей. Каждая часть по очереди выступает в роли тестовой, а все остальные части – в качестве обучающих. Качество модели оценивается на основе среднего значения качества для всех таких разбиений. Таким образом, все данные участвуют в обучении и метод запускается несколько раз для разных выборок."
   ]
  },
  {
   "cell_type": "markdown",
   "metadata": {
    "id": "UfOhkQJEOs1U"
   },
   "source": [
    "## **II. Выполните задание из файла \"3 statement_neighbours.pdf\"**"
   ]
  },
  {
   "cell_type": "markdown",
   "metadata": {
    "id": "x2xbBzm2Pv1N"
   },
   "source": [
    "**1. Загрузите выборку Wine**"
   ]
  },
  {
   "cell_type": "code",
   "execution_count": 33,
   "metadata": {},
   "outputs": [],
   "source": [
    "import pandas as pd\n",
    "import numpy as np\n",
    "\n",
    "from sklearn.model_selection import KFold, cross_val_score\n",
    "from sklearn.neighbors import KNeighborsClassifier\n",
    "from sklearn.preprocessing import scale"
   ]
  },
  {
   "cell_type": "code",
   "execution_count": 4,
   "metadata": {
    "colab": {
     "base_uri": "https://localhost:8080/",
     "height": 206
    },
    "id": "AopObVrRPNVw",
    "outputId": "08c668dc-f7d3-4c6e-8d6a-7b454b5fd336"
   },
   "outputs": [
    {
     "data": {
      "text/html": [
       "<div>\n",
       "<style scoped>\n",
       "    .dataframe tbody tr th:only-of-type {\n",
       "        vertical-align: middle;\n",
       "    }\n",
       "\n",
       "    .dataframe tbody tr th {\n",
       "        vertical-align: top;\n",
       "    }\n",
       "\n",
       "    .dataframe thead th {\n",
       "        text-align: right;\n",
       "    }\n",
       "</style>\n",
       "<table border=\"1\" class=\"dataframe\">\n",
       "  <thead>\n",
       "    <tr style=\"text-align: right;\">\n",
       "      <th></th>\n",
       "      <th>0</th>\n",
       "      <th>1</th>\n",
       "      <th>2</th>\n",
       "      <th>3</th>\n",
       "      <th>4</th>\n",
       "      <th>5</th>\n",
       "      <th>6</th>\n",
       "      <th>7</th>\n",
       "      <th>8</th>\n",
       "      <th>9</th>\n",
       "      <th>10</th>\n",
       "      <th>11</th>\n",
       "      <th>12</th>\n",
       "      <th>13</th>\n",
       "    </tr>\n",
       "  </thead>\n",
       "  <tbody>\n",
       "    <tr>\n",
       "      <th>0</th>\n",
       "      <td>1</td>\n",
       "      <td>14.23</td>\n",
       "      <td>1.71</td>\n",
       "      <td>2.43</td>\n",
       "      <td>15.6</td>\n",
       "      <td>127</td>\n",
       "      <td>2.80</td>\n",
       "      <td>3.06</td>\n",
       "      <td>0.28</td>\n",
       "      <td>2.29</td>\n",
       "      <td>5.64</td>\n",
       "      <td>1.04</td>\n",
       "      <td>3.92</td>\n",
       "      <td>1065</td>\n",
       "    </tr>\n",
       "    <tr>\n",
       "      <th>1</th>\n",
       "      <td>1</td>\n",
       "      <td>13.20</td>\n",
       "      <td>1.78</td>\n",
       "      <td>2.14</td>\n",
       "      <td>11.2</td>\n",
       "      <td>100</td>\n",
       "      <td>2.65</td>\n",
       "      <td>2.76</td>\n",
       "      <td>0.26</td>\n",
       "      <td>1.28</td>\n",
       "      <td>4.38</td>\n",
       "      <td>1.05</td>\n",
       "      <td>3.40</td>\n",
       "      <td>1050</td>\n",
       "    </tr>\n",
       "    <tr>\n",
       "      <th>2</th>\n",
       "      <td>1</td>\n",
       "      <td>13.16</td>\n",
       "      <td>2.36</td>\n",
       "      <td>2.67</td>\n",
       "      <td>18.6</td>\n",
       "      <td>101</td>\n",
       "      <td>2.80</td>\n",
       "      <td>3.24</td>\n",
       "      <td>0.30</td>\n",
       "      <td>2.81</td>\n",
       "      <td>5.68</td>\n",
       "      <td>1.03</td>\n",
       "      <td>3.17</td>\n",
       "      <td>1185</td>\n",
       "    </tr>\n",
       "  </tbody>\n",
       "</table>\n",
       "</div>"
      ],
      "text/plain": [
       "   0      1     2     3     4    5     6     7     8     9     10    11    12  \\\n",
       "0   1  14.23  1.71  2.43  15.6  127  2.80  3.06  0.28  2.29  5.64  1.04  3.92   \n",
       "1   1  13.20  1.78  2.14  11.2  100  2.65  2.76  0.26  1.28  4.38  1.05  3.40   \n",
       "2   1  13.16  2.36  2.67  18.6  101  2.80  3.24  0.30  2.81  5.68  1.03  3.17   \n",
       "\n",
       "     13  \n",
       "0  1065  \n",
       "1  1050  \n",
       "2  1185  "
      ]
     },
     "execution_count": 4,
     "metadata": {},
     "output_type": "execute_result"
    }
   ],
   "source": [
    "df = pd.read_csv('https://archive.ics.uci.edu/ml/machine-learning-databases/wine/wine.data', header=None)\n",
    "df.head(3)"
   ]
  },
  {
   "cell_type": "markdown",
   "metadata": {
    "id": "sYbkV3UZQxUl"
   },
   "source": [
    "**2. Извлеките из данных признаки и классы**"
   ]
  },
  {
   "cell_type": "code",
   "execution_count": 17,
   "metadata": {
    "colab": {
     "base_uri": "https://localhost:8080/"
    },
    "id": "fRLZ-XJ1Qxyd",
    "outputId": "346c9b29-7b5c-4496-9ebb-56a3525b6640"
   },
   "outputs": [
    {
     "data": {
      "text/html": [
       "<div>\n",
       "<style scoped>\n",
       "    .dataframe tbody tr th:only-of-type {\n",
       "        vertical-align: middle;\n",
       "    }\n",
       "\n",
       "    .dataframe tbody tr th {\n",
       "        vertical-align: top;\n",
       "    }\n",
       "\n",
       "    .dataframe thead th {\n",
       "        text-align: right;\n",
       "    }\n",
       "</style>\n",
       "<table border=\"1\" class=\"dataframe\">\n",
       "  <thead>\n",
       "    <tr style=\"text-align: right;\">\n",
       "      <th></th>\n",
       "      <th>1</th>\n",
       "      <th>2</th>\n",
       "      <th>3</th>\n",
       "      <th>4</th>\n",
       "      <th>5</th>\n",
       "      <th>6</th>\n",
       "      <th>7</th>\n",
       "      <th>8</th>\n",
       "      <th>9</th>\n",
       "      <th>10</th>\n",
       "      <th>11</th>\n",
       "      <th>12</th>\n",
       "      <th>13</th>\n",
       "    </tr>\n",
       "  </thead>\n",
       "  <tbody>\n",
       "    <tr>\n",
       "      <th>0</th>\n",
       "      <td>14.23</td>\n",
       "      <td>1.71</td>\n",
       "      <td>2.43</td>\n",
       "      <td>15.6</td>\n",
       "      <td>127</td>\n",
       "      <td>2.80</td>\n",
       "      <td>3.06</td>\n",
       "      <td>0.28</td>\n",
       "      <td>2.29</td>\n",
       "      <td>5.64</td>\n",
       "      <td>1.04</td>\n",
       "      <td>3.92</td>\n",
       "      <td>1065</td>\n",
       "    </tr>\n",
       "    <tr>\n",
       "      <th>1</th>\n",
       "      <td>13.20</td>\n",
       "      <td>1.78</td>\n",
       "      <td>2.14</td>\n",
       "      <td>11.2</td>\n",
       "      <td>100</td>\n",
       "      <td>2.65</td>\n",
       "      <td>2.76</td>\n",
       "      <td>0.26</td>\n",
       "      <td>1.28</td>\n",
       "      <td>4.38</td>\n",
       "      <td>1.05</td>\n",
       "      <td>3.40</td>\n",
       "      <td>1050</td>\n",
       "    </tr>\n",
       "    <tr>\n",
       "      <th>2</th>\n",
       "      <td>13.16</td>\n",
       "      <td>2.36</td>\n",
       "      <td>2.67</td>\n",
       "      <td>18.6</td>\n",
       "      <td>101</td>\n",
       "      <td>2.80</td>\n",
       "      <td>3.24</td>\n",
       "      <td>0.30</td>\n",
       "      <td>2.81</td>\n",
       "      <td>5.68</td>\n",
       "      <td>1.03</td>\n",
       "      <td>3.17</td>\n",
       "      <td>1185</td>\n",
       "    </tr>\n",
       "    <tr>\n",
       "      <th>3</th>\n",
       "      <td>14.37</td>\n",
       "      <td>1.95</td>\n",
       "      <td>2.50</td>\n",
       "      <td>16.8</td>\n",
       "      <td>113</td>\n",
       "      <td>3.85</td>\n",
       "      <td>3.49</td>\n",
       "      <td>0.24</td>\n",
       "      <td>2.18</td>\n",
       "      <td>7.80</td>\n",
       "      <td>0.86</td>\n",
       "      <td>3.45</td>\n",
       "      <td>1480</td>\n",
       "    </tr>\n",
       "    <tr>\n",
       "      <th>4</th>\n",
       "      <td>13.24</td>\n",
       "      <td>2.59</td>\n",
       "      <td>2.87</td>\n",
       "      <td>21.0</td>\n",
       "      <td>118</td>\n",
       "      <td>2.80</td>\n",
       "      <td>2.69</td>\n",
       "      <td>0.39</td>\n",
       "      <td>1.82</td>\n",
       "      <td>4.32</td>\n",
       "      <td>1.04</td>\n",
       "      <td>2.93</td>\n",
       "      <td>735</td>\n",
       "    </tr>\n",
       "    <tr>\n",
       "      <th>...</th>\n",
       "      <td>...</td>\n",
       "      <td>...</td>\n",
       "      <td>...</td>\n",
       "      <td>...</td>\n",
       "      <td>...</td>\n",
       "      <td>...</td>\n",
       "      <td>...</td>\n",
       "      <td>...</td>\n",
       "      <td>...</td>\n",
       "      <td>...</td>\n",
       "      <td>...</td>\n",
       "      <td>...</td>\n",
       "      <td>...</td>\n",
       "    </tr>\n",
       "    <tr>\n",
       "      <th>173</th>\n",
       "      <td>13.71</td>\n",
       "      <td>5.65</td>\n",
       "      <td>2.45</td>\n",
       "      <td>20.5</td>\n",
       "      <td>95</td>\n",
       "      <td>1.68</td>\n",
       "      <td>0.61</td>\n",
       "      <td>0.52</td>\n",
       "      <td>1.06</td>\n",
       "      <td>7.70</td>\n",
       "      <td>0.64</td>\n",
       "      <td>1.74</td>\n",
       "      <td>740</td>\n",
       "    </tr>\n",
       "    <tr>\n",
       "      <th>174</th>\n",
       "      <td>13.40</td>\n",
       "      <td>3.91</td>\n",
       "      <td>2.48</td>\n",
       "      <td>23.0</td>\n",
       "      <td>102</td>\n",
       "      <td>1.80</td>\n",
       "      <td>0.75</td>\n",
       "      <td>0.43</td>\n",
       "      <td>1.41</td>\n",
       "      <td>7.30</td>\n",
       "      <td>0.70</td>\n",
       "      <td>1.56</td>\n",
       "      <td>750</td>\n",
       "    </tr>\n",
       "    <tr>\n",
       "      <th>175</th>\n",
       "      <td>13.27</td>\n",
       "      <td>4.28</td>\n",
       "      <td>2.26</td>\n",
       "      <td>20.0</td>\n",
       "      <td>120</td>\n",
       "      <td>1.59</td>\n",
       "      <td>0.69</td>\n",
       "      <td>0.43</td>\n",
       "      <td>1.35</td>\n",
       "      <td>10.20</td>\n",
       "      <td>0.59</td>\n",
       "      <td>1.56</td>\n",
       "      <td>835</td>\n",
       "    </tr>\n",
       "    <tr>\n",
       "      <th>176</th>\n",
       "      <td>13.17</td>\n",
       "      <td>2.59</td>\n",
       "      <td>2.37</td>\n",
       "      <td>20.0</td>\n",
       "      <td>120</td>\n",
       "      <td>1.65</td>\n",
       "      <td>0.68</td>\n",
       "      <td>0.53</td>\n",
       "      <td>1.46</td>\n",
       "      <td>9.30</td>\n",
       "      <td>0.60</td>\n",
       "      <td>1.62</td>\n",
       "      <td>840</td>\n",
       "    </tr>\n",
       "    <tr>\n",
       "      <th>177</th>\n",
       "      <td>14.13</td>\n",
       "      <td>4.10</td>\n",
       "      <td>2.74</td>\n",
       "      <td>24.5</td>\n",
       "      <td>96</td>\n",
       "      <td>2.05</td>\n",
       "      <td>0.76</td>\n",
       "      <td>0.56</td>\n",
       "      <td>1.35</td>\n",
       "      <td>9.20</td>\n",
       "      <td>0.61</td>\n",
       "      <td>1.60</td>\n",
       "      <td>560</td>\n",
       "    </tr>\n",
       "  </tbody>\n",
       "</table>\n",
       "<p>178 rows × 13 columns</p>\n",
       "</div>"
      ],
      "text/plain": [
       "        1     2     3     4    5     6     7     8     9      10    11    12  \\\n",
       "0    14.23  1.71  2.43  15.6  127  2.80  3.06  0.28  2.29   5.64  1.04  3.92   \n",
       "1    13.20  1.78  2.14  11.2  100  2.65  2.76  0.26  1.28   4.38  1.05  3.40   \n",
       "2    13.16  2.36  2.67  18.6  101  2.80  3.24  0.30  2.81   5.68  1.03  3.17   \n",
       "3    14.37  1.95  2.50  16.8  113  3.85  3.49  0.24  2.18   7.80  0.86  3.45   \n",
       "4    13.24  2.59  2.87  21.0  118  2.80  2.69  0.39  1.82   4.32  1.04  2.93   \n",
       "..     ...   ...   ...   ...  ...   ...   ...   ...   ...    ...   ...   ...   \n",
       "173  13.71  5.65  2.45  20.5   95  1.68  0.61  0.52  1.06   7.70  0.64  1.74   \n",
       "174  13.40  3.91  2.48  23.0  102  1.80  0.75  0.43  1.41   7.30  0.70  1.56   \n",
       "175  13.27  4.28  2.26  20.0  120  1.59  0.69  0.43  1.35  10.20  0.59  1.56   \n",
       "176  13.17  2.59  2.37  20.0  120  1.65  0.68  0.53  1.46   9.30  0.60  1.62   \n",
       "177  14.13  4.10  2.74  24.5   96  2.05  0.76  0.56  1.35   9.20  0.61  1.60   \n",
       "\n",
       "       13  \n",
       "0    1065  \n",
       "1    1050  \n",
       "2    1185  \n",
       "3    1480  \n",
       "4     735  \n",
       "..    ...  \n",
       "173   740  \n",
       "174   750  \n",
       "175   835  \n",
       "176   840  \n",
       "177   560  \n",
       "\n",
       "[178 rows x 13 columns]"
      ]
     },
     "execution_count": 17,
     "metadata": {},
     "output_type": "execute_result"
    }
   ],
   "source": [
    "x = df.iloc[:, 1:]\n",
    "y = df.iloc[:, 0]\n",
    "\n",
    "x"
   ]
  },
  {
   "cell_type": "markdown",
   "metadata": {
    "id": "mNrk8bObQyQt"
   },
   "source": [
    "**3. Оценку качества необходимо провести методом кросс-валидации по 5 блокам (5-fold)**"
   ]
  },
  {
   "cell_type": "code",
   "execution_count": 16,
   "metadata": {
    "id": "8I2ad451QyhP"
   },
   "outputs": [],
   "source": [
    "cv = KFold(n_splits = 5, shuffle=True, random_state = 42)"
   ]
  },
  {
   "cell_type": "markdown",
   "metadata": {
    "id": "xUt5qV1dQyzO"
   },
   "source": [
    "**4. Найдите точность классификации на кросс-валидации**"
   ]
  },
  {
   "cell_type": "code",
   "execution_count": 37,
   "metadata": {
    "colab": {
     "base_uri": "https://localhost:8080/",
     "height": 363
    },
    "id": "7QJguKH5QzDF",
    "outputId": "01fcffe1-715c-4224-9302-7c6e99e40a26"
   },
   "outputs": [
    {
     "data": {
      "text/plain": [
       "[array([0.77777778, 0.66666667, 0.72222222, 0.71428571, 0.77142857]),\n",
       " array([0.72222222, 0.63888889, 0.69444444, 0.57142857, 0.68571429]),\n",
       " array([0.80555556, 0.61111111, 0.63888889, 0.65714286, 0.82857143])]"
      ]
     },
     "execution_count": 37,
     "metadata": {},
     "output_type": "execute_result"
    }
   ],
   "source": [
    "scores = []\n",
    "for k in range(1,51):\n",
    "    model = KNeighborsClassifier(k)\n",
    "    scores.append(cross_val_score(model, x, y, cv = cv, scoring = 'accuracy'))\n",
    "\n",
    "scores[:3]"
   ]
  },
  {
   "cell_type": "code",
   "execution_count": 38,
   "metadata": {},
   "outputs": [
    {
     "data": {
      "text/plain": [
       "array([0.73047619, 0.66253968, 0.70825397, 0.65777778, 0.67460317,\n",
       "       0.67428571, 0.68      , 0.68      , 0.70238095, 0.68015873,\n",
       "       0.70253968, 0.69666667, 0.69095238, 0.67936508, 0.70190476,\n",
       "       0.67952381, 0.7015873 , 0.67952381, 0.67936508, 0.69095238,\n",
       "       0.70190476, 0.69650794, 0.70206349, 0.70761905, 0.70190476,\n",
       "       0.69650794, 0.69634921, 0.70793651, 0.71349206, 0.70793651,\n",
       "       0.69095238, 0.71349206, 0.71349206, 0.72460317, 0.72460317,\n",
       "       0.71349206, 0.71349206, 0.71349206, 0.70793651, 0.70777778,\n",
       "       0.71349206, 0.70777778, 0.70777778, 0.70777778, 0.70777778,\n",
       "       0.70777778, 0.69666667, 0.71904762, 0.69666667, 0.70777778])"
      ]
     },
     "execution_count": 38,
     "metadata": {},
     "output_type": "execute_result"
    }
   ],
   "source": [
    "acc = np.mean(scores, axis=1)\n",
    "acc"
   ]
  },
  {
   "cell_type": "markdown",
   "metadata": {
    "id": "kW2gvk41dEDa"
   },
   "source": [
    "**Оптимальные значения**"
   ]
  },
  {
   "cell_type": "code",
   "execution_count": 39,
   "metadata": {
    "colab": {
     "base_uri": "https://localhost:8080/"
    },
    "id": "J88iMlOWm126",
    "outputId": "a2930ff8-50a5-4690-d81e-cae335f7a6e1"
   },
   "outputs": [
    {
     "name": "stdout",
     "output_type": "stream",
     "text": [
      "Оптимальное число соседей: 1\n",
      "Точность: 0.7304761904761905\n"
     ]
    }
   ],
   "source": [
    "print(f\"Оптимальное число соседей: {acc.argmax() + 1}\\nТочность: {acc.max()}\")"
   ]
  },
  {
   "cell_type": "markdown",
   "metadata": {
    "id": "1dLKZb6uRE7i"
   },
   "source": [
    "**5. Произведите масштабирование признаков с помощью функции sklearn.preprocessing.scale. Снова найдите оптимальное k на кросс-валидации.**"
   ]
  },
  {
   "cell_type": "code",
   "execution_count": 36,
   "metadata": {
    "colab": {
     "base_uri": "https://localhost:8080/",
     "height": 363
    },
    "id": "aXwe2oi7RFG2",
    "outputId": "9c115183-9267-4d49-88c5-447807e57265"
   },
   "outputs": [
    {
     "name": "stdout",
     "output_type": "stream",
     "text": [
      "Оптимальное число соседей: 29\n",
      "Точность: 0.9776190476190475\n"
     ]
    }
   ],
   "source": [
    "x_scaled = scale(x)\n",
    "\n",
    "scores = []\n",
    "for k in range(1,51):\n",
    "    model = KNeighborsClassifier(k)\n",
    "    scores.append(cross_val_score(model, x_scaled, y, cv = cv, scoring = 'accuracy'))\n",
    "\n",
    "acc_scaled = np.mean(scores, axis=1)\n",
    "print(f\"Оптимальное число соседей: {acc_scaled.argmax() + 1}\\nТочность: {acc_scaled.max()}\")"
   ]
  },
  {
   "cell_type": "markdown",
   "metadata": {
    "id": "392mHXVTdU8k"
   },
   "source": [
    "**6. Какое значение k получилось оптимальным после приведения признаков к одному масштабу? Как изменилось значение качества? Приведите ответы на вопросы 3 и 4.**"
   ]
  },
  {
   "cell_type": "code",
   "execution_count": 41,
   "metadata": {
    "colab": {
     "base_uri": "https://localhost:8080/"
    },
    "id": "0LBgKP7hRFgl",
    "outputId": "8a954065-6a6d-4999-80bc-05f5044c706e"
   },
   "outputs": [
    {
     "name": "stdout",
     "output_type": "stream",
     "text": [
      "Разница точности после масштабирования: 0.247142857142857\n"
     ]
    }
   ],
   "source": [
    "print(f\"Разница точности после масштабирования: {abs(acc.max() - acc_scaled.max())}\")"
   ]
  },
  {
   "cell_type": "markdown",
   "metadata": {
    "id": "7SgtIecJPKRW"
   },
   "source": [
    "## **III. Выполните задание из файла \"4 statement-metric-tuning.pdf\"**"
   ]
  },
  {
   "cell_type": "markdown",
   "metadata": {
    "id": "bTXV65WnRXoQ"
   },
   "source": [
    "**1. Загрузите выборку Boston**"
   ]
  },
  {
   "cell_type": "code",
   "execution_count": 50,
   "metadata": {
    "colab": {
     "base_uri": "https://localhost:8080/"
    },
    "id": "41BzLu9PNzcE",
    "outputId": "69fbbd4d-17b1-4586-e5f7-65a9dbae773b"
   },
   "outputs": [],
   "source": [
    "from sklearn.datasets import load_boston\n",
    "from sklearn.neighbors import KNeighborsRegressor"
   ]
  },
  {
   "cell_type": "code",
   "execution_count": 44,
   "metadata": {},
   "outputs": [],
   "source": [
    "data = load_boston()\n",
    "x = data.data \n",
    "y = data.target"
   ]
  },
  {
   "cell_type": "markdown",
   "metadata": {
    "id": "J8WwhMyvRYQm"
   },
   "source": [
    "**2. Приведите признаки в выборке к одному масштабу при помощи функции sklearn.preprocessing.scale.**"
   ]
  },
  {
   "cell_type": "code",
   "execution_count": 45,
   "metadata": {
    "id": "n60Kvq7hRYak"
   },
   "outputs": [],
   "source": [
    "x_scaled = scale(x)"
   ]
  },
  {
   "cell_type": "markdown",
   "metadata": {
    "id": "nDGSOzUxRYnl"
   },
   "source": [
    "**3. Переберите разные варианты параметра метрики p по сетке от 1 до 10 с таким шагом, чтобы всего было протестировано 200 вариантов (используйте функцию numpy.linspace). Используйте KNeighborsRegressor с n_neighbors=5 и weights=’distance’ данный параметр добавляетв алгоритм веса, зависящие от расстояния до ближайших соседей. В качестве метрики качества используйте среднеквадратичную ошибку (параметр scoring=’mean_squared_error’ у cross_val_score; при использовании библиотеки scikit-learn версии 18.0.1 и выше необходимо указывать scoring=’neg_mean_squared_error’). Качество оценивайте, как и в предыдущем задании, с помощью кросс-валидации по 5 блокам с random_state = 42, не забудьте включить перемешивание выборки (shuffle=True).**"
   ]
  },
  {
   "cell_type": "code",
   "execution_count": 47,
   "metadata": {},
   "outputs": [
    {
     "data": {
      "text/plain": [
       "'1.1.3'"
      ]
     },
     "execution_count": 47,
     "metadata": {},
     "output_type": "execute_result"
    }
   ],
   "source": [
    "import sklearn\n",
    "sklearn.__version__"
   ]
  },
  {
   "cell_type": "code",
   "execution_count": 48,
   "metadata": {
    "colab": {
     "base_uri": "https://localhost:8080/"
    },
    "id": "VbyP7DR9RYw5",
    "outputId": "bf0fb414-1003-4f02-da40-6fc0d17b01d8"
   },
   "outputs": [],
   "source": [
    "p_grid = np.linspace(1, 10, num=200)\n",
    "cv = KFold(n_splits=5, random_state=42, shuffle=True)"
   ]
  },
  {
   "cell_type": "code",
   "execution_count": 59,
   "metadata": {},
   "outputs": [
    {
     "name": "stdout",
     "output_type": "stream",
     "text": [
      "p: 1.0 --- -29.7872280754304\n",
      "p: 1.0452261306532664 --- -30.206823991751406\n",
      "p: 1.0904522613065326 --- -30.411844062975423\n"
     ]
    }
   ],
   "source": [
    "acc = {}\n",
    "for p in p_grid:\n",
    "    model = KNeighborsRegressor(p = p, n_neighbors = 5, weights = 'distance')\n",
    "    scores = cross_val_score(model, x, y, cv = cv, scoring = 'neg_mean_squared_error')\n",
    "    acc[p] = np.mean(scores)\n",
    "\n",
    "for p in p_grid[:3]:\n",
    "    print(f\"p: {p} --- {acc.get(p)}\")"
   ]
  },
  {
   "cell_type": "markdown",
   "metadata": {
    "id": "TZGDE16VRY_s"
   },
   "source": [
    "**4. Определите, при каком p качество на кросс-валидации оказалось оптимальным. Обратите внимание, что cross_val_score возвращает массив показателей качества по блокам; необходимо максимизировать среднее этих показателей. Это значение параметра и будет ответом на задачу.**"
   ]
  },
  {
   "cell_type": "code",
   "execution_count": 65,
   "metadata": {
    "colab": {
     "base_uri": "https://localhost:8080/"
    },
    "id": "eVGAjqwyRZLH",
    "outputId": "fe2b8424-1492-46e0-ae67-a045bfb104a2"
   },
   "outputs": [
    {
     "name": "stdout",
     "output_type": "stream",
     "text": [
      "Оптимальное p: 1.0\n",
      "Значение метрики качества: -29.7872280754304\n"
     ]
    }
   ],
   "source": [
    "max_p = max(acc, key=acc.get)\n",
    "print(f\"Оптимальное p: {max_p}\\nЗначение метрики качества: {acc.get(max_p)}\")"
   ]
  },
  {
   "cell_type": "code",
   "execution_count": null,
   "metadata": {},
   "outputs": [],
   "source": []
  }
 ],
 "metadata": {
  "accelerator": "GPU",
  "colab": {
   "provenance": []
  },
  "gpuClass": "standard",
  "kernelspec": {
   "display_name": "Python 3 (ipykernel)",
   "language": "python",
   "name": "python3"
  },
  "language_info": {
   "codemirror_mode": {
    "name": "ipython",
    "version": 3
   },
   "file_extension": ".py",
   "mimetype": "text/x-python",
   "name": "python",
   "nbconvert_exporter": "python",
   "pygments_lexer": "ipython3",
   "version": "3.10.6"
  }
 },
 "nbformat": 4,
 "nbformat_minor": 4
}

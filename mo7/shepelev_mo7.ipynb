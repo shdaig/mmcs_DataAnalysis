{
 "cells": [
  {
   "cell_type": "markdown",
   "id": "2db4f567-a4f9-47e5-abbf-cca97353c608",
   "metadata": {},
   "source": [
    "Шепелев Д."
   ]
  },
  {
   "cell_type": "markdown",
   "id": "e485fdca-bfff-4dcc-8931-066dcd1da7e9",
   "metadata": {},
   "source": [
    "## **Загрузите файл classification.csv**"
   ]
  },
  {
   "cell_type": "code",
   "execution_count": 50,
   "id": "8867c8ab-2387-4561-a963-f0f97ec52246",
   "metadata": {},
   "outputs": [],
   "source": [
    "import pandas as pd\n",
    "import numpy as np"
   ]
  },
  {
   "cell_type": "code",
   "execution_count": 29,
   "id": "991e6e37-97cf-4f3f-8c41-c1d06009ea4a",
   "metadata": {},
   "outputs": [
    {
     "data": {
      "text/html": [
       "<div>\n",
       "<style scoped>\n",
       "    .dataframe tbody tr th:only-of-type {\n",
       "        vertical-align: middle;\n",
       "    }\n",
       "\n",
       "    .dataframe tbody tr th {\n",
       "        vertical-align: top;\n",
       "    }\n",
       "\n",
       "    .dataframe thead th {\n",
       "        text-align: right;\n",
       "    }\n",
       "</style>\n",
       "<table border=\"1\" class=\"dataframe\">\n",
       "  <thead>\n",
       "    <tr style=\"text-align: right;\">\n",
       "      <th></th>\n",
       "      <th>true</th>\n",
       "      <th>pred</th>\n",
       "    </tr>\n",
       "  </thead>\n",
       "  <tbody>\n",
       "    <tr>\n",
       "      <th>0</th>\n",
       "      <td>1</td>\n",
       "      <td>0</td>\n",
       "    </tr>\n",
       "    <tr>\n",
       "      <th>1</th>\n",
       "      <td>1</td>\n",
       "      <td>1</td>\n",
       "    </tr>\n",
       "    <tr>\n",
       "      <th>2</th>\n",
       "      <td>1</td>\n",
       "      <td>1</td>\n",
       "    </tr>\n",
       "  </tbody>\n",
       "</table>\n",
       "</div>"
      ],
      "text/plain": [
       "   true  pred\n",
       "0     1     0\n",
       "1     1     1\n",
       "2     1     1"
      ]
     },
     "execution_count": 29,
     "metadata": {},
     "output_type": "execute_result"
    }
   ],
   "source": [
    "df = pd.read_csv('classification.csv')\n",
    "df.head(3)"
   ]
  },
  {
   "cell_type": "markdown",
   "id": "0e1d144b-1276-4708-a3fc-a1228feb2734",
   "metadata": {},
   "source": [
    "## **Заполните таблицу ошибок классификации**"
   ]
  },
  {
   "cell_type": "code",
   "execution_count": 25,
   "id": "610e43fc-af60-44bd-bae1-93fea91b4323",
   "metadata": {},
   "outputs": [],
   "source": [
    "TP = df.where(df['true'] == df['pred']).where(df['true'] == 1).dropna().shape[0]\n",
    "TN = df.where(df['true'] == df['pred']).where(df['true'] == 0).dropna().shape[0]\n",
    "FP = df.where(df['true'] != df['pred']).where(df['true'] == 1).dropna().shape[0]\n",
    "FN = df.where(df['true'] != df['pred']).where(df['true'] == 0).dropna().shape[0]"
   ]
  },
  {
   "cell_type": "code",
   "execution_count": 21,
   "id": "382bfe13-dd06-4df7-bd32-2d4bfd433391",
   "metadata": {},
   "outputs": [
    {
     "data": {
      "text/html": [
       "<div>\n",
       "<style scoped>\n",
       "    .dataframe tbody tr th:only-of-type {\n",
       "        vertical-align: middle;\n",
       "    }\n",
       "\n",
       "    .dataframe tbody tr th {\n",
       "        vertical-align: top;\n",
       "    }\n",
       "\n",
       "    .dataframe thead th {\n",
       "        text-align: right;\n",
       "    }\n",
       "</style>\n",
       "<table border=\"1\" class=\"dataframe\">\n",
       "  <thead>\n",
       "    <tr style=\"text-align: right;\">\n",
       "      <th></th>\n",
       "      <th>Actual Positive</th>\n",
       "      <th>Actual Negative</th>\n",
       "    </tr>\n",
       "  </thead>\n",
       "  <tbody>\n",
       "    <tr>\n",
       "      <th>Predicted Positive</th>\n",
       "      <td>43</td>\n",
       "      <td>59</td>\n",
       "    </tr>\n",
       "    <tr>\n",
       "      <th>Predicted Negative</th>\n",
       "      <td>34</td>\n",
       "      <td>64</td>\n",
       "    </tr>\n",
       "  </tbody>\n",
       "</table>\n",
       "</div>"
      ],
      "text/plain": [
       "                    Actual Positive  Actual Negative\n",
       "Predicted Positive               43               59\n",
       "Predicted Negative               34               64"
      ]
     },
     "execution_count": 21,
     "metadata": {},
     "output_type": "execute_result"
    }
   ],
   "source": [
    "confusion_matrix = pd.DataFrame([[TP, FP], [FN, TN]], \n",
    "                                columns=['Actual Positive', \n",
    "                                         'Actual Negative'], \n",
    "                                index=['Predicted Positive', \n",
    "                                       'Predicted Negative'])\n",
    "confusion_matrix"
   ]
  },
  {
   "cell_type": "markdown",
   "id": "04ac05d1-49fb-401f-abcb-9f5a2ff3f9df",
   "metadata": {},
   "source": [
    "## **Посчитайте основные метрики качества классификатора**"
   ]
  },
  {
   "cell_type": "code",
   "execution_count": 27,
   "id": "c338c2f9-f0bf-4f8c-980c-9ce418ff251a",
   "metadata": {},
   "outputs": [
    {
     "data": {
      "text/plain": [
       "0.535"
      ]
     },
     "execution_count": 27,
     "metadata": {},
     "output_type": "execute_result"
    }
   ],
   "source": [
    "accuracy = (TP + TN) / (TP + FP + TN + FN)\n",
    "accuracy"
   ]
  },
  {
   "cell_type": "code",
   "execution_count": 32,
   "id": "d0f611a4-5b49-431d-820b-4c682912cf3a",
   "metadata": {},
   "outputs": [
    {
     "data": {
      "text/plain": [
       "0.4216"
      ]
     },
     "execution_count": 32,
     "metadata": {},
     "output_type": "execute_result"
    }
   ],
   "source": [
    "precision = TP / (TP + FP)\n",
    "round(precision, 4)"
   ]
  },
  {
   "cell_type": "code",
   "execution_count": 34,
   "id": "460d7871-c5c1-4117-a28f-de5e5d0f32ab",
   "metadata": {},
   "outputs": [
    {
     "data": {
      "text/plain": [
       "0.5584"
      ]
     },
     "execution_count": 34,
     "metadata": {},
     "output_type": "execute_result"
    }
   ],
   "source": [
    "recall = TP / (TP + FN)\n",
    "round(recall, 4)"
   ]
  },
  {
   "cell_type": "code",
   "execution_count": 37,
   "id": "5a78ee37-c91f-4027-9f13-e63a2dc0a910",
   "metadata": {},
   "outputs": [
    {
     "data": {
      "text/plain": [
       "0.4804"
      ]
     },
     "execution_count": 37,
     "metadata": {},
     "output_type": "execute_result"
    }
   ],
   "source": [
    "f = 2 * (precision * recall) / (precision + recall)\n",
    "round(f, 4)"
   ]
  },
  {
   "cell_type": "markdown",
   "id": "0458a7ae-3f69-4bd7-8582-89f27eca9294",
   "metadata": {},
   "source": [
    "## **Загрузите файл scores.csv**"
   ]
  },
  {
   "cell_type": "code",
   "execution_count": 38,
   "id": "7875dac1-e2ab-4fa3-a1d4-ab5560b57fd4",
   "metadata": {},
   "outputs": [
    {
     "data": {
      "text/html": [
       "<div>\n",
       "<style scoped>\n",
       "    .dataframe tbody tr th:only-of-type {\n",
       "        vertical-align: middle;\n",
       "    }\n",
       "\n",
       "    .dataframe tbody tr th {\n",
       "        vertical-align: top;\n",
       "    }\n",
       "\n",
       "    .dataframe thead th {\n",
       "        text-align: right;\n",
       "    }\n",
       "</style>\n",
       "<table border=\"1\" class=\"dataframe\">\n",
       "  <thead>\n",
       "    <tr style=\"text-align: right;\">\n",
       "      <th></th>\n",
       "      <th>true</th>\n",
       "      <th>score_logreg</th>\n",
       "      <th>score_svm</th>\n",
       "      <th>score_knn</th>\n",
       "      <th>score_tree</th>\n",
       "    </tr>\n",
       "  </thead>\n",
       "  <tbody>\n",
       "    <tr>\n",
       "      <th>0</th>\n",
       "      <td>0</td>\n",
       "      <td>0.683832</td>\n",
       "      <td>0.145976</td>\n",
       "      <td>0.787063</td>\n",
       "      <td>0.500000</td>\n",
       "    </tr>\n",
       "    <tr>\n",
       "      <th>1</th>\n",
       "      <td>1</td>\n",
       "      <td>0.801966</td>\n",
       "      <td>0.239511</td>\n",
       "      <td>1.000000</td>\n",
       "      <td>0.833333</td>\n",
       "    </tr>\n",
       "    <tr>\n",
       "      <th>2</th>\n",
       "      <td>0</td>\n",
       "      <td>0.382315</td>\n",
       "      <td>-0.245701</td>\n",
       "      <td>0.000000</td>\n",
       "      <td>0.000000</td>\n",
       "    </tr>\n",
       "  </tbody>\n",
       "</table>\n",
       "</div>"
      ],
      "text/plain": [
       "   true  score_logreg  score_svm  score_knn  score_tree\n",
       "0     0      0.683832   0.145976   0.787063    0.500000\n",
       "1     1      0.801966   0.239511   1.000000    0.833333\n",
       "2     0      0.382315  -0.245701   0.000000    0.000000"
      ]
     },
     "execution_count": 38,
     "metadata": {},
     "output_type": "execute_result"
    }
   ],
   "source": [
    "dfs = pd.read_csv('scores.csv')\n",
    "dfs.head(3)"
   ]
  },
  {
   "cell_type": "markdown",
   "id": "a3204360-02bd-4866-a150-0d8d1c3b4f00",
   "metadata": {},
   "source": [
    "## **Посчитайте площадь под ROC-кривой для каждого классификатора. Какой классификатор имеет наибольшее значение метрики AUC-ROC (укажите название столбца с ответами этого классификатора)**"
   ]
  },
  {
   "cell_type": "code",
   "execution_count": 47,
   "id": "9569ed54-b921-4b81-82c5-d49b17ada09a",
   "metadata": {},
   "outputs": [],
   "source": [
    "from sklearn.metrics import roc_auc_score\n",
    "from sklearn.metrics import roc_curve\n",
    "import matplotlib.pyplot as plt"
   ]
  },
  {
   "cell_type": "code",
   "execution_count": 45,
   "id": "2f8ff467-5a2e-400e-9a6a-b227bbbd2941",
   "metadata": {},
   "outputs": [],
   "source": [
    "true = dfs.true.to_numpy()\n",
    "score_logreg = dfs.score_logreg.to_numpy()\n",
    "score_svm = dfs.score_svm.to_numpy()\n",
    "score_knn = dfs.score_knn.to_numpy()\n",
    "score_tree = dfs.score_tree.to_numpy()"
   ]
  },
  {
   "cell_type": "code",
   "execution_count": 57,
   "id": "490cbba8-38a9-4424-8ca1-ddbeb0fe048c",
   "metadata": {},
   "outputs": [
    {
     "name": "stdout",
     "output_type": "stream",
     "text": [
      "AUC ROC\n",
      "logreg: 0.719187675070028\n",
      "svm: 0.7086834733893557\n",
      "knn: 0.6351540616246498\n",
      "tree: 0.6919267707082833\n"
     ]
    }
   ],
   "source": [
    "print(\"AUC ROC\")\n",
    "print(f\"logreg: {roc_auc_score(true, score_logreg)}\")\n",
    "print(f\"svm: {roc_auc_score(true, score_svm)}\")\n",
    "print(f\"knn: {roc_auc_score(true, score_knn)}\")\n",
    "print(f\"tree: {roc_auc_score(true, score_tree)}\")"
   ]
  },
  {
   "cell_type": "code",
   "execution_count": 56,
   "id": "798baf83-1c2f-4e67-a582-199bd8229a8e",
   "metadata": {},
   "outputs": [
    {
     "data": {
      "text/plain": [
       "<matplotlib.legend.Legend at 0x7f6b33357580>"
      ]
     },
     "execution_count": 56,
     "metadata": {},
     "output_type": "execute_result"
    },
    {
     "data": {
      "image/png": "[encoded data removed]",
      "text/plain": [
       "<Figure size 640x480 with 1 Axes>"
      ]
     },
     "metadata": {},
     "output_type": "display_data"
    }
   ],
   "source": [
    "fpr, tpr, thresholds = roc_curve(true, score_logreg)\n",
    "plt.plot(fpr, tpr, label=\"logreg\")\n",
    "\n",
    "fpr, tpr, thresholds = roc_curve(true, score_svm)\n",
    "plt.plot(fpr, tpr, label=\"svm\")\n",
    "\n",
    "fpr, tpr, thresholds = roc_curve(true, score_knn)\n",
    "plt.plot(fpr, tpr, label=\"knn\")\n",
    "\n",
    "fpr, tpr, thresholds = roc_curve(true, score_tree)\n",
    "plt.plot(fpr, tpr, label=\"tree\")\n",
    "\n",
    "plt.xlabel(\"FPR\")\n",
    "plt.ylabel(\"TPR\")\n",
    "plt.legend(loc=4)"
   ]
  },
  {
   "cell_type": "markdown",
   "id": "df7dbd62-33e0-4e5a-9a37-48cbd4082402",
   "metadata": {},
   "source": [
    "## **Какой классификатор достигает наибольшей точности (Precision) при полноте (Recall) не менее 70%**"
   ]
  },
  {
   "cell_type": "code",
   "execution_count": 59,
   "id": "5ca8c42b-1f12-4aec-90ba-16d784b03ab7",
   "metadata": {},
   "outputs": [],
   "source": [
    "from sklearn.metrics import precision_recall_curve"
   ]
  },
  {
   "cell_type": "code",
   "execution_count": 85,
   "id": "d3d229be-930e-4a59-a8d7-5c3e868f464f",
   "metadata": {},
   "outputs": [
    {
     "data": {
      "text/plain": [
       "<matplotlib.legend.Legend at 0x7f6b2bf34d00>"
      ]
     },
     "execution_count": 85,
     "metadata": {},
     "output_type": "execute_result"
    },
    {
     "data": {
      "image/png": "[encoded data removed]",
      "text/plain": [
       "<Figure size 640x480 with 1 Axes>"
      ]
     },
     "metadata": {},
     "output_type": "display_data"
    }
   ],
   "source": [
    "precision, recall, thresholds = precision_recall_curve(true, score_logreg)\n",
    "plt.plot(precision, recall, label=\"logreg\")\n",
    "\n",
    "# через np.argmin(np.abs(recall - 0.7)) нахожу индекс рекол который соответсвует 70%\n",
    "# затем беру тот же индекс в присижн\n",
    "reacall_th_index = np.argmin(np.abs(recall - 0.7))\n",
    "plt.plot(precision[reacall_th_index], \n",
    "         recall[reacall_th_index], \n",
    "         'o', \n",
    "         markersize=7, \n",
    "         label=\"Recall 0.7 logreg\", \n",
    "         fillstyle=\"none\", c='k', mew=2)\n",
    "logreg_p = precision[reacall_th_index]\n",
    "\n",
    "\n",
    "precision, recall, thresholds = precision_recall_curve(true, score_svm)\n",
    "plt.plot(precision, recall, label=\"svm\")\n",
    "\n",
    "reacall_th_index = np.argmin(np.abs(recall-0.7))\n",
    "plt.plot(precision[reacall_th_index], \n",
    "         recall[reacall_th_index], \n",
    "         '^', \n",
    "         markersize=7, \n",
    "         label=\"Recall 0.7 svm\", \n",
    "         fillstyle=\"none\", c='k', mew=2)\n",
    "svm_p = precision[reacall_th_index]\n",
    "\n",
    "\n",
    "precision, recall, thresholds = precision_recall_curve(true, score_knn)\n",
    "plt.plot(precision, recall, label=\"knn\")\n",
    "\n",
    "reacall_th_index = np.argmin(np.abs(recall - 0.7))\n",
    "plt.plot(precision[reacall_th_index], \n",
    "         recall[reacall_th_index], \n",
    "         'x', \n",
    "         markersize=7, \n",
    "         label=\"Recall 0.7 knn\", \n",
    "         fillstyle=\"none\", c='k', mew=2)\n",
    "knn_p = precision[reacall_th_index]\n",
    "\n",
    "\n",
    "precision, recall, thresholds = precision_recall_curve(true, score_tree)\n",
    "plt.plot(precision, recall, label=\"tree\")\n",
    "\n",
    "reacall_th_index = np.argmin(np.abs(recall - 0.7))\n",
    "plt.plot(precision[reacall_th_index], \n",
    "         recall[reacall_th_index], \n",
    "         's', \n",
    "         markersize=7, \n",
    "         label=\"Recall 0.7 tree\", \n",
    "         fillstyle=\"none\", c='k', mew=2)\n",
    "tree_p = precision[reacall_th_index]\n",
    "\n",
    "\n",
    "plt.xlabel(\"Precision\")\n",
    "plt.ylabel(\"Recall\")\n",
    "plt.legend(loc=1)"
   ]
  },
  {
   "cell_type": "code",
   "execution_count": 86,
   "id": "1ead6304-abed-4af2-a434-bb1d5e337b9e",
   "metadata": {},
   "outputs": [
    {
     "name": "stdout",
     "output_type": "stream",
     "text": [
      "Precisions\n",
      "logreg: 0.6160714285714286\n",
      "svm: 0.6160714285714286\n",
      "knn: 0.5897435897435898\n",
      "tree: 0.6770833333333334\n"
     ]
    }
   ],
   "source": [
    "print(\"Precisions\")\n",
    "print(f\"logreg: {logreg_p}\")\n",
    "print(f\"svm: {svm_p}\")\n",
    "print(f\"knn: {knn_p}\")\n",
    "print(f\"tree: {tree_p}\")"
   ]
  },
  {
   "cell_type": "code",
   "execution_count": null,
   "id": "5ba2b33f-5480-4592-bbe9-543ac2d59de9",
   "metadata": {},
   "outputs": [],
   "source": []
  }
 ],
 "metadata": {
  "kernelspec": {
   "display_name": "Python 3 (ipykernel)",
   "language": "python",
   "name": "python3"
  },
  "language_info": {
   "codemirror_mode": {
    "name": "ipython",
    "version": 3
   },
   "file_extension": ".py",
   "mimetype": "text/x-python",
   "name": "python",
   "nbconvert_exporter": "python",
   "pygments_lexer": "ipython3",
   "version": "3.10.6"
  }
 },
 "nbformat": 4,
 "nbformat_minor": 5
}

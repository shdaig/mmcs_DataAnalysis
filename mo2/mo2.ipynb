{
 "cells": [
  {
   "cell_type": "markdown",
   "id": "435d2ee0-24cf-4dcb-b698-381705e58337",
   "metadata": {},
   "source": [
    "**Шепелев Д.**"
   ]
  },
  {
   "cell_type": "markdown",
   "id": "24996f6c-09fb-4694-b7b0-86404556f7fb",
   "metadata": {},
   "source": [
    "# **Постановка задачи машинного обучения. Метод решающих деревьев.**"
   ]
  },
  {
   "cell_type": "markdown",
   "id": "51480909-3a16-4062-9778-f3c90f2b516a",
   "metadata": {},
   "source": [
    "## **I. Постановка задачи обучения по прецедентам.¶**"
   ]
  },
  {
   "cell_type": "markdown",
   "id": "ca3b37d6-5eee-4e0a-9c56-c6879935492d",
   "metadata": {},
   "source": [
    "**1. Что такое объекты, признаки, ответы? Приведите пример.**\n",
    "\n",
    "Объект $x_i \\in X$ обладает некоторым набором признаков $f_i$. Каждому объекту $x_i$ соответсвует ответ $y_i \\in Y$ определяющий решение поставленной задачи.<br>\n",
    "Пример - Задача нахождения спам-писем:\n",
    "- *объекты* - это письма\n",
    "- *признаки* - слова в письме\n",
    "- *ответы* - спам / обычное письмо<br>"
   ]
  },
  {
   "cell_type": "markdown",
   "id": "7713c852-1d91-42e8-957e-c48fb70282db",
   "metadata": {},
   "source": [
    "**2. Какие данные содержатся в матрице «объектов–признаков»?**\n",
    "\n",
    "Матрица «объектов–признаков» содержит векторное представление признаков всех объектов обучающей выборки, записанных в виде таблицы размера l×n, где l – количество объектов,  а  n – количество признаков.<br> \n",
    "$$\\begin{pmatrix} f_1(x_1) & ... & f_n(x_1) \\\\ & ... &  \\\\ f_1(x_l) & ... & f_n(x_l) \\end{pmatrix}$$\n",
    "Ей соответствует вектор известных ответов:<br>\n",
    "$$\\begin{pmatrix} y(x_1) \\\\ ... \\\\ y(x_l) \\end{pmatrix}$$"
   ]
  },
  {
   "cell_type": "markdown",
   "id": "71cefde5-637f-40d2-af81-3d68205e2801",
   "metadata": {},
   "source": [
    "**3. Что такое модель алгоритмов и метод обучения?**\n",
    "\n",
    "Моделью алгоритмов называется параметрическое семейство отображений\n",
    "\\begin{equation} A = \\{g(x,\\theta)|\\theta\\in\\Theta\\}, \\end{equation}\n",
    "где $g(x,\\theta)$ некоторая фиксированная функция от $x$, с набором параметров $\\theta\\in\\Theta$. $\\Theta$ – называется  пространством  параметров  или  пространством  поиска.<br>\n",
    "Метод обучения совершает подбор параметров $\\theta$. "
   ]
  },
  {
   "cell_type": "markdown",
   "id": "2f80ceef-e90d-4b80-a8da-220cc56384e1",
   "metadata": {},
   "source": [
    "**4. Какие два этапа можно выделить в задачах обучения?**\n",
    "\n",
    "В задачах машинного обучения различают два этапа:<br>\n",
    "1) На этапе обучения метод строит алгоритм $a$. <br>\n",
    "2) На этапе применения алгоритм $a$ для новых объектов $x$ выдаёт ответы $y = a(x)$.<br>"
   ]
  },
  {
   "cell_type": "markdown",
   "id": "fb7bf2af-1ceb-4169-8612-c0a885eb8fd8",
   "metadata": {},
   "source": [
    "**5. Что такое переобучение? Как с ним бороться?**\n",
    "\n",
    "Когда качество работы алгоритма на новых объектах, не вошедших в состав обучения, оказывается существенно хуже, чем на обучающей выборке, говорят об эффекте переобучения (overtraining).<br>\n",
    "Чтобы избежать переобучения, применяют методы регуляризации и нормализации данных. Обучающую выборку делят на mini-batch."
   ]
  },
  {
   "cell_type": "markdown",
   "id": "238057fc-83a0-4696-8553-b45ada857813",
   "metadata": {},
   "source": [
    "## **II. Метод решающих деревьев**"
   ]
  },
  {
   "cell_type": "markdown",
   "id": "50b7edd5-54c8-4ad9-83b5-a559c4392cb3",
   "metadata": {},
   "source": [
    "**1. Как строится решающее дерево?**\n",
    "\n",
    "Метод решающих деревьев (decision tree) является универсальным алгоритмом машинного обучения, которым можно решать задачами классификации и регрессии, включая даже многовыходовые задачи.\n",
    "Базируясь на признаках в обучающем наборе, модель на основе решающего дерева обучается последовательности вопросов, чтобы выводить метки классов в качестве выходных данных. <br>\n",
    "\n",
    "Используя алгоритм принятия решения, мы начинаем с корня дерева и разбиваем данные по признаку, который дает в результате наибольший прирост информации information gain. <br>\n",
    "\n",
    "В рамках итерационного процесса мы повторяем описанную процедуру разбиения в каждом узле, пока все образцы в каждом узле не будут принадлежать тому же самому классу. На практике результатом может оказаться очень глубокое дерево с многочисленными узлами, что легко способно привести к переобучению. Для предотвращения переобучения Воодятся ограничения на максимальную глубину дерева и другие параметры."
   ]
  },
  {
   "cell_type": "markdown",
   "id": "e25d9496-9b0f-4e5f-a1e0-25328b05af10",
   "metadata": {},
   "source": [
    "**2. Какие критерии разбиения используются при построении деревьев?**\n",
    "Для того чтобы разделить узлы в самых информативных признаках, применяются 3 разных критерия:\n",
    "- Критерий Джини ($I_G$),\n",
    "- Энтропийный критерий ($I_H$) \n",
    "- Ошибка классификации ($I_E$)\n",
    "\n",
    "Пусть $p(i|t)$ - доля объектов класса i попавших в вершину t.<br>\n",
    "Данные критерии необходимо минимизировать.\n",
    "\n",
    "**Критерий Джини**\n",
    "\\begin{equation} I_G(t) = \\sum_{i=1}^{c}p(i|t)(1-p(i|t)) \\end{equation}\n",
    "\n",
    "**Энтропийный критерий**\n",
    "\\begin{equation} I_H(t) = -\\sum_{i=1}^{c}p(i|t)\\log_2p(i|t) \\end{equation}\n",
    "\n",
    "**Ошибка классификации**\n",
    "\\begin{equation} I_E(t) = 1 - \\max\\{p(i|t)\\} \\end{equation} "
   ]
  },
  {
   "cell_type": "markdown",
   "id": "665704c2-b8d6-40b1-9ddc-2b37582397d4",
   "metadata": {},
   "source": [
    "**3. Какие преимущества и недостатки метода?**\n",
    "Деревья позволяют восстанавливать нелинейные зависимости произвольной сложности. После построения дерева, можно оценить важность признаков (feature_importances), т.е. выделить те признаки, которые больше всего участвовали при построении дерева.\n",
    "\n",
    "Недостатком решающих деревьев является их переобучение при отсутствии ограничений  на  деревья."
   ]
  },
  {
   "cell_type": "markdown",
   "id": "cd17da24-2ca7-404a-aced-a17cc77b358b",
   "metadata": {},
   "source": [
    "## **III. Выполните задание из в файла \"2_statement-importance.pdf\"**"
   ]
  },
  {
   "cell_type": "code",
   "execution_count": 17,
   "id": "42ebcbe6-6029-4470-b5c6-6245f1d47b3d",
   "metadata": {},
   "outputs": [],
   "source": [
    "import pandas as pd\n",
    "import numpy as np\n",
    "from sklearn.tree import DecisionTreeClassifier"
   ]
  },
  {
   "cell_type": "code",
   "execution_count": 21,
   "id": "4bcc5367-0af7-4a71-916d-59caf8bf0ac7",
   "metadata": {},
   "outputs": [
    {
     "data": {
      "text/html": [
       "<div>\n",
       "<style scoped>\n",
       "    .dataframe tbody tr th:only-of-type {\n",
       "        vertical-align: middle;\n",
       "    }\n",
       "\n",
       "    .dataframe tbody tr th {\n",
       "        vertical-align: top;\n",
       "    }\n",
       "\n",
       "    .dataframe thead th {\n",
       "        text-align: right;\n",
       "    }\n",
       "</style>\n",
       "<table border=\"1\" class=\"dataframe\">\n",
       "  <thead>\n",
       "    <tr style=\"text-align: right;\">\n",
       "      <th></th>\n",
       "      <th>Survived</th>\n",
       "      <th>Pclass</th>\n",
       "      <th>Name</th>\n",
       "      <th>Sex</th>\n",
       "      <th>Age</th>\n",
       "      <th>SibSp</th>\n",
       "      <th>Parch</th>\n",
       "      <th>Ticket</th>\n",
       "      <th>Fare</th>\n",
       "      <th>Cabin</th>\n",
       "      <th>Embarked</th>\n",
       "    </tr>\n",
       "    <tr>\n",
       "      <th>PassengerId</th>\n",
       "      <th></th>\n",
       "      <th></th>\n",
       "      <th></th>\n",
       "      <th></th>\n",
       "      <th></th>\n",
       "      <th></th>\n",
       "      <th></th>\n",
       "      <th></th>\n",
       "      <th></th>\n",
       "      <th></th>\n",
       "      <th></th>\n",
       "    </tr>\n",
       "  </thead>\n",
       "  <tbody>\n",
       "    <tr>\n",
       "      <th>1</th>\n",
       "      <td>0</td>\n",
       "      <td>3</td>\n",
       "      <td>Braund, Mr. Owen Harris</td>\n",
       "      <td>male</td>\n",
       "      <td>22.0</td>\n",
       "      <td>1</td>\n",
       "      <td>0</td>\n",
       "      <td>A/5 21171</td>\n",
       "      <td>7.2500</td>\n",
       "      <td>NaN</td>\n",
       "      <td>S</td>\n",
       "    </tr>\n",
       "    <tr>\n",
       "      <th>2</th>\n",
       "      <td>1</td>\n",
       "      <td>1</td>\n",
       "      <td>Cumings, Mrs. John Bradley (Florence Briggs Th...</td>\n",
       "      <td>female</td>\n",
       "      <td>38.0</td>\n",
       "      <td>1</td>\n",
       "      <td>0</td>\n",
       "      <td>PC 17599</td>\n",
       "      <td>71.2833</td>\n",
       "      <td>C85</td>\n",
       "      <td>C</td>\n",
       "    </tr>\n",
       "    <tr>\n",
       "      <th>3</th>\n",
       "      <td>1</td>\n",
       "      <td>3</td>\n",
       "      <td>Heikkinen, Miss. Laina</td>\n",
       "      <td>female</td>\n",
       "      <td>26.0</td>\n",
       "      <td>0</td>\n",
       "      <td>0</td>\n",
       "      <td>STON/O2. 3101282</td>\n",
       "      <td>7.9250</td>\n",
       "      <td>NaN</td>\n",
       "      <td>S</td>\n",
       "    </tr>\n",
       "  </tbody>\n",
       "</table>\n",
       "</div>"
      ],
      "text/plain": [
       "             Survived  Pclass  \\\n",
       "PassengerId                     \n",
       "1                   0       3   \n",
       "2                   1       1   \n",
       "3                   1       3   \n",
       "\n",
       "                                                          Name     Sex   Age  \\\n",
       "PassengerId                                                                    \n",
       "1                                      Braund, Mr. Owen Harris    male  22.0   \n",
       "2            Cumings, Mrs. John Bradley (Florence Briggs Th...  female  38.0   \n",
       "3                                       Heikkinen, Miss. Laina  female  26.0   \n",
       "\n",
       "             SibSp  Parch            Ticket     Fare Cabin Embarked  \n",
       "PassengerId                                                          \n",
       "1                1      0         A/5 21171   7.2500   NaN        S  \n",
       "2                1      0          PC 17599  71.2833   C85        C  \n",
       "3                0      0  STON/O2. 3101282   7.9250   NaN        S  "
      ]
     },
     "execution_count": 21,
     "metadata": {},
     "output_type": "execute_result"
    }
   ],
   "source": [
    "df = pd.read_csv('titanic.csv', index_col='PassengerId')\n",
    "df.head(3)"
   ]
  },
  {
   "cell_type": "code",
   "execution_count": 22,
   "id": "7a86b60b-3009-4d3d-ae2f-56bd2238158b",
   "metadata": {},
   "outputs": [
    {
     "data": {
      "text/html": [
       "<div>\n",
       "<style scoped>\n",
       "    .dataframe tbody tr th:only-of-type {\n",
       "        vertical-align: middle;\n",
       "    }\n",
       "\n",
       "    .dataframe tbody tr th {\n",
       "        vertical-align: top;\n",
       "    }\n",
       "\n",
       "    .dataframe thead th {\n",
       "        text-align: right;\n",
       "    }\n",
       "</style>\n",
       "<table border=\"1\" class=\"dataframe\">\n",
       "  <thead>\n",
       "    <tr style=\"text-align: right;\">\n",
       "      <th></th>\n",
       "      <th>Survived</th>\n",
       "      <th>Pclass</th>\n",
       "      <th>Sex</th>\n",
       "      <th>Age</th>\n",
       "      <th>Fare</th>\n",
       "    </tr>\n",
       "    <tr>\n",
       "      <th>PassengerId</th>\n",
       "      <th></th>\n",
       "      <th></th>\n",
       "      <th></th>\n",
       "      <th></th>\n",
       "      <th></th>\n",
       "    </tr>\n",
       "  </thead>\n",
       "  <tbody>\n",
       "    <tr>\n",
       "      <th>1</th>\n",
       "      <td>0</td>\n",
       "      <td>3</td>\n",
       "      <td>male</td>\n",
       "      <td>22.0</td>\n",
       "      <td>7.2500</td>\n",
       "    </tr>\n",
       "    <tr>\n",
       "      <th>2</th>\n",
       "      <td>1</td>\n",
       "      <td>1</td>\n",
       "      <td>female</td>\n",
       "      <td>38.0</td>\n",
       "      <td>71.2833</td>\n",
       "    </tr>\n",
       "    <tr>\n",
       "      <th>3</th>\n",
       "      <td>1</td>\n",
       "      <td>3</td>\n",
       "      <td>female</td>\n",
       "      <td>26.0</td>\n",
       "      <td>7.9250</td>\n",
       "    </tr>\n",
       "  </tbody>\n",
       "</table>\n",
       "</div>"
      ],
      "text/plain": [
       "             Survived  Pclass     Sex   Age     Fare\n",
       "PassengerId                                         \n",
       "1                   0       3    male  22.0   7.2500\n",
       "2                   1       1  female  38.0  71.2833\n",
       "3                   1       3  female  26.0   7.9250"
      ]
     },
     "execution_count": 22,
     "metadata": {},
     "output_type": "execute_result"
    }
   ],
   "source": [
    "df = df.drop([\"Name\", \"SibSp\", \"Ticket\", \"Cabin\", \"Embarked\", \"Parch\"], axis=1)\n",
    "df = df.dropna()\n",
    "df.head(3)"
   ]
  },
  {
   "cell_type": "code",
   "execution_count": 23,
   "id": "3034d83c-97b2-4800-a1c6-18ba8dda26d4",
   "metadata": {},
   "outputs": [
    {
     "data": {
      "text/html": [
       "<div>\n",
       "<style scoped>\n",
       "    .dataframe tbody tr th:only-of-type {\n",
       "        vertical-align: middle;\n",
       "    }\n",
       "\n",
       "    .dataframe tbody tr th {\n",
       "        vertical-align: top;\n",
       "    }\n",
       "\n",
       "    .dataframe thead th {\n",
       "        text-align: right;\n",
       "    }\n",
       "</style>\n",
       "<table border=\"1\" class=\"dataframe\">\n",
       "  <thead>\n",
       "    <tr style=\"text-align: right;\">\n",
       "      <th></th>\n",
       "      <th>Pclass</th>\n",
       "      <th>Fare</th>\n",
       "      <th>Age</th>\n",
       "      <th>Sex</th>\n",
       "    </tr>\n",
       "    <tr>\n",
       "      <th>PassengerId</th>\n",
       "      <th></th>\n",
       "      <th></th>\n",
       "      <th></th>\n",
       "      <th></th>\n",
       "    </tr>\n",
       "  </thead>\n",
       "  <tbody>\n",
       "    <tr>\n",
       "      <th>1</th>\n",
       "      <td>3</td>\n",
       "      <td>7.2500</td>\n",
       "      <td>22.0</td>\n",
       "      <td>0</td>\n",
       "    </tr>\n",
       "    <tr>\n",
       "      <th>2</th>\n",
       "      <td>1</td>\n",
       "      <td>71.2833</td>\n",
       "      <td>38.0</td>\n",
       "      <td>1</td>\n",
       "    </tr>\n",
       "    <tr>\n",
       "      <th>3</th>\n",
       "      <td>3</td>\n",
       "      <td>7.9250</td>\n",
       "      <td>26.0</td>\n",
       "      <td>1</td>\n",
       "    </tr>\n",
       "  </tbody>\n",
       "</table>\n",
       "</div>"
      ],
      "text/plain": [
       "             Pclass     Fare   Age  Sex\n",
       "PassengerId                            \n",
       "1                 3   7.2500  22.0    0\n",
       "2                 1  71.2833  38.0    1\n",
       "3                 3   7.9250  26.0    1"
      ]
     },
     "execution_count": 23,
     "metadata": {},
     "output_type": "execute_result"
    }
   ],
   "source": [
    "x = df[[\"Pclass\", \"Fare\", \"Age\", \"Sex\"]].replace(\"male\", 0).replace(\"female\", 1)\n",
    "x.head(3)"
   ]
  },
  {
   "cell_type": "code",
   "execution_count": 24,
   "id": "68ab0a68-2608-49ef-b086-53a232653550",
   "metadata": {},
   "outputs": [
    {
     "data": {
      "text/plain": [
       "PassengerId\n",
       "1    0\n",
       "2    1\n",
       "3    1\n",
       "Name: Survived, dtype: int64"
      ]
     },
     "execution_count": 24,
     "metadata": {},
     "output_type": "execute_result"
    }
   ],
   "source": [
    "y = df['Survived']\n",
    "y.head(3)"
   ]
  },
  {
   "cell_type": "code",
   "execution_count": 30,
   "id": "324c7387-812d-4ea1-9910-a7462b94005f",
   "metadata": {},
   "outputs": [
    {
     "data": {
      "text/html": [
       "<style>#sk-container-id-3 {color: black;background-color: white;}#sk-container-id-3 pre{padding: 0;}#sk-container-id-3 div.sk-toggleable {background-color: white;}#sk-container-id-3 label.sk-toggleable__label {cursor: pointer;display: block;width: 100%;margin-bottom: 0;padding: 0.3em;box-sizing: border-box;text-align: center;}#sk-container-id-3 label.sk-toggleable__label-arrow:before {content: \"▸\";float: left;margin-right: 0.25em;color: #696969;}#sk-container-id-3 label.sk-toggleable__label-arrow:hover:before {color: black;}#sk-container-id-3 div.sk-estimator:hover label.sk-toggleable__label-arrow:before {color: black;}#sk-container-id-3 div.sk-toggleable__content {max-height: 0;max-width: 0;overflow: hidden;text-align: left;background-color: #f0f8ff;}#sk-container-id-3 div.sk-toggleable__content pre {margin: 0.2em;color: black;border-radius: 0.25em;background-color: #f0f8ff;}#sk-container-id-3 input.sk-toggleable__control:checked~div.sk-toggleable__content {max-height: 200px;max-width: 100%;overflow: auto;}#sk-container-id-3 input.sk-toggleable__control:checked~label.sk-toggleable__label-arrow:before {content: \"▾\";}#sk-container-id-3 div.sk-estimator input.sk-toggleable__control:checked~label.sk-toggleable__label {background-color: #d4ebff;}#sk-container-id-3 div.sk-label input.sk-toggleable__control:checked~label.sk-toggleable__label {background-color: #d4ebff;}#sk-container-id-3 input.sk-hidden--visually {border: 0;clip: rect(1px 1px 1px 1px);clip: rect(1px, 1px, 1px, 1px);height: 1px;margin: -1px;overflow: hidden;padding: 0;position: absolute;width: 1px;}#sk-container-id-3 div.sk-estimator {font-family: monospace;background-color: #f0f8ff;border: 1px dotted black;border-radius: 0.25em;box-sizing: border-box;margin-bottom: 0.5em;}#sk-container-id-3 div.sk-estimator:hover {background-color: #d4ebff;}#sk-container-id-3 div.sk-parallel-item::after {content: \"\";width: 100%;border-bottom: 1px solid gray;flex-grow: 1;}#sk-container-id-3 div.sk-label:hover label.sk-toggleable__label {background-color: #d4ebff;}#sk-container-id-3 div.sk-serial::before {content: \"\";position: absolute;border-left: 1px solid gray;box-sizing: border-box;top: 0;bottom: 0;left: 50%;z-index: 0;}#sk-container-id-3 div.sk-serial {display: flex;flex-direction: column;align-items: center;background-color: white;padding-right: 0.2em;padding-left: 0.2em;position: relative;}#sk-container-id-3 div.sk-item {position: relative;z-index: 1;}#sk-container-id-3 div.sk-parallel {display: flex;align-items: stretch;justify-content: center;background-color: white;position: relative;}#sk-container-id-3 div.sk-item::before, #sk-container-id-3 div.sk-parallel-item::before {content: \"\";position: absolute;border-left: 1px solid gray;box-sizing: border-box;top: 0;bottom: 0;left: 50%;z-index: -1;}#sk-container-id-3 div.sk-parallel-item {display: flex;flex-direction: column;z-index: 1;position: relative;background-color: white;}#sk-container-id-3 div.sk-parallel-item:first-child::after {align-self: flex-end;width: 50%;}#sk-container-id-3 div.sk-parallel-item:last-child::after {align-self: flex-start;width: 50%;}#sk-container-id-3 div.sk-parallel-item:only-child::after {width: 0;}#sk-container-id-3 div.sk-dashed-wrapped {border: 1px dashed gray;margin: 0 0.4em 0.5em 0.4em;box-sizing: border-box;padding-bottom: 0.4em;background-color: white;}#sk-container-id-3 div.sk-label label {font-family: monospace;font-weight: bold;display: inline-block;line-height: 1.2em;}#sk-container-id-3 div.sk-label-container {text-align: center;}#sk-container-id-3 div.sk-container {/* jupyter's `normalize.less` sets `[hidden] { display: none; }` but bootstrap.min.css set `[hidden] { display: none !important; }` so we also need the `!important` here to be able to override the default hidden behavior on the sphinx rendered scikit-learn.org. See: https://github.com/scikit-learn/scikit-learn/issues/21755 */display: inline-block !important;position: relative;}#sk-container-id-3 div.sk-text-repr-fallback {display: none;}</style><div id=\"sk-container-id-3\" class=\"sk-top-container\"><div class=\"sk-text-repr-fallback\"><pre>DecisionTreeClassifier(random_state=42)</pre><b>In a Jupyter environment, please rerun this cell to show the HTML representation or trust the notebook. <br />On GitHub, the HTML representation is unable to render, please try loading this page with nbviewer.org.</b></div><div class=\"sk-container\" hidden><div class=\"sk-item\"><div class=\"sk-estimator sk-toggleable\"><input class=\"sk-toggleable__control sk-hidden--visually\" id=\"sk-estimator-id-3\" type=\"checkbox\" checked><label for=\"sk-estimator-id-3\" class=\"sk-toggleable__label sk-toggleable__label-arrow\">DecisionTreeClassifier</label><div class=\"sk-toggleable__content\"><pre>DecisionTreeClassifier(random_state=42)</pre></div></div></div></div></div>"
      ],
      "text/plain": [
       "DecisionTreeClassifier(random_state=42)"
      ]
     },
     "execution_count": 30,
     "metadata": {},
     "output_type": "execute_result"
    }
   ],
   "source": [
    "model = DecisionTreeClassifier(random_state=42)\n",
    "model.fit(x, y)"
   ]
  },
  {
   "cell_type": "code",
   "execution_count": 31,
   "id": "6dbb197a-ed16-4568-bb83-d74a6c3890f4",
   "metadata": {},
   "outputs": [
    {
     "data": {
      "text/plain": [
       "array([0.14651644, 0.30948502, 0.24348633, 0.30051221])"
      ]
     },
     "execution_count": 31,
     "metadata": {},
     "output_type": "execute_result"
    }
   ],
   "source": [
    "model.feature_importances_"
   ]
  },
  {
   "cell_type": "code",
   "execution_count": 33,
   "id": "bbc0e067-58dc-4888-9983-f423f43e0186",
   "metadata": {},
   "outputs": [
    {
     "name": "stdout",
     "output_type": "stream",
     "text": [
      "Fare, Sex\n"
     ]
    }
   ],
   "source": [
    "features = pd.DataFrame(model.feature_importances_, index = x.columns.to_list()).sort_values(by=0)\n",
    "print(features.index.values[-1], features.index.values[-2], sep = ', ')"
   ]
  },
  {
   "cell_type": "code",
   "execution_count": null,
   "id": "b0139366-e545-4721-87c5-193369ed6437",
   "metadata": {},
   "outputs": [],
   "source": []
  }
 ],
 "metadata": {
  "kernelspec": {
   "display_name": "Python 3 (ipykernel)",
   "language": "python",
   "name": "python3"
  },
  "language_info": {
   "codemirror_mode": {
    "name": "ipython",
    "version": 3
   },
   "file_extension": ".py",
   "mimetype": "text/x-python",
   "name": "python",
   "nbconvert_exporter": "python",
   "pygments_lexer": "ipython3",
   "version": "3.10.6"
  }
 },
 "nbformat": 4,
 "nbformat_minor": 5
}
